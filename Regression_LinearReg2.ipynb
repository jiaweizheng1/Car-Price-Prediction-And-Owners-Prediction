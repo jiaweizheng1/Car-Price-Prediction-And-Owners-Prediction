{
 "cells": [
  {
   "cell_type": "code",
   "execution_count": 143,
   "id": "bb48f52e",
   "metadata": {},
   "outputs": [],
   "source": [
    "import pandas as pd \n",
    "import numpy as np\n",
    "import seaborn as sns\n",
    "from sklearn.model_selection import train_test_split\n",
    "from sklearn.metrics import confusion_matrix, classification_report, mean_squared_error,r2_score\n",
    "from sklearn.linear_model import LinearRegression\n",
    "from sklearn.preprocessing import PolynomialFeatures"
   ]
  },
  {
   "cell_type": "code",
   "execution_count": 225,
   "id": "4ae61716",
   "metadata": {},
   "outputs": [
    {
     "data": {
      "text/html": [
       "<div>\n",
       "<style scoped>\n",
       "    .dataframe tbody tr th:only-of-type {\n",
       "        vertical-align: middle;\n",
       "    }\n",
       "\n",
       "    .dataframe tbody tr th {\n",
       "        vertical-align: top;\n",
       "    }\n",
       "\n",
       "    .dataframe thead th {\n",
       "        text-align: right;\n",
       "    }\n",
       "</style>\n",
       "<table border=\"1\" class=\"dataframe\">\n",
       "  <thead>\n",
       "    <tr style=\"text-align: right;\">\n",
       "      <th></th>\n",
       "      <th>Selling_Price</th>\n",
       "      <th>km_driven</th>\n",
       "      <th>owner</th>\n",
       "      <th>Age</th>\n",
       "      <th>fuel_Diesel</th>\n",
       "      <th>fuel_Petrol</th>\n",
       "      <th>seller_type_Dealer</th>\n",
       "      <th>seller_type_Individual</th>\n",
       "      <th>transmission_Manual</th>\n",
       "    </tr>\n",
       "  </thead>\n",
       "  <tbody>\n",
       "    <tr>\n",
       "      <th>0</th>\n",
       "      <td>4.778151</td>\n",
       "      <td>4.845098</td>\n",
       "      <td>0</td>\n",
       "      <td>16</td>\n",
       "      <td>0</td>\n",
       "      <td>1</td>\n",
       "      <td>0</td>\n",
       "      <td>1</td>\n",
       "      <td>1</td>\n",
       "    </tr>\n",
       "    <tr>\n",
       "      <th>1</th>\n",
       "      <td>5.130334</td>\n",
       "      <td>4.698970</td>\n",
       "      <td>0</td>\n",
       "      <td>16</td>\n",
       "      <td>0</td>\n",
       "      <td>1</td>\n",
       "      <td>0</td>\n",
       "      <td>1</td>\n",
       "      <td>1</td>\n",
       "    </tr>\n",
       "    <tr>\n",
       "      <th>2</th>\n",
       "      <td>5.778151</td>\n",
       "      <td>5.000000</td>\n",
       "      <td>0</td>\n",
       "      <td>11</td>\n",
       "      <td>1</td>\n",
       "      <td>0</td>\n",
       "      <td>0</td>\n",
       "      <td>1</td>\n",
       "      <td>1</td>\n",
       "    </tr>\n",
       "    <tr>\n",
       "      <th>3</th>\n",
       "      <td>5.397940</td>\n",
       "      <td>4.662758</td>\n",
       "      <td>0</td>\n",
       "      <td>6</td>\n",
       "      <td>0</td>\n",
       "      <td>1</td>\n",
       "      <td>0</td>\n",
       "      <td>1</td>\n",
       "      <td>1</td>\n",
       "    </tr>\n",
       "    <tr>\n",
       "      <th>4</th>\n",
       "      <td>5.653213</td>\n",
       "      <td>5.149219</td>\n",
       "      <td>1</td>\n",
       "      <td>9</td>\n",
       "      <td>1</td>\n",
       "      <td>0</td>\n",
       "      <td>0</td>\n",
       "      <td>1</td>\n",
       "      <td>1</td>\n",
       "    </tr>\n",
       "    <tr>\n",
       "      <th>...</th>\n",
       "      <td>...</td>\n",
       "      <td>...</td>\n",
       "      <td>...</td>\n",
       "      <td>...</td>\n",
       "      <td>...</td>\n",
       "      <td>...</td>\n",
       "      <td>...</td>\n",
       "      <td>...</td>\n",
       "      <td>...</td>\n",
       "    </tr>\n",
       "    <tr>\n",
       "      <th>4335</th>\n",
       "      <td>5.612783</td>\n",
       "      <td>4.903090</td>\n",
       "      <td>1</td>\n",
       "      <td>9</td>\n",
       "      <td>1</td>\n",
       "      <td>0</td>\n",
       "      <td>0</td>\n",
       "      <td>1</td>\n",
       "      <td>1</td>\n",
       "    </tr>\n",
       "    <tr>\n",
       "      <th>4336</th>\n",
       "      <td>5.612783</td>\n",
       "      <td>4.903090</td>\n",
       "      <td>1</td>\n",
       "      <td>9</td>\n",
       "      <td>1</td>\n",
       "      <td>0</td>\n",
       "      <td>0</td>\n",
       "      <td>1</td>\n",
       "      <td>1</td>\n",
       "    </tr>\n",
       "    <tr>\n",
       "      <th>4337</th>\n",
       "      <td>5.041393</td>\n",
       "      <td>4.919078</td>\n",
       "      <td>1</td>\n",
       "      <td>14</td>\n",
       "      <td>0</td>\n",
       "      <td>1</td>\n",
       "      <td>0</td>\n",
       "      <td>1</td>\n",
       "      <td>1</td>\n",
       "    </tr>\n",
       "    <tr>\n",
       "      <th>4338</th>\n",
       "      <td>5.937016</td>\n",
       "      <td>4.954243</td>\n",
       "      <td>0</td>\n",
       "      <td>7</td>\n",
       "      <td>1</td>\n",
       "      <td>0</td>\n",
       "      <td>0</td>\n",
       "      <td>1</td>\n",
       "      <td>1</td>\n",
       "    </tr>\n",
       "    <tr>\n",
       "      <th>4339</th>\n",
       "      <td>5.352183</td>\n",
       "      <td>4.602060</td>\n",
       "      <td>0</td>\n",
       "      <td>7</td>\n",
       "      <td>0</td>\n",
       "      <td>1</td>\n",
       "      <td>0</td>\n",
       "      <td>1</td>\n",
       "      <td>1</td>\n",
       "    </tr>\n",
       "  </tbody>\n",
       "</table>\n",
       "<p>4340 rows × 9 columns</p>\n",
       "</div>"
      ],
      "text/plain": [
       "      Selling_Price  km_driven  owner  Age  fuel_Diesel  fuel_Petrol  \\\n",
       "0          4.778151   4.845098      0   16            0            1   \n",
       "1          5.130334   4.698970      0   16            0            1   \n",
       "2          5.778151   5.000000      0   11            1            0   \n",
       "3          5.397940   4.662758      0    6            0            1   \n",
       "4          5.653213   5.149219      1    9            1            0   \n",
       "...             ...        ...    ...  ...          ...          ...   \n",
       "4335       5.612783   4.903090      1    9            1            0   \n",
       "4336       5.612783   4.903090      1    9            1            0   \n",
       "4337       5.041393   4.919078      1   14            0            1   \n",
       "4338       5.937016   4.954243      0    7            1            0   \n",
       "4339       5.352183   4.602060      0    7            0            1   \n",
       "\n",
       "      seller_type_Dealer  seller_type_Individual  transmission_Manual  \n",
       "0                      0                       1                    1  \n",
       "1                      0                       1                    1  \n",
       "2                      0                       1                    1  \n",
       "3                      0                       1                    1  \n",
       "4                      0                       1                    1  \n",
       "...                  ...                     ...                  ...  \n",
       "4335                   0                       1                    1  \n",
       "4336                   0                       1                    1  \n",
       "4337                   0                       1                    1  \n",
       "4338                   0                       1                    1  \n",
       "4339                   0                       1                    1  \n",
       "\n",
       "[4340 rows x 9 columns]"
      ]
     },
     "execution_count": 225,
     "metadata": {},
     "output_type": "execute_result"
    }
   ],
   "source": [
    "df = pd.read_csv('Cars.csv').iloc[:,1:]\n",
    "sp = df.pop('selling_price')\n",
    "df.insert(0,'Selling_Price', sp)\n",
    "km = df.pop('km_driven')\n",
    "df.insert(1,'km_driven', km)\n",
    "df['Selling_Price'] = np.log10(df['Selling_Price']) #Log transform for a better fit\n",
    "df['km_driven'] = np.log10(df['km_driven']) \n",
    "df"
   ]
  },
  {
   "cell_type": "code",
   "execution_count": 204,
   "id": "7e0dceb8",
   "metadata": {},
   "outputs": [
    {
     "data": {
      "text/html": [
       "<div>\n",
       "<style scoped>\n",
       "    .dataframe tbody tr th:only-of-type {\n",
       "        vertical-align: middle;\n",
       "    }\n",
       "\n",
       "    .dataframe tbody tr th {\n",
       "        vertical-align: top;\n",
       "    }\n",
       "\n",
       "    .dataframe thead th {\n",
       "        text-align: right;\n",
       "    }\n",
       "</style>\n",
       "<table border=\"1\" class=\"dataframe\">\n",
       "  <thead>\n",
       "    <tr style=\"text-align: right;\">\n",
       "      <th></th>\n",
       "      <th>MSE test</th>\n",
       "      <th>R2 test</th>\n",
       "      <th>MSE train</th>\n",
       "      <th>R2 train</th>\n",
       "    </tr>\n",
       "  </thead>\n",
       "  <tbody>\n",
       "  </tbody>\n",
       "</table>\n",
       "</div>"
      ],
      "text/plain": [
       "Empty DataFrame\n",
       "Columns: [MSE test, R2 test, MSE train, R2 train]\n",
       "Index: []"
      ]
     },
     "execution_count": 204,
     "metadata": {},
     "output_type": "execute_result"
    }
   ],
   "source": [
    "met = pd.DataFrame(columns = ['MSE test','R2 test','MSE train','R2 train'])\n",
    "met"
   ]
  },
  {
   "cell_type": "code",
   "execution_count": 206,
   "id": "f8e8690f",
   "metadata": {},
   "outputs": [
    {
     "data": {
      "text/html": [
       "<div>\n",
       "<style scoped>\n",
       "    .dataframe tbody tr th:only-of-type {\n",
       "        vertical-align: middle;\n",
       "    }\n",
       "\n",
       "    .dataframe tbody tr th {\n",
       "        vertical-align: top;\n",
       "    }\n",
       "\n",
       "    .dataframe thead th {\n",
       "        text-align: right;\n",
       "    }\n",
       "</style>\n",
       "<table border=\"1\" class=\"dataframe\">\n",
       "  <thead>\n",
       "    <tr style=\"text-align: right;\">\n",
       "      <th></th>\n",
       "      <th>MSE test</th>\n",
       "      <th>R2 test</th>\n",
       "      <th>MSE train</th>\n",
       "      <th>R2 train</th>\n",
       "    </tr>\n",
       "  </thead>\n",
       "  <tbody>\n",
       "    <tr>\n",
       "      <th>0</th>\n",
       "      <td>1</td>\n",
       "      <td>NaN</td>\n",
       "      <td>NaN</td>\n",
       "      <td>NaN</td>\n",
       "    </tr>\n",
       "  </tbody>\n",
       "</table>\n",
       "</div>"
      ],
      "text/plain": [
       "  MSE test R2 test MSE train R2 train\n",
       "0        1     NaN       NaN      NaN"
      ]
     },
     "execution_count": 206,
     "metadata": {},
     "output_type": "execute_result"
    }
   ],
   "source": [
    "met"
   ]
  },
  {
   "cell_type": "code",
   "execution_count": 219,
   "id": "a07902a9",
   "metadata": {},
   "outputs": [],
   "source": [
    "met = pd.DataFrame(columns = ['MSE test','R2 test','MSE train','R2 train'])\n",
    "for i in range(1,16):\n",
    "    df = pd.read_csv('Cars.csv').iloc[:,1:]\n",
    "    sp = df.pop('selling_price')\n",
    "    df.insert(0,'Selling_Price', sp)\n",
    "    km = df.pop('km_driven')\n",
    "    df.insert(1,'km_driven', km)\n",
    "    df['Selling_Price'] = np.log10(df['Selling_Price']) #Log transform for a better fit\n",
    "    df['km_driven'] = np.log10(df['km_driven']) \n",
    "    X = np.array(df['km_driven']).reshape(-1, 1)\n",
    "    p = PolynomialFeatures(degree = i,include_bias = False)\n",
    "    t = p.fit_transform(X)\n",
    "    km = pd.DataFrame(t, columns = ['km_driven' + str(j) for j in range(1,i+1)])\n",
    "    df = pd.concat([df,km],axis = 1)\n",
    "    df = df.drop(columns='km_driven')\n",
    "    X_train, X_test, y_train, y_test = train_test_split(df.iloc[:,2:],df.iloc[:,0], test_size = .2, random_state = 0)\n",
    "    linreg = LinearRegression()\n",
    "    linreg.fit(X_train,y_train)\n",
    "    y_pred = linreg.predict(X_test)\n",
    "    met.loc[i,'MSE test'] = mean_squared_error(y_test,y_pred)\n",
    "    met.loc[i,'R2 test'] = r2_score(y_test,y_pred)\n",
    "    met.loc[i,'MSE train'] = mean_squared_error(y_train,linreg.predict(X_train))\n",
    "    met.loc[i,'R2 train'] = r2_score(y_train,linreg.predict(X_train))"
   ]
  },
  {
   "cell_type": "code",
   "execution_count": 217,
   "id": "09f9d934",
   "metadata": {},
   "outputs": [],
   "source": [
    "met = pd.DataFrame(columns = ['MSE test','R2 test','MSE train','R2 train'])\n",
    "for i in range(1,16):\n",
    "    df = pd.read_csv('Cars.csv').iloc[:,1:]\n",
    "    sp = df.pop('selling_price')\n",
    "    df.insert(0,'Selling_Price', sp)\n",
    "    km = df.pop('km_driven')\n",
    "    df.insert(1,'km_driven', km)\n",
    "    df['Selling_Price'] = np.log10(df['Selling_Price']) #Log transform for a better fit\n",
    "    df['km_driven'] = np.log10(df['km_driven']) \n",
    "    X = np.array(df['Age']).reshape(-1, 1)\n",
    "    p = PolynomialFeatures(degree = i,include_bias = False)\n",
    "    t = p.fit_transform(X)\n",
    "    km = pd.DataFrame(t, columns = ['Age' + str(j) for j in range(1,i+1)])\n",
    "    df = pd.concat([df,km],axis = 1)\n",
    "    df = df.drop(columns='Age')\n",
    "    X_train, X_test, y_train, y_test = train_test_split(df.iloc[:,2:],df.iloc[:,0], test_size = .2, random_state = 0)\n",
    "    linreg = LinearRegression()\n",
    "    linreg.fit(X_train,y_train)\n",
    "    y_pred = linreg.predict(X_test)\n",
    "    met.loc[i,'MSE test'] = mean_squared_error(y_test,y_pred)\n",
    "    met.loc[i,'R2 test'] = r2_score(y_test,y_pred)\n",
    "    met.loc[i,'MSE train'] = mean_squared_error(y_train,linreg.predict(X_train))\n",
    "    met.loc[i,'R2 train'] = r2_score(y_train,linreg.predict(X_train))"
   ]
  },
  {
   "cell_type": "code",
   "execution_count": 218,
   "id": "ee6de3fd",
   "metadata": {},
   "outputs": [
    {
     "data": {
      "text/html": [
       "<div>\n",
       "<style scoped>\n",
       "    .dataframe tbody tr th:only-of-type {\n",
       "        vertical-align: middle;\n",
       "    }\n",
       "\n",
       "    .dataframe tbody tr th {\n",
       "        vertical-align: top;\n",
       "    }\n",
       "\n",
       "    .dataframe thead th {\n",
       "        text-align: right;\n",
       "    }\n",
       "</style>\n",
       "<table border=\"1\" class=\"dataframe\">\n",
       "  <thead>\n",
       "    <tr style=\"text-align: right;\">\n",
       "      <th></th>\n",
       "      <th>MSE test</th>\n",
       "      <th>R2 test</th>\n",
       "      <th>MSE train</th>\n",
       "      <th>R2 train</th>\n",
       "    </tr>\n",
       "  </thead>\n",
       "  <tbody>\n",
       "    <tr>\n",
       "      <th>1</th>\n",
       "      <td>0.043174</td>\n",
       "      <td>0.686521</td>\n",
       "      <td>0.04153</td>\n",
       "      <td>0.684309</td>\n",
       "    </tr>\n",
       "    <tr>\n",
       "      <th>2</th>\n",
       "      <td>0.041857</td>\n",
       "      <td>0.696085</td>\n",
       "      <td>0.04112</td>\n",
       "      <td>0.687428</td>\n",
       "    </tr>\n",
       "    <tr>\n",
       "      <th>3</th>\n",
       "      <td>0.041518</td>\n",
       "      <td>0.698541</td>\n",
       "      <td>0.040958</td>\n",
       "      <td>0.688657</td>\n",
       "    </tr>\n",
       "    <tr>\n",
       "      <th>4</th>\n",
       "      <td>0.041619</td>\n",
       "      <td>0.697812</td>\n",
       "      <td>0.040943</td>\n",
       "      <td>0.688775</td>\n",
       "    </tr>\n",
       "    <tr>\n",
       "      <th>5</th>\n",
       "      <td>0.041547</td>\n",
       "      <td>0.698331</td>\n",
       "      <td>0.040936</td>\n",
       "      <td>0.688828</td>\n",
       "    </tr>\n",
       "    <tr>\n",
       "      <th>6</th>\n",
       "      <td>0.041557</td>\n",
       "      <td>0.698258</td>\n",
       "      <td>0.040936</td>\n",
       "      <td>0.688828</td>\n",
       "    </tr>\n",
       "    <tr>\n",
       "      <th>7</th>\n",
       "      <td>0.041522</td>\n",
       "      <td>0.698515</td>\n",
       "      <td>0.040932</td>\n",
       "      <td>0.688859</td>\n",
       "    </tr>\n",
       "    <tr>\n",
       "      <th>8</th>\n",
       "      <td>0.041551</td>\n",
       "      <td>0.698305</td>\n",
       "      <td>0.040931</td>\n",
       "      <td>0.688865</td>\n",
       "    </tr>\n",
       "    <tr>\n",
       "      <th>9</th>\n",
       "      <td>0.041518</td>\n",
       "      <td>0.698546</td>\n",
       "      <td>0.040927</td>\n",
       "      <td>0.6889</td>\n",
       "    </tr>\n",
       "    <tr>\n",
       "      <th>10</th>\n",
       "      <td>0.041656</td>\n",
       "      <td>0.69754</td>\n",
       "      <td>0.040916</td>\n",
       "      <td>0.688983</td>\n",
       "    </tr>\n",
       "    <tr>\n",
       "      <th>11</th>\n",
       "      <td>0.04304</td>\n",
       "      <td>0.687491</td>\n",
       "      <td>0.041687</td>\n",
       "      <td>0.683118</td>\n",
       "    </tr>\n",
       "    <tr>\n",
       "      <th>12</th>\n",
       "      <td>0.071023</td>\n",
       "      <td>0.484307</td>\n",
       "      <td>0.066317</td>\n",
       "      <td>0.495895</td>\n",
       "    </tr>\n",
       "    <tr>\n",
       "      <th>13</th>\n",
       "      <td>0.07113</td>\n",
       "      <td>0.483535</td>\n",
       "      <td>0.066377</td>\n",
       "      <td>0.49544</td>\n",
       "    </tr>\n",
       "    <tr>\n",
       "      <th>14</th>\n",
       "      <td>0.071475</td>\n",
       "      <td>0.481025</td>\n",
       "      <td>0.066489</td>\n",
       "      <td>0.494589</td>\n",
       "    </tr>\n",
       "    <tr>\n",
       "      <th>15</th>\n",
       "      <td>0.07196</td>\n",
       "      <td>0.47751</td>\n",
       "      <td>0.06668</td>\n",
       "      <td>0.49314</td>\n",
       "    </tr>\n",
       "  </tbody>\n",
       "</table>\n",
       "</div>"
      ],
      "text/plain": [
       "    MSE test   R2 test MSE train  R2 train\n",
       "1   0.043174  0.686521   0.04153  0.684309\n",
       "2   0.041857  0.696085   0.04112  0.687428\n",
       "3   0.041518  0.698541  0.040958  0.688657\n",
       "4   0.041619  0.697812  0.040943  0.688775\n",
       "5   0.041547  0.698331  0.040936  0.688828\n",
       "6   0.041557  0.698258  0.040936  0.688828\n",
       "7   0.041522  0.698515  0.040932  0.688859\n",
       "8   0.041551  0.698305  0.040931  0.688865\n",
       "9   0.041518  0.698546  0.040927    0.6889\n",
       "10  0.041656   0.69754  0.040916  0.688983\n",
       "11   0.04304  0.687491  0.041687  0.683118\n",
       "12  0.071023  0.484307  0.066317  0.495895\n",
       "13   0.07113  0.483535  0.066377   0.49544\n",
       "14  0.071475  0.481025  0.066489  0.494589\n",
       "15   0.07196   0.47751   0.06668   0.49314"
      ]
     },
     "execution_count": 218,
     "metadata": {},
     "output_type": "execute_result"
    }
   ],
   "source": [
    "met # For Age degree 2 seems best"
   ]
  },
  {
   "cell_type": "code",
   "execution_count": 220,
   "id": "6c89a4e4",
   "metadata": {},
   "outputs": [
    {
     "data": {
      "text/html": [
       "<div>\n",
       "<style scoped>\n",
       "    .dataframe tbody tr th:only-of-type {\n",
       "        vertical-align: middle;\n",
       "    }\n",
       "\n",
       "    .dataframe tbody tr th {\n",
       "        vertical-align: top;\n",
       "    }\n",
       "\n",
       "    .dataframe thead th {\n",
       "        text-align: right;\n",
       "    }\n",
       "</style>\n",
       "<table border=\"1\" class=\"dataframe\">\n",
       "  <thead>\n",
       "    <tr style=\"text-align: right;\">\n",
       "      <th></th>\n",
       "      <th>MSE test</th>\n",
       "      <th>R2 test</th>\n",
       "      <th>MSE train</th>\n",
       "      <th>R2 train</th>\n",
       "    </tr>\n",
       "  </thead>\n",
       "  <tbody>\n",
       "    <tr>\n",
       "      <th>1</th>\n",
       "      <td>0.042966</td>\n",
       "      <td>0.688027</td>\n",
       "      <td>0.041534</td>\n",
       "      <td>0.684283</td>\n",
       "    </tr>\n",
       "    <tr>\n",
       "      <th>2</th>\n",
       "      <td>0.042882</td>\n",
       "      <td>0.688639</td>\n",
       "      <td>0.041488</td>\n",
       "      <td>0.684634</td>\n",
       "    </tr>\n",
       "    <tr>\n",
       "      <th>3</th>\n",
       "      <td>0.042884</td>\n",
       "      <td>0.688626</td>\n",
       "      <td>0.041459</td>\n",
       "      <td>0.68485</td>\n",
       "    </tr>\n",
       "    <tr>\n",
       "      <th>4</th>\n",
       "      <td>0.042853</td>\n",
       "      <td>0.688848</td>\n",
       "      <td>0.041408</td>\n",
       "      <td>0.685237</td>\n",
       "    </tr>\n",
       "    <tr>\n",
       "      <th>5</th>\n",
       "      <td>0.04279</td>\n",
       "      <td>0.689305</td>\n",
       "      <td>0.041399</td>\n",
       "      <td>0.685311</td>\n",
       "    </tr>\n",
       "    <tr>\n",
       "      <th>6</th>\n",
       "      <td>0.042781</td>\n",
       "      <td>0.689376</td>\n",
       "      <td>0.041391</td>\n",
       "      <td>0.68537</td>\n",
       "    </tr>\n",
       "    <tr>\n",
       "      <th>7</th>\n",
       "      <td>0.04275</td>\n",
       "      <td>0.689597</td>\n",
       "      <td>0.041389</td>\n",
       "      <td>0.685381</td>\n",
       "    </tr>\n",
       "    <tr>\n",
       "      <th>8</th>\n",
       "      <td>0.04285</td>\n",
       "      <td>0.688868</td>\n",
       "      <td>0.041372</td>\n",
       "      <td>0.685512</td>\n",
       "    </tr>\n",
       "    <tr>\n",
       "      <th>9</th>\n",
       "      <td>0.042859</td>\n",
       "      <td>0.688807</td>\n",
       "      <td>0.041368</td>\n",
       "      <td>0.685541</td>\n",
       "    </tr>\n",
       "    <tr>\n",
       "      <th>10</th>\n",
       "      <td>0.042899</td>\n",
       "      <td>0.688516</td>\n",
       "      <td>0.041366</td>\n",
       "      <td>0.68556</td>\n",
       "    </tr>\n",
       "    <tr>\n",
       "      <th>11</th>\n",
       "      <td>0.042742</td>\n",
       "      <td>0.689658</td>\n",
       "      <td>0.041325</td>\n",
       "      <td>0.685868</td>\n",
       "    </tr>\n",
       "    <tr>\n",
       "      <th>12</th>\n",
       "      <td>0.042758</td>\n",
       "      <td>0.689539</td>\n",
       "      <td>0.041327</td>\n",
       "      <td>0.685858</td>\n",
       "    </tr>\n",
       "    <tr>\n",
       "      <th>13</th>\n",
       "      <td>0.04278</td>\n",
       "      <td>0.68938</td>\n",
       "      <td>0.04133</td>\n",
       "      <td>0.685835</td>\n",
       "    </tr>\n",
       "    <tr>\n",
       "      <th>14</th>\n",
       "      <td>0.042805</td>\n",
       "      <td>0.689195</td>\n",
       "      <td>0.041334</td>\n",
       "      <td>0.685805</td>\n",
       "    </tr>\n",
       "    <tr>\n",
       "      <th>15</th>\n",
       "      <td>0.042831</td>\n",
       "      <td>0.689008</td>\n",
       "      <td>0.041338</td>\n",
       "      <td>0.685775</td>\n",
       "    </tr>\n",
       "  </tbody>\n",
       "</table>\n",
       "</div>"
      ],
      "text/plain": [
       "    MSE test   R2 test MSE train  R2 train\n",
       "1   0.042966  0.688027  0.041534  0.684283\n",
       "2   0.042882  0.688639  0.041488  0.684634\n",
       "3   0.042884  0.688626  0.041459   0.68485\n",
       "4   0.042853  0.688848  0.041408  0.685237\n",
       "5    0.04279  0.689305  0.041399  0.685311\n",
       "6   0.042781  0.689376  0.041391   0.68537\n",
       "7    0.04275  0.689597  0.041389  0.685381\n",
       "8    0.04285  0.688868  0.041372  0.685512\n",
       "9   0.042859  0.688807  0.041368  0.685541\n",
       "10  0.042899  0.688516  0.041366   0.68556\n",
       "11  0.042742  0.689658  0.041325  0.685868\n",
       "12  0.042758  0.689539  0.041327  0.685858\n",
       "13   0.04278   0.68938   0.04133  0.685835\n",
       "14  0.042805  0.689195  0.041334  0.685805\n",
       "15  0.042831  0.689008  0.041338  0.685775"
      ]
     },
     "execution_count": 220,
     "metadata": {},
     "output_type": "execute_result"
    }
   ],
   "source": [
    "met # for km degree 2 seems best"
   ]
  },
  {
   "cell_type": "raw",
   "id": "90a9ecb4",
   "metadata": {},
   "source": [
    "np.log(100)"
   ]
  },
  {
   "cell_type": "code",
   "execution_count": 151,
   "id": "5e5409a4",
   "metadata": {},
   "outputs": [
    {
     "data": {
      "text/plain": [
       "<AxesSubplot:xlabel='km_driven', ylabel='Selling_Price'>"
      ]
     },
     "execution_count": 151,
     "metadata": {},
     "output_type": "execute_result"
    },
    {
     "data": {
      "image/png": "[encoded data removed]",
      "text/plain": [
       "<Figure size 432x288 with 1 Axes>"
      ]
     },
     "metadata": {
      "needs_background": "light"
     },
     "output_type": "display_data"
    }
   ],
   "source": [
    "sns.regplot(x = np.log(df['km_driven'])/np.log(100),y = np.log(df['Selling_Price'])/np.log(100))"
   ]
  },
  {
   "cell_type": "code",
   "execution_count": 85,
   "id": "6af1bd4a",
   "metadata": {},
   "outputs": [],
   "source": [
    "X_train, X_test, y_train, y_test = train_test_split(df.iloc[:,2:],df.iloc[:,0], test_size = .2, random_state = 0)"
   ]
  },
  {
   "cell_type": "code",
   "execution_count": 86,
   "id": "0e7363b2",
   "metadata": {},
   "outputs": [
    {
     "data": {
      "text/html": [
       "<div>\n",
       "<style scoped>\n",
       "    .dataframe tbody tr th:only-of-type {\n",
       "        vertical-align: middle;\n",
       "    }\n",
       "\n",
       "    .dataframe tbody tr th {\n",
       "        vertical-align: top;\n",
       "    }\n",
       "\n",
       "    .dataframe thead th {\n",
       "        text-align: right;\n",
       "    }\n",
       "</style>\n",
       "<table border=\"1\" class=\"dataframe\">\n",
       "  <thead>\n",
       "    <tr style=\"text-align: right;\">\n",
       "      <th></th>\n",
       "      <th>owner</th>\n",
       "      <th>Age</th>\n",
       "      <th>fuel_Diesel</th>\n",
       "      <th>fuel_Petrol</th>\n",
       "      <th>seller_type_Dealer</th>\n",
       "      <th>seller_type_Individual</th>\n",
       "      <th>transmission_Manual</th>\n",
       "    </tr>\n",
       "  </thead>\n",
       "  <tbody>\n",
       "    <tr>\n",
       "      <th>159</th>\n",
       "      <td>0</td>\n",
       "      <td>8</td>\n",
       "      <td>1</td>\n",
       "      <td>0</td>\n",
       "      <td>0</td>\n",
       "      <td>1</td>\n",
       "      <td>1</td>\n",
       "    </tr>\n",
       "    <tr>\n",
       "      <th>4334</th>\n",
       "      <td>0</td>\n",
       "      <td>11</td>\n",
       "      <td>1</td>\n",
       "      <td>0</td>\n",
       "      <td>0</td>\n",
       "      <td>1</td>\n",
       "      <td>1</td>\n",
       "    </tr>\n",
       "    <tr>\n",
       "      <th>1657</th>\n",
       "      <td>0</td>\n",
       "      <td>17</td>\n",
       "      <td>0</td>\n",
       "      <td>1</td>\n",
       "      <td>0</td>\n",
       "      <td>1</td>\n",
       "      <td>1</td>\n",
       "    </tr>\n",
       "    <tr>\n",
       "      <th>2188</th>\n",
       "      <td>0</td>\n",
       "      <td>8</td>\n",
       "      <td>0</td>\n",
       "      <td>1</td>\n",
       "      <td>0</td>\n",
       "      <td>0</td>\n",
       "      <td>1</td>\n",
       "    </tr>\n",
       "    <tr>\n",
       "      <th>581</th>\n",
       "      <td>0</td>\n",
       "      <td>7</td>\n",
       "      <td>0</td>\n",
       "      <td>1</td>\n",
       "      <td>1</td>\n",
       "      <td>0</td>\n",
       "      <td>1</td>\n",
       "    </tr>\n",
       "    <tr>\n",
       "      <th>...</th>\n",
       "      <td>...</td>\n",
       "      <td>...</td>\n",
       "      <td>...</td>\n",
       "      <td>...</td>\n",
       "      <td>...</td>\n",
       "      <td>...</td>\n",
       "      <td>...</td>\n",
       "    </tr>\n",
       "    <tr>\n",
       "      <th>1033</th>\n",
       "      <td>0</td>\n",
       "      <td>10</td>\n",
       "      <td>1</td>\n",
       "      <td>0</td>\n",
       "      <td>1</td>\n",
       "      <td>0</td>\n",
       "      <td>0</td>\n",
       "    </tr>\n",
       "    <tr>\n",
       "      <th>3264</th>\n",
       "      <td>0</td>\n",
       "      <td>11</td>\n",
       "      <td>1</td>\n",
       "      <td>0</td>\n",
       "      <td>0</td>\n",
       "      <td>1</td>\n",
       "      <td>1</td>\n",
       "    </tr>\n",
       "    <tr>\n",
       "      <th>1653</th>\n",
       "      <td>0</td>\n",
       "      <td>7</td>\n",
       "      <td>0</td>\n",
       "      <td>1</td>\n",
       "      <td>0</td>\n",
       "      <td>1</td>\n",
       "      <td>1</td>\n",
       "    </tr>\n",
       "    <tr>\n",
       "      <th>2607</th>\n",
       "      <td>0</td>\n",
       "      <td>8</td>\n",
       "      <td>1</td>\n",
       "      <td>0</td>\n",
       "      <td>0</td>\n",
       "      <td>1</td>\n",
       "      <td>1</td>\n",
       "    </tr>\n",
       "    <tr>\n",
       "      <th>2732</th>\n",
       "      <td>1</td>\n",
       "      <td>10</td>\n",
       "      <td>0</td>\n",
       "      <td>1</td>\n",
       "      <td>0</td>\n",
       "      <td>1</td>\n",
       "      <td>1</td>\n",
       "    </tr>\n",
       "  </tbody>\n",
       "</table>\n",
       "<p>3472 rows × 7 columns</p>\n",
       "</div>"
      ],
      "text/plain": [
       "      owner  Age  fuel_Diesel  fuel_Petrol  seller_type_Dealer  \\\n",
       "159       0    8            1            0                   0   \n",
       "4334      0   11            1            0                   0   \n",
       "1657      0   17            0            1                   0   \n",
       "2188      0    8            0            1                   0   \n",
       "581       0    7            0            1                   1   \n",
       "...     ...  ...          ...          ...                 ...   \n",
       "1033      0   10            1            0                   1   \n",
       "3264      0   11            1            0                   0   \n",
       "1653      0    7            0            1                   0   \n",
       "2607      0    8            1            0                   0   \n",
       "2732      1   10            0            1                   0   \n",
       "\n",
       "      seller_type_Individual  transmission_Manual  \n",
       "159                        1                    1  \n",
       "4334                       1                    1  \n",
       "1657                       1                    1  \n",
       "2188                       0                    1  \n",
       "581                        0                    1  \n",
       "...                      ...                  ...  \n",
       "1033                       0                    0  \n",
       "3264                       1                    1  \n",
       "1653                       1                    1  \n",
       "2607                       1                    1  \n",
       "2732                       1                    1  \n",
       "\n",
       "[3472 rows x 7 columns]"
      ]
     },
     "execution_count": 86,
     "metadata": {},
     "output_type": "execute_result"
    }
   ],
   "source": [
    "X_train"
   ]
  },
  {
   "cell_type": "code",
   "execution_count": 88,
   "id": "5f1b5d3f",
   "metadata": {},
   "outputs": [
    {
     "data": {
      "text/plain": [
       "array([-0.02548195, -0.05056274,  0.25538213,  0.04105674, -0.12529047,\n",
       "       -0.20270947, -0.3399354 ])"
      ]
     },
     "execution_count": 88,
     "metadata": {},
     "output_type": "execute_result"
    }
   ],
   "source": [
    "linreg = LinearRegression()\n",
    "linreg.fit(X_train,y_train)\n",
    "y_pred = linreg.predict(X_test)\n",
    "linreg.coef_"
   ]
  },
  {
   "cell_type": "code",
   "execution_count": 6,
   "id": "5e361767",
   "metadata": {},
   "outputs": [
    {
     "data": {
      "text/plain": [
       "0.04285275253831128"
      ]
     },
     "execution_count": 6,
     "metadata": {},
     "output_type": "execute_result"
    }
   ],
   "source": [
    "mean_squared_error(y_test,y_pred) "
   ]
  },
  {
   "cell_type": "code",
   "execution_count": 7,
   "id": "ee084cf3",
   "metadata": {},
   "outputs": [
    {
     "data": {
      "text/plain": [
       "0.6888511024093908"
      ]
     },
     "execution_count": 7,
     "metadata": {},
     "output_type": "execute_result"
    }
   ],
   "source": [
    "r2_score(y_test,y_pred) "
   ]
  },
  {
   "cell_type": "code",
   "execution_count": 8,
   "id": "5c0d72c3",
   "metadata": {},
   "outputs": [
    {
     "data": {
      "text/plain": [
       "0.0414267340083811"
      ]
     },
     "execution_count": 8,
     "metadata": {},
     "output_type": "execute_result"
    }
   ],
   "source": [
    "mean_squared_error(y_train,linreg.predict(X_train))"
   ]
  },
  {
   "cell_type": "code",
   "execution_count": 9,
   "id": "32bd541b",
   "metadata": {},
   "outputs": [
    {
     "data": {
      "text/plain": [
       "0.6850973380154"
      ]
     },
     "execution_count": 9,
     "metadata": {},
     "output_type": "execute_result"
    }
   ],
   "source": [
    "r2_score(y_train,linreg.predict(X_train))"
   ]
  },
  {
   "cell_type": "code",
   "execution_count": 224,
   "id": "fd4b3ffb",
   "metadata": {},
   "outputs": [
    {
     "data": {
      "text/plain": [
       "<AxesSubplot:xlabel='Age', ylabel='Selling_Price'>"
      ]
     },
     "execution_count": 224,
     "metadata": {},
     "output_type": "execute_result"
    },
    {
     "data": {
      "image/png": "[encoded data removed]",
      "text/plain": [
       "<Figure size 432x288 with 1 Axes>"
      ]
     },
     "metadata": {
      "needs_background": "light"
     },
     "output_type": "display_data"
    }
   ],
   "source": [
    "sns.regplot(x = X_train['Age'], y = y_train, order = 2, ci = False)"
   ]
  },
  {
   "cell_type": "code",
   "execution_count": 191,
   "id": "7a11b755",
   "metadata": {},
   "outputs": [
    {
     "data": {
      "text/plain": [
       "<AxesSubplot:xlabel='km_driven1', ylabel='Selling_Price'>"
      ]
     },
     "execution_count": 191,
     "metadata": {},
     "output_type": "execute_result"
    },
    {
     "data": {
      "image/png": "[encoded data removed]",
      "text/plain": [
       "<Figure size 432x288 with 1 Axes>"
      ]
     },
     "metadata": {
      "needs_background": "light"
     },
     "output_type": "display_data"
    }
   ],
   "source": [
    "sns.regplot(x = X_train['km_driven1'], y = y_train, order = 2, ci = False)"
   ]
  },
  {
   "cell_type": "code",
   "execution_count": 230,
   "id": "4f5cf470",
   "metadata": {},
   "outputs": [
    {
     "data": {
      "text/plain": [
       "array([[ 16., 256.],\n",
       "       [ 16., 256.],\n",
       "       [ 11., 121.],\n",
       "       ...,\n",
       "       [ 14., 196.],\n",
       "       [  7.,  49.],\n",
       "       [  7.,  49.]])"
      ]
     },
     "execution_count": 230,
     "metadata": {},
     "output_type": "execute_result"
    }
   ],
   "source": [
    "X = np.array(df['Age']).reshape(-1, 1)\n",
    "p2 = PolynomialFeatures(degree = 2,include_bias = False)\n",
    "t = p2.fit_transform(X)\n",
    "t"
   ]
  },
  {
   "cell_type": "code",
   "execution_count": 234,
   "id": "cb16552e",
   "metadata": {},
   "outputs": [],
   "source": [
    "df = df.drop(columns = ['km_driven','Age'])"
   ]
  },
  {
   "cell_type": "code",
   "execution_count": 231,
   "id": "0990a7d3",
   "metadata": {},
   "outputs": [],
   "source": [
    "km = pd.DataFrame(t, columns = ['Age' + str(i) for i in range(1,3)])"
   ]
  },
  {
   "cell_type": "code",
   "execution_count": 232,
   "id": "a8bfb2ba",
   "metadata": {},
   "outputs": [],
   "source": [
    "df = pd.concat([df,km],axis = 1)"
   ]
  },
  {
   "cell_type": "code",
   "execution_count": 233,
   "id": "2852d9c0",
   "metadata": {},
   "outputs": [
    {
     "data": {
      "text/html": [
       "<div>\n",
       "<style scoped>\n",
       "    .dataframe tbody tr th:only-of-type {\n",
       "        vertical-align: middle;\n",
       "    }\n",
       "\n",
       "    .dataframe tbody tr th {\n",
       "        vertical-align: top;\n",
       "    }\n",
       "\n",
       "    .dataframe thead th {\n",
       "        text-align: right;\n",
       "    }\n",
       "</style>\n",
       "<table border=\"1\" class=\"dataframe\">\n",
       "  <thead>\n",
       "    <tr style=\"text-align: right;\">\n",
       "      <th></th>\n",
       "      <th>Selling_Price</th>\n",
       "      <th>km_driven</th>\n",
       "      <th>owner</th>\n",
       "      <th>Age</th>\n",
       "      <th>fuel_Diesel</th>\n",
       "      <th>fuel_Petrol</th>\n",
       "      <th>seller_type_Dealer</th>\n",
       "      <th>seller_type_Individual</th>\n",
       "      <th>transmission_Manual</th>\n",
       "      <th>km_driven1</th>\n",
       "      <th>km_driven2</th>\n",
       "      <th>Age1</th>\n",
       "      <th>Age2</th>\n",
       "    </tr>\n",
       "  </thead>\n",
       "  <tbody>\n",
       "    <tr>\n",
       "      <th>0</th>\n",
       "      <td>4.778151</td>\n",
       "      <td>4.845098</td>\n",
       "      <td>0</td>\n",
       "      <td>16</td>\n",
       "      <td>0</td>\n",
       "      <td>1</td>\n",
       "      <td>0</td>\n",
       "      <td>1</td>\n",
       "      <td>1</td>\n",
       "      <td>4.845098</td>\n",
       "      <td>23.474975</td>\n",
       "      <td>16.0</td>\n",
       "      <td>256.0</td>\n",
       "    </tr>\n",
       "    <tr>\n",
       "      <th>1</th>\n",
       "      <td>5.130334</td>\n",
       "      <td>4.698970</td>\n",
       "      <td>0</td>\n",
       "      <td>16</td>\n",
       "      <td>0</td>\n",
       "      <td>1</td>\n",
       "      <td>0</td>\n",
       "      <td>1</td>\n",
       "      <td>1</td>\n",
       "      <td>4.698970</td>\n",
       "      <td>22.080319</td>\n",
       "      <td>16.0</td>\n",
       "      <td>256.0</td>\n",
       "    </tr>\n",
       "    <tr>\n",
       "      <th>2</th>\n",
       "      <td>5.778151</td>\n",
       "      <td>5.000000</td>\n",
       "      <td>0</td>\n",
       "      <td>11</td>\n",
       "      <td>1</td>\n",
       "      <td>0</td>\n",
       "      <td>0</td>\n",
       "      <td>1</td>\n",
       "      <td>1</td>\n",
       "      <td>5.000000</td>\n",
       "      <td>25.000000</td>\n",
       "      <td>11.0</td>\n",
       "      <td>121.0</td>\n",
       "    </tr>\n",
       "    <tr>\n",
       "      <th>3</th>\n",
       "      <td>5.397940</td>\n",
       "      <td>4.662758</td>\n",
       "      <td>0</td>\n",
       "      <td>6</td>\n",
       "      <td>0</td>\n",
       "      <td>1</td>\n",
       "      <td>0</td>\n",
       "      <td>1</td>\n",
       "      <td>1</td>\n",
       "      <td>4.662758</td>\n",
       "      <td>21.741311</td>\n",
       "      <td>6.0</td>\n",
       "      <td>36.0</td>\n",
       "    </tr>\n",
       "    <tr>\n",
       "      <th>4</th>\n",
       "      <td>5.653213</td>\n",
       "      <td>5.149219</td>\n",
       "      <td>1</td>\n",
       "      <td>9</td>\n",
       "      <td>1</td>\n",
       "      <td>0</td>\n",
       "      <td>0</td>\n",
       "      <td>1</td>\n",
       "      <td>1</td>\n",
       "      <td>5.149219</td>\n",
       "      <td>26.514457</td>\n",
       "      <td>9.0</td>\n",
       "      <td>81.0</td>\n",
       "    </tr>\n",
       "    <tr>\n",
       "      <th>...</th>\n",
       "      <td>...</td>\n",
       "      <td>...</td>\n",
       "      <td>...</td>\n",
       "      <td>...</td>\n",
       "      <td>...</td>\n",
       "      <td>...</td>\n",
       "      <td>...</td>\n",
       "      <td>...</td>\n",
       "      <td>...</td>\n",
       "      <td>...</td>\n",
       "      <td>...</td>\n",
       "      <td>...</td>\n",
       "      <td>...</td>\n",
       "    </tr>\n",
       "    <tr>\n",
       "      <th>4335</th>\n",
       "      <td>5.612783</td>\n",
       "      <td>4.903090</td>\n",
       "      <td>1</td>\n",
       "      <td>9</td>\n",
       "      <td>1</td>\n",
       "      <td>0</td>\n",
       "      <td>0</td>\n",
       "      <td>1</td>\n",
       "      <td>1</td>\n",
       "      <td>4.903090</td>\n",
       "      <td>24.040291</td>\n",
       "      <td>9.0</td>\n",
       "      <td>81.0</td>\n",
       "    </tr>\n",
       "    <tr>\n",
       "      <th>4336</th>\n",
       "      <td>5.612783</td>\n",
       "      <td>4.903090</td>\n",
       "      <td>1</td>\n",
       "      <td>9</td>\n",
       "      <td>1</td>\n",
       "      <td>0</td>\n",
       "      <td>0</td>\n",
       "      <td>1</td>\n",
       "      <td>1</td>\n",
       "      <td>4.903090</td>\n",
       "      <td>24.040291</td>\n",
       "      <td>9.0</td>\n",
       "      <td>81.0</td>\n",
       "    </tr>\n",
       "    <tr>\n",
       "      <th>4337</th>\n",
       "      <td>5.041393</td>\n",
       "      <td>4.919078</td>\n",
       "      <td>1</td>\n",
       "      <td>14</td>\n",
       "      <td>0</td>\n",
       "      <td>1</td>\n",
       "      <td>0</td>\n",
       "      <td>1</td>\n",
       "      <td>1</td>\n",
       "      <td>4.919078</td>\n",
       "      <td>24.197329</td>\n",
       "      <td>14.0</td>\n",
       "      <td>196.0</td>\n",
       "    </tr>\n",
       "    <tr>\n",
       "      <th>4338</th>\n",
       "      <td>5.937016</td>\n",
       "      <td>4.954243</td>\n",
       "      <td>0</td>\n",
       "      <td>7</td>\n",
       "      <td>1</td>\n",
       "      <td>0</td>\n",
       "      <td>0</td>\n",
       "      <td>1</td>\n",
       "      <td>1</td>\n",
       "      <td>4.954243</td>\n",
       "      <td>24.544519</td>\n",
       "      <td>7.0</td>\n",
       "      <td>49.0</td>\n",
       "    </tr>\n",
       "    <tr>\n",
       "      <th>4339</th>\n",
       "      <td>5.352183</td>\n",
       "      <td>4.602060</td>\n",
       "      <td>0</td>\n",
       "      <td>7</td>\n",
       "      <td>0</td>\n",
       "      <td>1</td>\n",
       "      <td>0</td>\n",
       "      <td>1</td>\n",
       "      <td>1</td>\n",
       "      <td>4.602060</td>\n",
       "      <td>21.178956</td>\n",
       "      <td>7.0</td>\n",
       "      <td>49.0</td>\n",
       "    </tr>\n",
       "  </tbody>\n",
       "</table>\n",
       "<p>4340 rows × 13 columns</p>\n",
       "</div>"
      ],
      "text/plain": [
       "      Selling_Price  km_driven  owner  Age  fuel_Diesel  fuel_Petrol  \\\n",
       "0          4.778151   4.845098      0   16            0            1   \n",
       "1          5.130334   4.698970      0   16            0            1   \n",
       "2          5.778151   5.000000      0   11            1            0   \n",
       "3          5.397940   4.662758      0    6            0            1   \n",
       "4          5.653213   5.149219      1    9            1            0   \n",
       "...             ...        ...    ...  ...          ...          ...   \n",
       "4335       5.612783   4.903090      1    9            1            0   \n",
       "4336       5.612783   4.903090      1    9            1            0   \n",
       "4337       5.041393   4.919078      1   14            0            1   \n",
       "4338       5.937016   4.954243      0    7            1            0   \n",
       "4339       5.352183   4.602060      0    7            0            1   \n",
       "\n",
       "      seller_type_Dealer  seller_type_Individual  transmission_Manual  \\\n",
       "0                      0                       1                    1   \n",
       "1                      0                       1                    1   \n",
       "2                      0                       1                    1   \n",
       "3                      0                       1                    1   \n",
       "4                      0                       1                    1   \n",
       "...                  ...                     ...                  ...   \n",
       "4335                   0                       1                    1   \n",
       "4336                   0                       1                    1   \n",
       "4337                   0                       1                    1   \n",
       "4338                   0                       1                    1   \n",
       "4339                   0                       1                    1   \n",
       "\n",
       "      km_driven1  km_driven2  Age1   Age2  \n",
       "0       4.845098   23.474975  16.0  256.0  \n",
       "1       4.698970   22.080319  16.0  256.0  \n",
       "2       5.000000   25.000000  11.0  121.0  \n",
       "3       4.662758   21.741311   6.0   36.0  \n",
       "4       5.149219   26.514457   9.0   81.0  \n",
       "...          ...         ...   ...    ...  \n",
       "4335    4.903090   24.040291   9.0   81.0  \n",
       "4336    4.903090   24.040291   9.0   81.0  \n",
       "4337    4.919078   24.197329  14.0  196.0  \n",
       "4338    4.954243   24.544519   7.0   49.0  \n",
       "4339    4.602060   21.178956   7.0   49.0  \n",
       "\n",
       "[4340 rows x 13 columns]"
      ]
     },
     "execution_count": 233,
     "metadata": {},
     "output_type": "execute_result"
    }
   ],
   "source": [
    "df"
   ]
  },
  {
   "cell_type": "code",
   "execution_count": 235,
   "id": "442e5aea",
   "metadata": {},
   "outputs": [],
   "source": [
    "X_train, X_test, y_train, y_test = train_test_split(df.iloc[:,1:],df.iloc[:,0], test_size = .2, random_state = 0)"
   ]
  },
  {
   "cell_type": "code",
   "execution_count": 236,
   "id": "7ce3b549",
   "metadata": {},
   "outputs": [
    {
     "data": {
      "text/plain": [
       "array([-0.01957435,  0.25891924,  0.033088  , -0.12369403, -0.20287015,\n",
       "       -0.33373442,  0.06622379, -0.0092014 , -0.06808305,  0.00077584])"
      ]
     },
     "execution_count": 236,
     "metadata": {},
     "output_type": "execute_result"
    }
   ],
   "source": [
    "linreg = LinearRegression()\n",
    "linreg.fit(X_train,y_train)\n",
    "y_pred = linreg.predict(X_test)\n",
    "linreg.coef_"
   ]
  },
  {
   "cell_type": "code",
   "execution_count": 237,
   "id": "755293d7",
   "metadata": {},
   "outputs": [
    {
     "name": "stdout",
     "output_type": "stream",
     "text": [
      "0.04180852660289527\n",
      "0.6964331065840291\n",
      "0.04109584211708062\n",
      "0.6876125915079527\n"
     ]
    }
   ],
   "source": [
    "print(mean_squared_error(y_test,y_pred)) #Degree 2 for both age and km_driven this looks to be the best choice\n",
    "print(r2_score(y_test,y_pred))\n",
    "print(mean_squared_error(y_train,linreg.predict(X_train)))\n",
    "print(r2_score(y_train,linreg.predict(X_train)))"
   ]
  },
  {
   "cell_type": "code",
   "execution_count": 186,
   "id": "d025aa5d",
   "metadata": {},
   "outputs": [
    {
     "data": {
      "text/plain": [
       "(868, 13)"
      ]
     },
     "execution_count": 186,
     "metadata": {},
     "output_type": "execute_result"
    }
   ],
   "source": [
    "X_test.shape"
   ]
  },
  {
   "cell_type": "code",
   "execution_count": 90,
   "id": "1e8da20b",
   "metadata": {},
   "outputs": [
    {
     "data": {
      "text/plain": [
       "0.1377242627891112"
      ]
     },
     "execution_count": 90,
     "metadata": {},
     "output_type": "execute_result"
    }
   ],
   "source": [
    "-mean_squared_error(y_test,y_pred)/(r2_score(y_test,y_pred)-1)"
   ]
  },
  {
   "cell_type": "code",
   "execution_count": 112,
   "id": "035c9cbe",
   "metadata": {},
   "outputs": [],
   "source": [
    "from sklearn.ensemble import RandomForestRegressor\n",
    "from sklearn.model_selection import GridSearchCV"
   ]
  },
  {
   "cell_type": "code",
   "execution_count": 126,
   "id": "8025466b",
   "metadata": {},
   "outputs": [],
   "source": [
    "X_train, X_test, y_train, y_test = train_test_split(df.iloc[:,1:],df.iloc[:,0], test_size = .2, random_state = 0)"
   ]
  },
  {
   "cell_type": "code",
   "execution_count": 127,
   "id": "07e756b0",
   "metadata": {},
   "outputs": [],
   "source": [
    "rf = RandomForestRegressor(n_jobs = -1)"
   ]
  },
  {
   "cell_type": "code",
   "execution_count": 128,
   "id": "ca1cf855",
   "metadata": {},
   "outputs": [],
   "source": [
    "rf.fit(X_train,y_train)\n",
    "y_pred = rf.predict(X_test)"
   ]
  },
  {
   "cell_type": "code",
   "execution_count": 129,
   "id": "92008340",
   "metadata": {},
   "outputs": [
    {
     "data": {
      "text/plain": [
       "0.03847394560836096"
      ]
     },
     "execution_count": 129,
     "metadata": {},
     "output_type": "execute_result"
    }
   ],
   "source": [
    "mean_squared_error(y_test,y_pred)"
   ]
  },
  {
   "cell_type": "code",
   "execution_count": 130,
   "id": "f64e4e75",
   "metadata": {},
   "outputs": [
    {
     "data": {
      "text/plain": [
       "0.7206451148896416"
      ]
     },
     "execution_count": 130,
     "metadata": {},
     "output_type": "execute_result"
    }
   ],
   "source": [
    "r2_score(y_test,y_pred)"
   ]
  },
  {
   "cell_type": "code",
   "execution_count": 131,
   "id": "98a80e4b",
   "metadata": {},
   "outputs": [
    {
     "data": {
      "text/plain": [
       "[None, 1, 2, 3]"
      ]
     },
     "execution_count": 131,
     "metadata": {},
     "output_type": "execute_result"
    }
   ],
   "source": [
    "[None]+[1,2,3]"
   ]
  },
  {
   "cell_type": "code",
   "execution_count": 145,
   "id": "f8f53a24",
   "metadata": {},
   "outputs": [],
   "source": [
    "pt = {'n_estimators':range(50,101),'max_depth':[None]+list(range(10,50)),'max_features':range(2,5),'n_jobs':[-1]}"
   ]
  },
  {
   "cell_type": "code",
   "execution_count": 146,
   "id": "f549a936",
   "metadata": {},
   "outputs": [
    {
     "data": {
      "text/plain": [
       "GridSearchCV(estimator=RandomForestRegressor(n_jobs=-1), n_jobs=-1,\n",
       "             param_grid={'max_depth': [None, 10, 11, 12, 13, 14, 15, 16, 17, 18,\n",
       "                                       19, 20, 21, 22, 23, 24, 25, 26, 27, 28,\n",
       "                                       29, 30, 31, 32, 33, 34, 35, 36, 37, 38, ...],\n",
       "                         'max_features': range(2, 5),\n",
       "                         'n_estimators': range(50, 101), 'n_jobs': [-1]},\n",
       "             scoring='r2')"
      ]
     },
     "execution_count": 146,
     "metadata": {},
     "output_type": "execute_result"
    }
   ],
   "source": [
    "grid = GridSearchCV(estimator = rf, param_grid = pt, n_jobs = -1, scoring = 'r2')\n",
    "grid.fit(X_train,y_train)"
   ]
  },
  {
   "cell_type": "code",
   "execution_count": 147,
   "id": "11e7dcad",
   "metadata": {},
   "outputs": [
    {
     "name": "stdout",
     "output_type": "stream",
     "text": [
      "Optimal Hyper-parameters :  {'max_depth': 10, 'max_features': 2, 'n_estimators': 63, 'n_jobs': -1}\n",
      "Optimal Score :  0.7170334506258005\n"
     ]
    }
   ],
   "source": [
    "print(\"Optimal Hyper-parameters : \", grid.best_params_)\n",
    "print(\"Optimal Score : \", grid.best_score_)"
   ]
  },
  {
   "cell_type": "code",
   "execution_count": null,
   "id": "41a860ed",
   "metadata": {},
   "outputs": [],
   "source": []
  }
 ],
 "metadata": {
  "kernelspec": {
   "display_name": "Python 3 (ipykernel)",
   "language": "python",
   "name": "python3"
  },
  "language_info": {
   "codemirror_mode": {
    "name": "ipython",
    "version": 3
   },
   "file_extension": ".py",
   "mimetype": "text/x-python",
   "name": "python",
   "nbconvert_exporter": "python",
   "pygments_lexer": "ipython3",
   "version": "3.9.12"
  }
 },
 "nbformat": 4,
 "nbformat_minor": 5
}
