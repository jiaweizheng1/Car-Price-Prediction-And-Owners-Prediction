{
 "cells": [
  {
   "cell_type": "code",
   "execution_count": 1,
   "id": "c9a3a7e5",
   "metadata": {},
   "outputs": [],
   "source": [
    "import pandas as pd \n",
    "import numpy as np\n",
    "import seaborn as sns\n",
    "from sklearn.model_selection import train_test_split\n",
    "from sklearn.metrics import confusion_matrix, classification_report, mean_squared_error,r2_score\n",
    "from sklearn.linear_model import LinearRegression\n",
    "from sklearn.preprocessing import PolynomialFeatures"
   ]
  },
  {
   "cell_type": "code",
   "execution_count": 30,
   "id": "78d529e4",
   "metadata": {},
   "outputs": [],
   "source": [
    "import pickle"
   ]
  },
  {
   "cell_type": "markdown",
   "id": "c675de62",
   "metadata": {},
   "source": [
    "# Linear Regression"
   ]
  },
  {
   "cell_type": "code",
   "execution_count": 10,
   "id": "ca091880",
   "metadata": {},
   "outputs": [
    {
     "data": {
      "text/html": [
       "<div>\n",
       "<style scoped>\n",
       "    .dataframe tbody tr th:only-of-type {\n",
       "        vertical-align: middle;\n",
       "    }\n",
       "\n",
       "    .dataframe tbody tr th {\n",
       "        vertical-align: top;\n",
       "    }\n",
       "\n",
       "    .dataframe thead th {\n",
       "        text-align: right;\n",
       "    }\n",
       "</style>\n",
       "<table border=\"1\" class=\"dataframe\">\n",
       "  <thead>\n",
       "    <tr style=\"text-align: right;\">\n",
       "      <th></th>\n",
       "      <th>selling_price</th>\n",
       "      <th>Age</th>\n",
       "      <th>km_driven</th>\n",
       "      <th>owner</th>\n",
       "      <th>fuel_Diesel</th>\n",
       "      <th>fuel_Petrol</th>\n",
       "      <th>seller_type_Individual</th>\n",
       "      <th>seller_type_Trustmark Dealer</th>\n",
       "      <th>transmission_Manual</th>\n",
       "    </tr>\n",
       "    <tr>\n",
       "      <th>name</th>\n",
       "      <th></th>\n",
       "      <th></th>\n",
       "      <th></th>\n",
       "      <th></th>\n",
       "      <th></th>\n",
       "      <th></th>\n",
       "      <th></th>\n",
       "      <th></th>\n",
       "      <th></th>\n",
       "    </tr>\n",
       "  </thead>\n",
       "  <tbody>\n",
       "    <tr>\n",
       "      <th>Maruti 800 AC</th>\n",
       "      <td>4.778151</td>\n",
       "      <td>16</td>\n",
       "      <td>4.845098</td>\n",
       "      <td>0</td>\n",
       "      <td>0</td>\n",
       "      <td>1</td>\n",
       "      <td>1</td>\n",
       "      <td>0</td>\n",
       "      <td>1</td>\n",
       "    </tr>\n",
       "    <tr>\n",
       "      <th>Maruti Wagon R LXI Minor</th>\n",
       "      <td>5.130334</td>\n",
       "      <td>16</td>\n",
       "      <td>4.698970</td>\n",
       "      <td>0</td>\n",
       "      <td>0</td>\n",
       "      <td>1</td>\n",
       "      <td>1</td>\n",
       "      <td>0</td>\n",
       "      <td>1</td>\n",
       "    </tr>\n",
       "    <tr>\n",
       "      <th>Hyundai Verna 1.6 SX</th>\n",
       "      <td>5.778151</td>\n",
       "      <td>11</td>\n",
       "      <td>5.000000</td>\n",
       "      <td>0</td>\n",
       "      <td>1</td>\n",
       "      <td>0</td>\n",
       "      <td>1</td>\n",
       "      <td>0</td>\n",
       "      <td>1</td>\n",
       "    </tr>\n",
       "    <tr>\n",
       "      <th>Datsun RediGO T Option</th>\n",
       "      <td>5.397940</td>\n",
       "      <td>6</td>\n",
       "      <td>4.662758</td>\n",
       "      <td>0</td>\n",
       "      <td>0</td>\n",
       "      <td>1</td>\n",
       "      <td>1</td>\n",
       "      <td>0</td>\n",
       "      <td>1</td>\n",
       "    </tr>\n",
       "    <tr>\n",
       "      <th>Honda Amaze VX i-DTEC</th>\n",
       "      <td>5.653213</td>\n",
       "      <td>9</td>\n",
       "      <td>5.149219</td>\n",
       "      <td>1</td>\n",
       "      <td>1</td>\n",
       "      <td>0</td>\n",
       "      <td>1</td>\n",
       "      <td>0</td>\n",
       "      <td>1</td>\n",
       "    </tr>\n",
       "    <tr>\n",
       "      <th>...</th>\n",
       "      <td>...</td>\n",
       "      <td>...</td>\n",
       "      <td>...</td>\n",
       "      <td>...</td>\n",
       "      <td>...</td>\n",
       "      <td>...</td>\n",
       "      <td>...</td>\n",
       "      <td>...</td>\n",
       "      <td>...</td>\n",
       "    </tr>\n",
       "    <tr>\n",
       "      <th>Hyundai i20 Magna 1.4 CRDi (Diesel)</th>\n",
       "      <td>5.612783</td>\n",
       "      <td>9</td>\n",
       "      <td>4.903090</td>\n",
       "      <td>1</td>\n",
       "      <td>1</td>\n",
       "      <td>0</td>\n",
       "      <td>1</td>\n",
       "      <td>0</td>\n",
       "      <td>1</td>\n",
       "    </tr>\n",
       "    <tr>\n",
       "      <th>Hyundai i20 Magna 1.4 CRDi</th>\n",
       "      <td>5.612783</td>\n",
       "      <td>9</td>\n",
       "      <td>4.903090</td>\n",
       "      <td>1</td>\n",
       "      <td>1</td>\n",
       "      <td>0</td>\n",
       "      <td>1</td>\n",
       "      <td>0</td>\n",
       "      <td>1</td>\n",
       "    </tr>\n",
       "    <tr>\n",
       "      <th>Maruti 800 AC BSIII</th>\n",
       "      <td>5.041393</td>\n",
       "      <td>14</td>\n",
       "      <td>4.919078</td>\n",
       "      <td>1</td>\n",
       "      <td>0</td>\n",
       "      <td>1</td>\n",
       "      <td>1</td>\n",
       "      <td>0</td>\n",
       "      <td>1</td>\n",
       "    </tr>\n",
       "    <tr>\n",
       "      <th>Hyundai Creta 1.6 CRDi SX Option</th>\n",
       "      <td>5.937016</td>\n",
       "      <td>7</td>\n",
       "      <td>4.954243</td>\n",
       "      <td>0</td>\n",
       "      <td>1</td>\n",
       "      <td>0</td>\n",
       "      <td>1</td>\n",
       "      <td>0</td>\n",
       "      <td>1</td>\n",
       "    </tr>\n",
       "    <tr>\n",
       "      <th>Renault KWID RXT</th>\n",
       "      <td>5.352183</td>\n",
       "      <td>7</td>\n",
       "      <td>4.602060</td>\n",
       "      <td>0</td>\n",
       "      <td>0</td>\n",
       "      <td>1</td>\n",
       "      <td>1</td>\n",
       "      <td>0</td>\n",
       "      <td>1</td>\n",
       "    </tr>\n",
       "  </tbody>\n",
       "</table>\n",
       "<p>4340 rows × 9 columns</p>\n",
       "</div>"
      ],
      "text/plain": [
       "                                     selling_price  Age  km_driven  owner  \\\n",
       "name                                                                        \n",
       "Maruti 800 AC                             4.778151   16   4.845098      0   \n",
       "Maruti Wagon R LXI Minor                  5.130334   16   4.698970      0   \n",
       "Hyundai Verna 1.6 SX                      5.778151   11   5.000000      0   \n",
       "Datsun RediGO T Option                    5.397940    6   4.662758      0   \n",
       "Honda Amaze VX i-DTEC                     5.653213    9   5.149219      1   \n",
       "...                                            ...  ...        ...    ...   \n",
       "Hyundai i20 Magna 1.4 CRDi (Diesel)       5.612783    9   4.903090      1   \n",
       "Hyundai i20 Magna 1.4 CRDi                5.612783    9   4.903090      1   \n",
       "Maruti 800 AC BSIII                       5.041393   14   4.919078      1   \n",
       "Hyundai Creta 1.6 CRDi SX Option          5.937016    7   4.954243      0   \n",
       "Renault KWID RXT                          5.352183    7   4.602060      0   \n",
       "\n",
       "                                     fuel_Diesel  fuel_Petrol  \\\n",
       "name                                                            \n",
       "Maruti 800 AC                                  0            1   \n",
       "Maruti Wagon R LXI Minor                       0            1   \n",
       "Hyundai Verna 1.6 SX                           1            0   \n",
       "Datsun RediGO T Option                         0            1   \n",
       "Honda Amaze VX i-DTEC                          1            0   \n",
       "...                                          ...          ...   \n",
       "Hyundai i20 Magna 1.4 CRDi (Diesel)            1            0   \n",
       "Hyundai i20 Magna 1.4 CRDi                     1            0   \n",
       "Maruti 800 AC BSIII                            0            1   \n",
       "Hyundai Creta 1.6 CRDi SX Option               1            0   \n",
       "Renault KWID RXT                               0            1   \n",
       "\n",
       "                                     seller_type_Individual  \\\n",
       "name                                                          \n",
       "Maruti 800 AC                                             1   \n",
       "Maruti Wagon R LXI Minor                                  1   \n",
       "Hyundai Verna 1.6 SX                                      1   \n",
       "Datsun RediGO T Option                                    1   \n",
       "Honda Amaze VX i-DTEC                                     1   \n",
       "...                                                     ...   \n",
       "Hyundai i20 Magna 1.4 CRDi (Diesel)                       1   \n",
       "Hyundai i20 Magna 1.4 CRDi                                1   \n",
       "Maruti 800 AC BSIII                                       1   \n",
       "Hyundai Creta 1.6 CRDi SX Option                          1   \n",
       "Renault KWID RXT                                          1   \n",
       "\n",
       "                                     seller_type_Trustmark Dealer  \\\n",
       "name                                                                \n",
       "Maruti 800 AC                                                   0   \n",
       "Maruti Wagon R LXI Minor                                        0   \n",
       "Hyundai Verna 1.6 SX                                            0   \n",
       "Datsun RediGO T Option                                          0   \n",
       "Honda Amaze VX i-DTEC                                           0   \n",
       "...                                                           ...   \n",
       "Hyundai i20 Magna 1.4 CRDi (Diesel)                             0   \n",
       "Hyundai i20 Magna 1.4 CRDi                                      0   \n",
       "Maruti 800 AC BSIII                                             0   \n",
       "Hyundai Creta 1.6 CRDi SX Option                                0   \n",
       "Renault KWID RXT                                                0   \n",
       "\n",
       "                                     transmission_Manual  \n",
       "name                                                      \n",
       "Maruti 800 AC                                          1  \n",
       "Maruti Wagon R LXI Minor                               1  \n",
       "Hyundai Verna 1.6 SX                                   1  \n",
       "Datsun RediGO T Option                                 1  \n",
       "Honda Amaze VX i-DTEC                                  1  \n",
       "...                                                  ...  \n",
       "Hyundai i20 Magna 1.4 CRDi (Diesel)                    1  \n",
       "Hyundai i20 Magna 1.4 CRDi                             1  \n",
       "Maruti 800 AC BSIII                                    1  \n",
       "Hyundai Creta 1.6 CRDi SX Option                       1  \n",
       "Renault KWID RXT                                       1  \n",
       "\n",
       "[4340 rows x 9 columns]"
      ]
     },
     "execution_count": 10,
     "metadata": {},
     "output_type": "execute_result"
    }
   ],
   "source": [
    "df = pd.read_csv('CAR DETAILS FROM CAR DEKHO.csv') #Import raw data\n",
    "df = df.set_index('name') #Index each observation by the Car Model\n",
    "df['owner'] = df['owner'].apply(lambda x:0 if x == \"First Owner\" else 1).astype(int) # 0 means one previous owner (car is on the newer side)\n",
    "# 1 means two or more previous owner and car is on the older side. This definition seems clear and more simplified\n",
    "df['fuel'] = df['fuel'].apply(lambda x:'Petrol' if x == 'Petrol' else ('Diesel' if x == 'Diesel' else 'Other'))\n",
    "#Simplify fuel types into 3 categories. Any fuel type that isn't petrol/diesel make up <10% of the dataset and should be lumped as other instead\n",
    "df = pd.get_dummies(df, columns = ['fuel','seller_type','transmission']) #Make dummy variables for categorical variables so we can model with the data\n",
    "df['year'] = 2023 - df['year'] #Transform year column into a variable representing a car's age\n",
    "df = df.drop(columns = ['transmission_Automatic','seller_type_Dealer','fuel_Other']) #Drop one column of dummy variables so we don't have singularity issues\n",
    "df.columns.values[0] = 'Age'\n",
    "df['selling_price'] = np.log10(df['selling_price']) #Log transform for a better fit\n",
    "df['km_driven'] = np.log10(df['km_driven']) \n",
    "sp = df.pop('selling_price') #put selling price at the front\n",
    "df.insert(0,'selling_price', sp)\n",
    "df"
   ]
  },
  {
   "cell_type": "code",
   "execution_count": 11,
   "id": "6fe35917",
   "metadata": {},
   "outputs": [
    {
     "data": {
      "text/plain": [
       "<AxesSubplot:>"
      ]
     },
     "execution_count": 11,
     "metadata": {},
     "output_type": "execute_result"
    },
    {
     "data": {
      "image/png": "[encoded data removed]",
      "text/plain": [
       "<Figure size 432x288 with 2 Axes>"
      ]
     },
     "metadata": {
      "needs_background": "light"
     },
     "output_type": "display_data"
    }
   ],
   "source": [
    "sns.heatmap(df.iloc[:,0:3].corr(), annot = True) #Correlation only makes sense for numeric columns"
   ]
  },
  {
   "cell_type": "markdown",
   "id": "fab316f2",
   "metadata": {},
   "source": [
    "Age seems to have a fairly strong negative correlation with selling price and it makes sense as the older the car, the less money you'll get from selling it. We see however that selling price is weakly negatively correlated with km driven. However, that means the more mileage a car has, the less money you'll get if you sell it. We can also see that age is fairly positively correlated with the mileage where older cars tend to have more mileage on them."
   ]
  },
  {
   "cell_type": "code",
   "execution_count": 12,
   "id": "d61c81dc",
   "metadata": {},
   "outputs": [],
   "source": [
    "X_train, X_test, y_train, y_test = train_test_split(df.iloc[:,1:],df.iloc[:,0], test_size = .2, random_state = 0) #Split data"
   ]
  },
  {
   "cell_type": "code",
   "execution_count": 16,
   "id": "15ffa95a",
   "metadata": {},
   "outputs": [
    {
     "name": "stdout",
     "output_type": "stream",
     "text": [
      "0.042852752538311306\n",
      "0.6888511024093907\n"
     ]
    }
   ],
   "source": [
    "linreg = LinearRegression()\n",
    "linreg.fit(X_train,y_train)\n",
    "y_pred = linreg.predict(X_test)\n",
    "print(mean_squared_error(y_test,y_pred)) #Linear regression performs ALMOST as well as Random Forest \n",
    "print(r2_score(y_test,y_pred)) #R2 is quite a bit lower than RF"
   ]
  },
  {
   "cell_type": "markdown",
   "id": "32c6ab16",
   "metadata": {},
   "source": [
    "# Visualizations"
   ]
  },
  {
   "cell_type": "code",
   "execution_count": 23,
   "id": "08e4a0e2",
   "metadata": {},
   "outputs": [
    {
     "data": {
      "text/plain": [
       "[Text(0, 0.5, 'log(selling price)')]"
      ]
     },
     "execution_count": 23,
     "metadata": {},
     "output_type": "execute_result"
    },
    {
     "data": {
      "image/png": "[encoded data removed]",
      "text/plain": [
       "<Figure size 432x288 with 1 Axes>"
      ]
     },
     "metadata": {
      "needs_background": "light"
     },
     "output_type": "display_data"
    }
   ],
   "source": [
    "ax = sns.regplot(data = df, x = 'Age', y = 'selling_price', order = 1)\n",
    "ax.set(ylabel = 'log(selling price)')"
   ]
  },
  {
   "cell_type": "code",
   "execution_count": 26,
   "id": "1c24f3e3",
   "metadata": {},
   "outputs": [
    {
     "data": {
      "text/plain": [
       "[Text(0, 0.5, 'log(selling price)'), Text(0.5, 0, 'log(km driven)')]"
      ]
     },
     "execution_count": 26,
     "metadata": {},
     "output_type": "execute_result"
    },
    {
     "data": {
      "image/png": "[encoded data removed]",
      "text/plain": [
       "<Figure size 432x288 with 1 Axes>"
      ]
     },
     "metadata": {
      "needs_background": "light"
     },
     "output_type": "display_data"
    }
   ],
   "source": [
    "ax = sns.regplot(data = df, x = 'km_driven', y = 'selling_price', order = 1)\n",
    "ax.set(ylabel = 'log(selling price)', xlabel = 'log(km driven)')"
   ]
  },
  {
   "cell_type": "markdown",
   "id": "31be57ec",
   "metadata": {},
   "source": [
    "Polynomial Regression did not improve the models by much so we should just leave it out to make things easier for the front end. Also it makes more sense that age and km_driven has a negatively linear relationship with selling price. It would be weird for km driven to have a quadratic relationship with selling price where cars with very low and high mileage have a low selling price but cars with medium mileage has a higher selling price."
   ]
  },
  {
   "cell_type": "code",
   "execution_count": 31,
   "id": "86658872",
   "metadata": {},
   "outputs": [],
   "source": [
    "pickle.dump(linreg, open(\"linreg.pkl\", \"wb\"))"
   ]
  },
  {
   "cell_type": "code",
   "execution_count": 27,
   "id": "ba3b7269",
   "metadata": {},
   "outputs": [
    {
     "data": {
      "text/plain": [
       "selling_price                    6.949390\n",
       "Age                             31.000000\n",
       "km_driven                        5.906658\n",
       "owner                            1.000000\n",
       "fuel_Diesel                      1.000000\n",
       "fuel_Petrol                      1.000000\n",
       "seller_type_Individual           1.000000\n",
       "seller_type_Trustmark Dealer     1.000000\n",
       "transmission_Manual              1.000000\n",
       "dtype: float64"
      ]
     },
     "execution_count": 27,
     "metadata": {},
     "output_type": "execute_result"
    }
   ],
   "source": [
    "df.max(axis = 0)"
   ]
  },
  {
   "cell_type": "code",
   "execution_count": 28,
   "id": "d5a478eb",
   "metadata": {},
   "outputs": [
    {
     "data": {
      "text/plain": [
       "selling_price                   4.30103\n",
       "Age                             3.00000\n",
       "km_driven                       0.00000\n",
       "owner                           0.00000\n",
       "fuel_Diesel                     0.00000\n",
       "fuel_Petrol                     0.00000\n",
       "seller_type_Individual          0.00000\n",
       "seller_type_Trustmark Dealer    0.00000\n",
       "transmission_Manual             0.00000\n",
       "dtype: float64"
      ]
     },
     "execution_count": 28,
     "metadata": {},
     "output_type": "execute_result"
    }
   ],
   "source": [
    "df.min(axis = 0)"
   ]
  },
  {
   "cell_type": "code",
   "execution_count": null,
   "id": "b871d84e",
   "metadata": {},
   "outputs": [],
   "source": []
  }
 ],
 "metadata": {
  "kernelspec": {
   "display_name": "Python 3 (ipykernel)",
   "language": "python",
   "name": "python3"
  },
  "language_info": {
   "codemirror_mode": {
    "name": "ipython",
    "version": 3
   },
   "file_extension": ".py",
   "mimetype": "text/x-python",
   "name": "python",
   "nbconvert_exporter": "python",
   "pygments_lexer": "ipython3",
   "version": "3.9.12"
  }
 },
 "nbformat": 4,
 "nbformat_minor": 5
}
