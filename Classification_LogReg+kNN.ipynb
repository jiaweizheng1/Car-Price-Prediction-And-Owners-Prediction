{
 "cells": [
  {
   "cell_type": "code",
   "execution_count": 1,
   "id": "2ac49ad0",
   "metadata": {},
   "outputs": [],
   "source": [
    "import pandas as pd \n",
    "import numpy as np\n",
    "import seaborn as sns\n",
    "from sklearn.model_selection import train_test_split,cross_validate,GridSearchCV\n",
    "from sklearn.metrics import confusion_matrix, classification_report, roc_curve, roc_auc_score, accuracy_score, ConfusionMatrixDisplay\n",
    "from sklearn.linear_model import LogisticRegression\n",
    "from imblearn.over_sampling import RandomOverSampler\n",
    "from sklearn.neighbors import KNeighborsClassifier\n",
    "import matplotlib.pyplot as plt\n",
    "import pickle"
   ]
  },
  {
   "cell_type": "code",
   "execution_count": 2,
   "id": "bf3e8cd2",
   "metadata": {},
   "outputs": [
    {
     "name": "stdout",
     "output_type": "stream",
     "text": [
      "Age) mean: 10.527189265536723, std: 4.366565310455436\n",
      "selling_price) mean: 463178.29996468924, std: 535345.0704025673\n",
      "km_driven) mean: 70613.98181497175, std: 46726.0783381431\n"
     ]
    },
    {
     "data": {
      "text/html": [
       "<div>\n",
       "<style scoped>\n",
       "    .dataframe tbody tr th:only-of-type {\n",
       "        vertical-align: middle;\n",
       "    }\n",
       "\n",
       "    .dataframe tbody tr th {\n",
       "        vertical-align: top;\n",
       "    }\n",
       "\n",
       "    .dataframe thead th {\n",
       "        text-align: right;\n",
       "    }\n",
       "</style>\n",
       "<table border=\"1\" class=\"dataframe\">\n",
       "  <thead>\n",
       "    <tr style=\"text-align: right;\">\n",
       "      <th></th>\n",
       "      <th>owner</th>\n",
       "      <th>Age</th>\n",
       "      <th>selling_price</th>\n",
       "      <th>km_driven</th>\n",
       "      <th>fuel_Diesel</th>\n",
       "      <th>fuel_Other</th>\n",
       "      <th>fuel_Petrol</th>\n",
       "      <th>seller_type_Dealer</th>\n",
       "      <th>seller_type_Individual</th>\n",
       "      <th>transmission_Automatic</th>\n",
       "      <th>transmission_Manual</th>\n",
       "    </tr>\n",
       "  </thead>\n",
       "  <tbody>\n",
       "    <tr>\n",
       "      <th>0</th>\n",
       "      <td>0</td>\n",
       "      <td>1.253345</td>\n",
       "      <td>-0.753119</td>\n",
       "      <td>-0.013140</td>\n",
       "      <td>False</td>\n",
       "      <td>False</td>\n",
       "      <td>True</td>\n",
       "      <td>False</td>\n",
       "      <td>True</td>\n",
       "      <td>False</td>\n",
       "      <td>True</td>\n",
       "    </tr>\n",
       "    <tr>\n",
       "      <th>1</th>\n",
       "      <td>0</td>\n",
       "      <td>1.253345</td>\n",
       "      <td>-0.613022</td>\n",
       "      <td>-0.441167</td>\n",
       "      <td>False</td>\n",
       "      <td>False</td>\n",
       "      <td>True</td>\n",
       "      <td>False</td>\n",
       "      <td>True</td>\n",
       "      <td>False</td>\n",
       "      <td>True</td>\n",
       "    </tr>\n",
       "    <tr>\n",
       "      <th>2</th>\n",
       "      <td>0</td>\n",
       "      <td>0.108280</td>\n",
       "      <td>0.255577</td>\n",
       "      <td>0.628900</td>\n",
       "      <td>True</td>\n",
       "      <td>False</td>\n",
       "      <td>False</td>\n",
       "      <td>False</td>\n",
       "      <td>True</td>\n",
       "      <td>False</td>\n",
       "      <td>True</td>\n",
       "    </tr>\n",
       "    <tr>\n",
       "      <th>3</th>\n",
       "      <td>0</td>\n",
       "      <td>-1.036785</td>\n",
       "      <td>-0.398207</td>\n",
       "      <td>-0.526772</td>\n",
       "      <td>False</td>\n",
       "      <td>False</td>\n",
       "      <td>True</td>\n",
       "      <td>False</td>\n",
       "      <td>True</td>\n",
       "      <td>False</td>\n",
       "      <td>True</td>\n",
       "    </tr>\n",
       "    <tr>\n",
       "      <th>4</th>\n",
       "      <td>1</td>\n",
       "      <td>-0.349746</td>\n",
       "      <td>-0.024616</td>\n",
       "      <td>1.506354</td>\n",
       "      <td>True</td>\n",
       "      <td>False</td>\n",
       "      <td>False</td>\n",
       "      <td>False</td>\n",
       "      <td>True</td>\n",
       "      <td>False</td>\n",
       "      <td>True</td>\n",
       "    </tr>\n",
       "    <tr>\n",
       "      <th>...</th>\n",
       "      <td>...</td>\n",
       "      <td>...</td>\n",
       "      <td>...</td>\n",
       "      <td>...</td>\n",
       "      <td>...</td>\n",
       "      <td>...</td>\n",
       "      <td>...</td>\n",
       "      <td>...</td>\n",
       "      <td>...</td>\n",
       "      <td>...</td>\n",
       "      <td>...</td>\n",
       "    </tr>\n",
       "    <tr>\n",
       "      <th>5659</th>\n",
       "      <td>1</td>\n",
       "      <td>1.024332</td>\n",
       "      <td>0.068781</td>\n",
       "      <td>1.784571</td>\n",
       "      <td>True</td>\n",
       "      <td>False</td>\n",
       "      <td>False</td>\n",
       "      <td>False</td>\n",
       "      <td>True</td>\n",
       "      <td>False</td>\n",
       "      <td>True</td>\n",
       "    </tr>\n",
       "    <tr>\n",
       "      <th>5660</th>\n",
       "      <td>1</td>\n",
       "      <td>0.795319</td>\n",
       "      <td>-0.622362</td>\n",
       "      <td>0.628900</td>\n",
       "      <td>True</td>\n",
       "      <td>False</td>\n",
       "      <td>False</td>\n",
       "      <td>False</td>\n",
       "      <td>True</td>\n",
       "      <td>False</td>\n",
       "      <td>True</td>\n",
       "    </tr>\n",
       "    <tr>\n",
       "      <th>5661</th>\n",
       "      <td>1</td>\n",
       "      <td>0.108280</td>\n",
       "      <td>-0.482267</td>\n",
       "      <td>-0.227153</td>\n",
       "      <td>False</td>\n",
       "      <td>False</td>\n",
       "      <td>True</td>\n",
       "      <td>True</td>\n",
       "      <td>False</td>\n",
       "      <td>False</td>\n",
       "      <td>True</td>\n",
       "    </tr>\n",
       "    <tr>\n",
       "      <th>5662</th>\n",
       "      <td>1</td>\n",
       "      <td>1.711370</td>\n",
       "      <td>-0.304810</td>\n",
       "      <td>-0.013140</td>\n",
       "      <td>False</td>\n",
       "      <td>False</td>\n",
       "      <td>True</td>\n",
       "      <td>False</td>\n",
       "      <td>True</td>\n",
       "      <td>False</td>\n",
       "      <td>True</td>\n",
       "    </tr>\n",
       "    <tr>\n",
       "      <th>5663</th>\n",
       "      <td>1</td>\n",
       "      <td>-0.120733</td>\n",
       "      <td>0.815963</td>\n",
       "      <td>-0.462568</td>\n",
       "      <td>True</td>\n",
       "      <td>False</td>\n",
       "      <td>False</td>\n",
       "      <td>True</td>\n",
       "      <td>False</td>\n",
       "      <td>True</td>\n",
       "      <td>False</td>\n",
       "    </tr>\n",
       "  </tbody>\n",
       "</table>\n",
       "<p>5664 rows × 11 columns</p>\n",
       "</div>"
      ],
      "text/plain": [
       "      owner       Age  selling_price  km_driven  fuel_Diesel  fuel_Other   \n",
       "0         0  1.253345      -0.753119  -0.013140        False       False  \\\n",
       "1         0  1.253345      -0.613022  -0.441167        False       False   \n",
       "2         0  0.108280       0.255577   0.628900         True       False   \n",
       "3         0 -1.036785      -0.398207  -0.526772        False       False   \n",
       "4         1 -0.349746      -0.024616   1.506354         True       False   \n",
       "...     ...       ...            ...        ...          ...         ...   \n",
       "5659      1  1.024332       0.068781   1.784571         True       False   \n",
       "5660      1  0.795319      -0.622362   0.628900         True       False   \n",
       "5661      1  0.108280      -0.482267  -0.227153        False       False   \n",
       "5662      1  1.711370      -0.304810  -0.013140        False       False   \n",
       "5663      1 -0.120733       0.815963  -0.462568         True       False   \n",
       "\n",
       "      fuel_Petrol  seller_type_Dealer  seller_type_Individual   \n",
       "0            True               False                    True  \\\n",
       "1            True               False                    True   \n",
       "2           False               False                    True   \n",
       "3            True               False                    True   \n",
       "4           False               False                    True   \n",
       "...           ...                 ...                     ...   \n",
       "5659        False               False                    True   \n",
       "5660        False               False                    True   \n",
       "5661         True                True                   False   \n",
       "5662         True               False                    True   \n",
       "5663        False                True                   False   \n",
       "\n",
       "      transmission_Automatic  transmission_Manual  \n",
       "0                      False                 True  \n",
       "1                      False                 True  \n",
       "2                      False                 True  \n",
       "3                      False                 True  \n",
       "4                      False                 True  \n",
       "...                      ...                  ...  \n",
       "5659                   False                 True  \n",
       "5660                   False                 True  \n",
       "5661                   False                 True  \n",
       "5662                   False                 True  \n",
       "5663                    True                False  \n",
       "\n",
       "[5664 rows x 11 columns]"
      ]
     },
     "execution_count": 2,
     "metadata": {},
     "output_type": "execute_result"
    }
   ],
   "source": [
    "df = pd.read_csv('CAR DETAILS FROM CAR DEKHO.csv') #Import raw data\n",
    "df = df.set_index('name') #Index each observation by the Car Model\n",
    "df['owner'] = df['owner'].apply(lambda x:0 if x == \"First Owner\" else 1).astype(int) # 0 means one previous owner (car is on the newer side)\n",
    "# 1 means two or more previous owner and car is on the older side. This definition seems clear and more simplified\n",
    "df['fuel'] = df['fuel'].apply(lambda x:'Petrol' if x == 'Petrol' else ('Diesel' if x == 'Diesel' else 'Other'))\n",
    "#Simplify fuel types into 3 categories. Any fuel type that isn't petrol/diesel make up <10% of the dataset and should be lumped as other instead\n",
    "df = pd.get_dummies(df, columns = ['fuel','seller_type','transmission']) #Make dummy variables for categorical variables so we can model with the data\n",
    "df['year'] = 2023 - df['year'] #Transform year column into a variable representing a car's age\n",
    "df.columns.values[0] = 'Age'\n",
    "owner = df.pop('owner') #Move owner column to front\n",
    "df.insert(0,'owner',owner)\n",
    "ros = RandomOverSampler(random_state = 42) #Balance the dataset\n",
    "X_os, y_os = ros.fit_resample(df.iloc[:,1:], df.iloc[:,0])\n",
    "X_os.insert(0,'owner',y_os)\n",
    "df = X_os\n",
    "for i in ['Age','selling_price','km_driven']: #Standardize and scale these columns so k-NN will perform better\n",
    "    print(i + \") mean: \" + str(df[i].mean()) + \", std: \" + str(df[i].std()))\n",
    "    df[i] = (df[i]-df[i].mean())/df[i].std()\n",
    "df = df.drop(columns=[\"seller_type_Trustmark Dealer\"])\n",
    "df"
   ]
  },
  {
   "attachments": {},
   "cell_type": "markdown",
   "id": "ee12de47",
   "metadata": {},
   "source": [
    "# k-NN (Best Classifcation Model)"
   ]
  },
  {
   "cell_type": "code",
   "execution_count": 3,
   "id": "63ff9a6d",
   "metadata": {},
   "outputs": [],
   "source": [
    "X_train, X_test, y_train, y_test = train_test_split(df.iloc[:,1:], df.iloc[:,0], test_size = .2, random_state = 0) #Split dataset"
   ]
  },
  {
   "cell_type": "code",
   "execution_count": 4,
   "id": "2bf5d184",
   "metadata": {},
   "outputs": [
    {
     "name": "stdout",
     "output_type": "stream",
     "text": [
      "Optimal Hyper-parameters :  {'n_neighbors': 1}\n",
      "Optimal Accuracy :  0.8214551525904724\n"
     ]
    }
   ],
   "source": [
    "knn = KNeighborsClassifier(n_neighbors=1) #k-NN model\n",
    "grid = GridSearchCV(knn, param_grid = {'n_neighbors':list(range(1,1000,2))}, n_jobs = -1) #Perform grid search to tune hyperparameter k\n",
    "grid.fit(X_train,y_train)\n",
    "print(\"Optimal Hyper-parameters : \", grid.best_params_)\n",
    "print(\"Optimal Accuracy : \", grid.best_score_)"
   ]
  },
  {
   "cell_type": "code",
   "execution_count": 5,
   "id": "dfa0c85c",
   "metadata": {},
   "outputs": [],
   "source": [
    "Accuracy = {}\n",
    "for i in range(1,1000,2): #Allow k to be odd to prevent ties #Compare accuracy among different k\n",
    "    knn = KNeighborsClassifier(n_neighbors=i) \n",
    "    knn.fit(X_train,y_train)\n",
    "    y_pred = knn.predict(X_test)\n",
    "    Accuracy[i] = accuracy_score(y_test,y_pred)"
   ]
  },
  {
   "cell_type": "code",
   "execution_count": 6,
   "id": "00b0e627",
   "metadata": {},
   "outputs": [],
   "source": [
    "k = np.array(list(Accuracy.keys())) #hyperparameter k\n",
    "Acc = np.array(list(Accuracy.values())) #Corresponding Accuracy Values"
   ]
  },
  {
   "cell_type": "code",
   "execution_count": 7,
   "id": "cf721a9f",
   "metadata": {},
   "outputs": [
    {
     "data": {
      "text/plain": [
       "[Text(0.5, 1.0, 'k-NN Accuracy Plot'),\n",
       " Text(0.5, 0, 'k'),\n",
       " Text(0, 0.5, 'Accuracy')]"
      ]
     },
     "execution_count": 7,
     "metadata": {},
     "output_type": "execute_result"
    },
    {
     "data": {
      "image/png": "[encoded data removed]",
      "text/plain": [
       "<Figure size 640x480 with 1 Axes>"
      ]
     },
     "metadata": {},
     "output_type": "display_data"
    }
   ],
   "source": [
    "ax = sns.lineplot(x = k, y = Acc) #Visualize the values of k and their corresponding accuracy\n",
    "ax.set(title = 'k-NN Accuracy Plot',xlabel = 'k',ylabel = 'Accuracy')"
   ]
  },
  {
   "cell_type": "code",
   "execution_count": 8,
   "id": "d9319cce",
   "metadata": {},
   "outputs": [
    {
     "name": "stdout",
     "output_type": "stream",
     "text": [
      "              precision    recall  f1-score   support\n",
      "\n",
      "           0       0.91      0.79      0.85       583\n",
      "           1       0.81      0.92      0.86       550\n",
      "\n",
      "    accuracy                           0.85      1133\n",
      "   macro avg       0.86      0.85      0.85      1133\n",
      "weighted avg       0.86      0.85      0.85      1133\n",
      "\n"
     ]
    }
   ],
   "source": [
    "knn = KNeighborsClassifier(n_neighbors=1) #Model works best when k = 1 now fit the model\n",
    "knn.fit(X_train,y_train)\n",
    "y_pred = knn.predict(X_test)\n",
    "print(classification_report(y_test,y_pred))"
   ]
  },
  {
   "cell_type": "code",
   "execution_count": 9,
   "id": "5483e1c7",
   "metadata": {},
   "outputs": [
    {
     "data": {
      "text/plain": [
       "<sklearn.metrics._plot.confusion_matrix.ConfusionMatrixDisplay at 0x1fa02e33d00>"
      ]
     },
     "execution_count": 9,
     "metadata": {},
     "output_type": "execute_result"
    },
    {
     "data": {
      "image/png": "[encoded data removed]",
      "text/plain": [
       "<Figure size 640x480 with 2 Axes>"
      ]
     },
     "metadata": {},
     "output_type": "display_data"
    }
   ],
   "source": [
    "cm = ConfusionMatrixDisplay(confusion_matrix(y_test,y_pred))\n",
    "cm.plot()"
   ]
  },
  {
   "cell_type": "code",
   "execution_count": 10,
   "id": "a6002fbd",
   "metadata": {},
   "outputs": [
    {
     "name": "stdout",
     "output_type": "stream",
     "text": [
      "Accuracy\n",
      "[0.82010582 0.83950617 0.84126984 0.79365079 0.78798587 0.91519435\n",
      " 0.88162544 0.87632509 0.86219081 0.92226148]\n",
      "Average Accuracy =  0.854011566673522\n"
     ]
    }
   ],
   "source": [
    "CV = cross_validate(knn,df.iloc[:,1:], df.iloc[:,0], cv=10, scoring=['accuracy']) #Ensure model generalizes well by checking 10-fold CV\n",
    "print('Accuracy')\n",
    "print(CV['test_accuracy'])\n",
    "print('Average Accuracy = ', sum(CV['test_accuracy']) / len(CV['test_accuracy']))"
   ]
  },
  {
   "cell_type": "code",
   "execution_count": 11,
   "id": "af7e4a56",
   "metadata": {},
   "outputs": [],
   "source": [
    "pickle.dump(knn, open(\"models/Classification_knn.pkl\", \"wb\"))"
   ]
  },
  {
   "attachments": {},
   "cell_type": "markdown",
   "id": "87aba9c2",
   "metadata": {},
   "source": [
    "# Logistic Regression"
   ]
  },
  {
   "cell_type": "code",
   "execution_count": 4,
   "id": "4bf0b92f",
   "metadata": {},
   "outputs": [],
   "source": [
    "df = pd.read_csv('CAR DETAILS FROM CAR DEKHO.csv') #Import raw data\n",
    "df = df.set_index('name') #Index each observation by the Car Model\n",
    "df['owner'] = df['owner'].apply(lambda x:0 if x == \"First Owner\" else 1).astype(int) # 0 means one previous owner (car is on the newer side)\n",
    "# 1 means two or more previous owner and car is on the older side. This definition seems clear and more simplified\n",
    "df['fuel'] = df['fuel'].apply(lambda x:'Petrol' if x == 'Petrol' else ('Diesel' if x == 'Diesel' else 'Other'))\n",
    "#Simplify fuel types into 3 categories. Any fuel type that isn't petrol/diesel make up <10% of the dataset and should be lumped as other instead\n",
    "df = pd.get_dummies(df, columns = ['fuel','seller_type','transmission']) #Make dummy variables for categorical variables so we can model with the data\n",
    "df['year'] = 2023 - df['year'] #Transform year column into a variable representing a car's age\n",
    "df.columns.values[0] = 'Age'\n",
    "owner = df.pop('owner') #Move owner column to front\n",
    "df.insert(0,'owner',owner)\n",
    "ros = RandomOverSampler() #Balance the dataset\n",
    "X_os, y_os = ros.fit_resample(df.iloc[:,1:], df.iloc[:,0])\n",
    "X_os.insert(0,'Owners',y_os)\n",
    "df = X_os\n",
    "for i in ['Age','selling_price','km_driven']: #Standardize and scale these columns so k-NN will perform better\n",
    "    df[i] = (df[i]-df[i].mean())/df[i].std()\n",
    "df = df.drop(columns = ['transmission_Automatic','seller_type_Trustmark Dealer','fuel_Other']) #Drop some dummy variables so we\n",
    "#have k - 1 variables for k levels and to prevent Singularity Issues"
   ]
  },
  {
   "cell_type": "code",
   "execution_count": 5,
   "id": "1b9e91a5",
   "metadata": {},
   "outputs": [
    {
     "data": {
      "text/html": [
       "<div>\n",
       "<style scoped>\n",
       "    .dataframe tbody tr th:only-of-type {\n",
       "        vertical-align: middle;\n",
       "    }\n",
       "\n",
       "    .dataframe tbody tr th {\n",
       "        vertical-align: top;\n",
       "    }\n",
       "\n",
       "    .dataframe thead th {\n",
       "        text-align: right;\n",
       "    }\n",
       "</style>\n",
       "<table border=\"1\" class=\"dataframe\">\n",
       "  <thead>\n",
       "    <tr style=\"text-align: right;\">\n",
       "      <th></th>\n",
       "      <th>Owners</th>\n",
       "      <th>Age</th>\n",
       "      <th>selling_price</th>\n",
       "      <th>km_driven</th>\n",
       "      <th>fuel_Diesel</th>\n",
       "      <th>fuel_Petrol</th>\n",
       "      <th>seller_type_Dealer</th>\n",
       "      <th>seller_type_Individual</th>\n",
       "      <th>transmission_Manual</th>\n",
       "    </tr>\n",
       "  </thead>\n",
       "  <tbody>\n",
       "    <tr>\n",
       "      <th>0</th>\n",
       "      <td>0</td>\n",
       "      <td>1.275586</td>\n",
       "      <td>-0.750469</td>\n",
       "      <td>-0.012935</td>\n",
       "      <td>0</td>\n",
       "      <td>1</td>\n",
       "      <td>0</td>\n",
       "      <td>1</td>\n",
       "      <td>1</td>\n",
       "    </tr>\n",
       "    <tr>\n",
       "      <th>1</th>\n",
       "      <td>0</td>\n",
       "      <td>1.275586</td>\n",
       "      <td>-0.612243</td>\n",
       "      <td>-0.443181</td>\n",
       "      <td>0</td>\n",
       "      <td>1</td>\n",
       "      <td>0</td>\n",
       "      <td>1</td>\n",
       "      <td>1</td>\n",
       "    </tr>\n",
       "    <tr>\n",
       "      <th>2</th>\n",
       "      <td>0</td>\n",
       "      <td>0.120375</td>\n",
       "      <td>0.244762</td>\n",
       "      <td>0.632433</td>\n",
       "      <td>1</td>\n",
       "      <td>0</td>\n",
       "      <td>0</td>\n",
       "      <td>1</td>\n",
       "      <td>1</td>\n",
       "    </tr>\n",
       "    <tr>\n",
       "      <th>3</th>\n",
       "      <td>0</td>\n",
       "      <td>-1.034835</td>\n",
       "      <td>-0.400295</td>\n",
       "      <td>-0.529230</td>\n",
       "      <td>0</td>\n",
       "      <td>1</td>\n",
       "      <td>0</td>\n",
       "      <td>1</td>\n",
       "      <td>1</td>\n",
       "    </tr>\n",
       "    <tr>\n",
       "      <th>4</th>\n",
       "      <td>1</td>\n",
       "      <td>-0.341709</td>\n",
       "      <td>-0.031691</td>\n",
       "      <td>1.514437</td>\n",
       "      <td>1</td>\n",
       "      <td>0</td>\n",
       "      <td>0</td>\n",
       "      <td>1</td>\n",
       "      <td>1</td>\n",
       "    </tr>\n",
       "    <tr>\n",
       "      <th>...</th>\n",
       "      <td>...</td>\n",
       "      <td>...</td>\n",
       "      <td>...</td>\n",
       "      <td>...</td>\n",
       "      <td>...</td>\n",
       "      <td>...</td>\n",
       "      <td>...</td>\n",
       "      <td>...</td>\n",
       "      <td>...</td>\n",
       "    </tr>\n",
       "    <tr>\n",
       "      <th>5659</th>\n",
       "      <td>1</td>\n",
       "      <td>0.351417</td>\n",
       "      <td>-0.603027</td>\n",
       "      <td>-0.228058</td>\n",
       "      <td>1</td>\n",
       "      <td>0</td>\n",
       "      <td>0</td>\n",
       "      <td>1</td>\n",
       "      <td>1</td>\n",
       "    </tr>\n",
       "    <tr>\n",
       "      <th>5660</th>\n",
       "      <td>1</td>\n",
       "      <td>-0.110667</td>\n",
       "      <td>-0.031691</td>\n",
       "      <td>0.094626</td>\n",
       "      <td>1</td>\n",
       "      <td>0</td>\n",
       "      <td>0</td>\n",
       "      <td>1</td>\n",
       "      <td>1</td>\n",
       "    </tr>\n",
       "    <tr>\n",
       "      <th>5661</th>\n",
       "      <td>1</td>\n",
       "      <td>0.813502</td>\n",
       "      <td>-0.206778</td>\n",
       "      <td>0.632433</td>\n",
       "      <td>1</td>\n",
       "      <td>0</td>\n",
       "      <td>0</td>\n",
       "      <td>1</td>\n",
       "      <td>0</td>\n",
       "    </tr>\n",
       "    <tr>\n",
       "      <th>5662</th>\n",
       "      <td>1</td>\n",
       "      <td>1.506628</td>\n",
       "      <td>-0.704394</td>\n",
       "      <td>-0.228058</td>\n",
       "      <td>0</td>\n",
       "      <td>1</td>\n",
       "      <td>0</td>\n",
       "      <td>1</td>\n",
       "      <td>1</td>\n",
       "    </tr>\n",
       "    <tr>\n",
       "      <th>5663</th>\n",
       "      <td>1</td>\n",
       "      <td>-0.572751</td>\n",
       "      <td>0.548861</td>\n",
       "      <td>0.202188</td>\n",
       "      <td>1</td>\n",
       "      <td>0</td>\n",
       "      <td>0</td>\n",
       "      <td>1</td>\n",
       "      <td>1</td>\n",
       "    </tr>\n",
       "  </tbody>\n",
       "</table>\n",
       "<p>5664 rows × 9 columns</p>\n",
       "</div>"
      ],
      "text/plain": [
       "      Owners       Age  selling_price  km_driven  fuel_Diesel  fuel_Petrol  \\\n",
       "0          0  1.275586      -0.750469  -0.012935            0            1   \n",
       "1          0  1.275586      -0.612243  -0.443181            0            1   \n",
       "2          0  0.120375       0.244762   0.632433            1            0   \n",
       "3          0 -1.034835      -0.400295  -0.529230            0            1   \n",
       "4          1 -0.341709      -0.031691   1.514437            1            0   \n",
       "...      ...       ...            ...        ...          ...          ...   \n",
       "5659       1  0.351417      -0.603027  -0.228058            1            0   \n",
       "5660       1 -0.110667      -0.031691   0.094626            1            0   \n",
       "5661       1  0.813502      -0.206778   0.632433            1            0   \n",
       "5662       1  1.506628      -0.704394  -0.228058            0            1   \n",
       "5663       1 -0.572751       0.548861   0.202188            1            0   \n",
       "\n",
       "      seller_type_Dealer  seller_type_Individual  transmission_Manual  \n",
       "0                      0                       1                    1  \n",
       "1                      0                       1                    1  \n",
       "2                      0                       1                    1  \n",
       "3                      0                       1                    1  \n",
       "4                      0                       1                    1  \n",
       "...                  ...                     ...                  ...  \n",
       "5659                   0                       1                    1  \n",
       "5660                   0                       1                    1  \n",
       "5661                   0                       1                    0  \n",
       "5662                   0                       1                    1  \n",
       "5663                   0                       1                    1  \n",
       "\n",
       "[5664 rows x 9 columns]"
      ]
     },
     "execution_count": 5,
     "metadata": {},
     "output_type": "execute_result"
    }
   ],
   "source": [
    "df"
   ]
  },
  {
   "cell_type": "code",
   "execution_count": 6,
   "id": "96850166",
   "metadata": {},
   "outputs": [],
   "source": [
    "X_train, X_test, y_train, y_test = train_test_split(df.iloc[:,1:], df.iloc[:,0], test_size = .2, random_state = 0) #Split dataset"
   ]
  },
  {
   "cell_type": "code",
   "execution_count": 7,
   "id": "dd635617",
   "metadata": {},
   "outputs": [
    {
     "name": "stdout",
     "output_type": "stream",
     "text": [
      "              precision    recall  f1-score   support\n",
      "\n",
      "           0       0.75      0.72      0.73       583\n",
      "           1       0.71      0.75      0.73       550\n",
      "\n",
      "    accuracy                           0.73      1133\n",
      "   macro avg       0.73      0.73      0.73      1133\n",
      "weighted avg       0.73      0.73      0.73      1133\n",
      "\n"
     ]
    },
    {
     "data": {
      "text/plain": [
       "<sklearn.metrics._plot.confusion_matrix.ConfusionMatrixDisplay at 0x7fcf5834f070>"
      ]
     },
     "execution_count": 7,
     "metadata": {},
     "output_type": "execute_result"
    },
    {
     "data": {
      "image/png": "[encoded data removed]",
      "text/plain": [
       "<Figure size 432x288 with 2 Axes>"
      ]
     },
     "metadata": {
      "needs_background": "light"
     },
     "output_type": "display_data"
    }
   ],
   "source": [
    "logreg = LogisticRegression() #Fit a logistic regression with default threshold\n",
    "logreg.fit(X_train,y_train)\n",
    "y_pred = logreg.predict(X_test)\n",
    "print(classification_report(y_test,y_pred))\n",
    "cm = ConfusionMatrixDisplay(confusion_matrix(y_test,y_pred)) #Make Confusion Matrix\n",
    "cm.plot()"
   ]
  },
  {
   "cell_type": "code",
   "execution_count": 8,
   "id": "f2c87d3d",
   "metadata": {},
   "outputs": [
    {
     "data": {
      "text/plain": [
       "0.7839965694682676"
      ]
     },
     "execution_count": 8,
     "metadata": {},
     "output_type": "execute_result"
    }
   ],
   "source": [
    "y_pred = logreg.predict_proba(X_test) \n",
    "y_pred = y_pred[::,1]#Extract sigmoid probabilities\n",
    "fpr, tpr, _ = roc_curve(y_test,  y_pred) #Calculate fpr and tpr for each threshold to make roc curve\n",
    "auc = roc_auc_score(y_test, y_pred) #Get AUC to evaulate model\n",
    "auc #AUC of roughly .8 Model performs fairly well"
   ]
  },
  {
   "cell_type": "code",
   "execution_count": 9,
   "id": "9a443bca",
   "metadata": {},
   "outputs": [
    {
     "data": {
      "image/png": "[encoded data removed]",
      "text/plain": [
       "<Figure size 432x288 with 1 Axes>"
      ]
     },
     "metadata": {
      "needs_background": "light"
     },
     "output_type": "display_data"
    }
   ],
   "source": [
    "plt.plot(fpr,tpr,label=\"AUC=\"+str(auc)) #Plot ROC curve\n",
    "plt.ylabel('True Positive Rate')\n",
    "plt.xlabel('False Positive Rate')\n",
    "plt.legend(loc=4)\n",
    "plt.show()"
   ]
  },
  {
   "cell_type": "code",
   "execution_count": 10,
   "id": "3d8c833b",
   "metadata": {},
   "outputs": [
    {
     "data": {
      "text/plain": [
       "0.4769721291990347"
      ]
     },
     "execution_count": 10,
     "metadata": {},
     "output_type": "execute_result"
    }
   ],
   "source": [
    "optimal_idx = np.argmax(tpr - fpr) #Find the optimal threshold\n",
    "optimal_threshold = _[optimal_idx]\n",
    "optimal_threshold"
   ]
  },
  {
   "cell_type": "code",
   "execution_count": 11,
   "id": "6e0308b4",
   "metadata": {},
   "outputs": [],
   "source": [
    "y_pred = (y_pred > optimal_threshold).astype(int) #Compare probabilites to optimal threshold for classification"
   ]
  },
  {
   "cell_type": "code",
   "execution_count": 12,
   "id": "a2715081",
   "metadata": {},
   "outputs": [
    {
     "name": "stdout",
     "output_type": "stream",
     "text": [
      "              precision    recall  f1-score   support\n",
      "\n",
      "           0       0.77      0.70      0.74       583\n",
      "           1       0.71      0.78      0.74       550\n",
      "\n",
      "    accuracy                           0.74      1133\n",
      "   macro avg       0.74      0.74      0.74      1133\n",
      "weighted avg       0.74      0.74      0.74      1133\n",
      "\n"
     ]
    }
   ],
   "source": [
    "print(classification_report(y_test,y_pred))"
   ]
  },
  {
   "cell_type": "code",
   "execution_count": 13,
   "id": "62494cd1",
   "metadata": {},
   "outputs": [
    {
     "data": {
      "text/plain": [
       "<sklearn.metrics._plot.confusion_matrix.ConfusionMatrixDisplay at 0x7fcf48a86250>"
      ]
     },
     "execution_count": 13,
     "metadata": {},
     "output_type": "execute_result"
    },
    {
     "data": {
      "image/png": "[encoded data removed]",
      "text/plain": [
       "<Figure size 432x288 with 2 Axes>"
      ]
     },
     "metadata": {
      "needs_background": "light"
     },
     "output_type": "display_data"
    }
   ],
   "source": [
    "cm = ConfusionMatrixDisplay(confusion_matrix(y_test,y_pred)) #Make Confusion Matrix\n",
    "cm.plot()"
   ]
  },
  {
   "attachments": {},
   "cell_type": "markdown",
   "id": "7665a9db",
   "metadata": {},
   "source": [
    "The optimal threshold is close to .5 so for simplicity sake, let's implement the built in .5 threshold model."
   ]
  },
  {
   "cell_type": "code",
   "execution_count": null,
   "id": "47d49a51",
   "metadata": {},
   "outputs": [],
   "source": []
  }
 ],
 "metadata": {
  "kernelspec": {
   "display_name": "Python 3 (ipykernel)",
   "language": "python",
   "name": "python3"
  },
  "language_info": {
   "codemirror_mode": {
    "name": "ipython",
    "version": 3
   },
   "file_extension": ".py",
   "mimetype": "text/x-python",
   "name": "python",
   "nbconvert_exporter": "python",
   "pygments_lexer": "ipython3",
   "version": "3.9.13"
  }
 },
 "nbformat": 4,
 "nbformat_minor": 5
}
