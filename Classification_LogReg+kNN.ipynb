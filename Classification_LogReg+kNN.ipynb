{
 "cells": [
  {
   "cell_type": "code",
   "execution_count": 27,
   "id": "2ac49ad0",
   "metadata": {},
   "outputs": [],
   "source": [
    "import pandas as pd \n",
    "import numpy as np\n",
    "import seaborn as sns\n",
    "from sklearn.model_selection import train_test_split,cross_validate,GridSearchCV\n",
    "from sklearn.metrics import confusion_matrix, classification_report, roc_curve, roc_auc_score, accuracy_score, ConfusionMatrixDisplay\n",
    "from sklearn.linear_model import LogisticRegression\n",
    "from imblearn.over_sampling import RandomOverSampler\n",
    "from sklearn.neighbors import KNeighborsClassifier\n",
    "import matplotlib.pyplot as plt\n",
    "import pickle"
   ]
  },
  {
   "cell_type": "code",
   "execution_count": 28,
   "id": "bf3e8cd2",
   "metadata": {},
   "outputs": [
    {
     "name": "stdout",
     "output_type": "stream",
     "text": [
      "Age) mean: 10.527189265536723, std: 4.366565310455436\n",
      "selling_price) mean: 463178.29996468924, std: 535345.0704025673\n",
      "km_driven) mean: 70613.98181497175, std: 46726.0783381431\n"
     ]
    },
    {
     "data": {
      "text/html": [
       "<div>\n",
       "<style scoped>\n",
       "    .dataframe tbody tr th:only-of-type {\n",
       "        vertical-align: middle;\n",
       "    }\n",
       "\n",
       "    .dataframe tbody tr th {\n",
       "        vertical-align: top;\n",
       "    }\n",
       "\n",
       "    .dataframe thead th {\n",
       "        text-align: right;\n",
       "    }\n",
       "</style>\n",
       "<table border=\"1\" class=\"dataframe\">\n",
       "  <thead>\n",
       "    <tr style=\"text-align: right;\">\n",
       "      <th></th>\n",
       "      <th>owner</th>\n",
       "      <th>Age</th>\n",
       "      <th>selling_price</th>\n",
       "      <th>km_driven</th>\n",
       "      <th>fuel_Diesel</th>\n",
       "      <th>fuel_Other</th>\n",
       "      <th>fuel_Petrol</th>\n",
       "      <th>seller_type_Dealer</th>\n",
       "      <th>seller_type_Individual</th>\n",
       "      <th>seller_type_Trustmark Dealer</th>\n",
       "      <th>transmission_Automatic</th>\n",
       "      <th>transmission_Manual</th>\n",
       "    </tr>\n",
       "  </thead>\n",
       "  <tbody>\n",
       "    <tr>\n",
       "      <th>0</th>\n",
       "      <td>0</td>\n",
       "      <td>1.253345</td>\n",
       "      <td>-0.753119</td>\n",
       "      <td>-0.013140</td>\n",
       "      <td>False</td>\n",
       "      <td>False</td>\n",
       "      <td>True</td>\n",
       "      <td>False</td>\n",
       "      <td>True</td>\n",
       "      <td>False</td>\n",
       "      <td>False</td>\n",
       "      <td>True</td>\n",
       "    </tr>\n",
       "    <tr>\n",
       "      <th>1</th>\n",
       "      <td>0</td>\n",
       "      <td>1.253345</td>\n",
       "      <td>-0.613022</td>\n",
       "      <td>-0.441167</td>\n",
       "      <td>False</td>\n",
       "      <td>False</td>\n",
       "      <td>True</td>\n",
       "      <td>False</td>\n",
       "      <td>True</td>\n",
       "      <td>False</td>\n",
       "      <td>False</td>\n",
       "      <td>True</td>\n",
       "    </tr>\n",
       "    <tr>\n",
       "      <th>2</th>\n",
       "      <td>0</td>\n",
       "      <td>0.108280</td>\n",
       "      <td>0.255577</td>\n",
       "      <td>0.628900</td>\n",
       "      <td>True</td>\n",
       "      <td>False</td>\n",
       "      <td>False</td>\n",
       "      <td>False</td>\n",
       "      <td>True</td>\n",
       "      <td>False</td>\n",
       "      <td>False</td>\n",
       "      <td>True</td>\n",
       "    </tr>\n",
       "    <tr>\n",
       "      <th>3</th>\n",
       "      <td>0</td>\n",
       "      <td>-1.036785</td>\n",
       "      <td>-0.398207</td>\n",
       "      <td>-0.526772</td>\n",
       "      <td>False</td>\n",
       "      <td>False</td>\n",
       "      <td>True</td>\n",
       "      <td>False</td>\n",
       "      <td>True</td>\n",
       "      <td>False</td>\n",
       "      <td>False</td>\n",
       "      <td>True</td>\n",
       "    </tr>\n",
       "    <tr>\n",
       "      <th>4</th>\n",
       "      <td>1</td>\n",
       "      <td>-0.349746</td>\n",
       "      <td>-0.024616</td>\n",
       "      <td>1.506354</td>\n",
       "      <td>True</td>\n",
       "      <td>False</td>\n",
       "      <td>False</td>\n",
       "      <td>False</td>\n",
       "      <td>True</td>\n",
       "      <td>False</td>\n",
       "      <td>False</td>\n",
       "      <td>True</td>\n",
       "    </tr>\n",
       "    <tr>\n",
       "      <th>...</th>\n",
       "      <td>...</td>\n",
       "      <td>...</td>\n",
       "      <td>...</td>\n",
       "      <td>...</td>\n",
       "      <td>...</td>\n",
       "      <td>...</td>\n",
       "      <td>...</td>\n",
       "      <td>...</td>\n",
       "      <td>...</td>\n",
       "      <td>...</td>\n",
       "      <td>...</td>\n",
       "      <td>...</td>\n",
       "    </tr>\n",
       "    <tr>\n",
       "      <th>5659</th>\n",
       "      <td>1</td>\n",
       "      <td>1.024332</td>\n",
       "      <td>0.068781</td>\n",
       "      <td>1.784571</td>\n",
       "      <td>True</td>\n",
       "      <td>False</td>\n",
       "      <td>False</td>\n",
       "      <td>False</td>\n",
       "      <td>True</td>\n",
       "      <td>False</td>\n",
       "      <td>False</td>\n",
       "      <td>True</td>\n",
       "    </tr>\n",
       "    <tr>\n",
       "      <th>5660</th>\n",
       "      <td>1</td>\n",
       "      <td>0.795319</td>\n",
       "      <td>-0.622362</td>\n",
       "      <td>0.628900</td>\n",
       "      <td>True</td>\n",
       "      <td>False</td>\n",
       "      <td>False</td>\n",
       "      <td>False</td>\n",
       "      <td>True</td>\n",
       "      <td>False</td>\n",
       "      <td>False</td>\n",
       "      <td>True</td>\n",
       "    </tr>\n",
       "    <tr>\n",
       "      <th>5661</th>\n",
       "      <td>1</td>\n",
       "      <td>0.108280</td>\n",
       "      <td>-0.482267</td>\n",
       "      <td>-0.227153</td>\n",
       "      <td>False</td>\n",
       "      <td>False</td>\n",
       "      <td>True</td>\n",
       "      <td>True</td>\n",
       "      <td>False</td>\n",
       "      <td>False</td>\n",
       "      <td>False</td>\n",
       "      <td>True</td>\n",
       "    </tr>\n",
       "    <tr>\n",
       "      <th>5662</th>\n",
       "      <td>1</td>\n",
       "      <td>1.711370</td>\n",
       "      <td>-0.304810</td>\n",
       "      <td>-0.013140</td>\n",
       "      <td>False</td>\n",
       "      <td>False</td>\n",
       "      <td>True</td>\n",
       "      <td>False</td>\n",
       "      <td>True</td>\n",
       "      <td>False</td>\n",
       "      <td>False</td>\n",
       "      <td>True</td>\n",
       "    </tr>\n",
       "    <tr>\n",
       "      <th>5663</th>\n",
       "      <td>1</td>\n",
       "      <td>-0.120733</td>\n",
       "      <td>0.815963</td>\n",
       "      <td>-0.462568</td>\n",
       "      <td>True</td>\n",
       "      <td>False</td>\n",
       "      <td>False</td>\n",
       "      <td>True</td>\n",
       "      <td>False</td>\n",
       "      <td>False</td>\n",
       "      <td>True</td>\n",
       "      <td>False</td>\n",
       "    </tr>\n",
       "  </tbody>\n",
       "</table>\n",
       "<p>5664 rows × 12 columns</p>\n",
       "</div>"
      ],
      "text/plain": [
       "      owner       Age  selling_price  km_driven  fuel_Diesel  fuel_Other   \n",
       "0         0  1.253345      -0.753119  -0.013140        False       False  \\\n",
       "1         0  1.253345      -0.613022  -0.441167        False       False   \n",
       "2         0  0.108280       0.255577   0.628900         True       False   \n",
       "3         0 -1.036785      -0.398207  -0.526772        False       False   \n",
       "4         1 -0.349746      -0.024616   1.506354         True       False   \n",
       "...     ...       ...            ...        ...          ...         ...   \n",
       "5659      1  1.024332       0.068781   1.784571         True       False   \n",
       "5660      1  0.795319      -0.622362   0.628900         True       False   \n",
       "5661      1  0.108280      -0.482267  -0.227153        False       False   \n",
       "5662      1  1.711370      -0.304810  -0.013140        False       False   \n",
       "5663      1 -0.120733       0.815963  -0.462568         True       False   \n",
       "\n",
       "      fuel_Petrol  seller_type_Dealer  seller_type_Individual   \n",
       "0            True               False                    True  \\\n",
       "1            True               False                    True   \n",
       "2           False               False                    True   \n",
       "3            True               False                    True   \n",
       "4           False               False                    True   \n",
       "...           ...                 ...                     ...   \n",
       "5659        False               False                    True   \n",
       "5660        False               False                    True   \n",
       "5661         True                True                   False   \n",
       "5662         True               False                    True   \n",
       "5663        False                True                   False   \n",
       "\n",
       "      seller_type_Trustmark Dealer  transmission_Automatic   \n",
       "0                            False                   False  \\\n",
       "1                            False                   False   \n",
       "2                            False                   False   \n",
       "3                            False                   False   \n",
       "4                            False                   False   \n",
       "...                            ...                     ...   \n",
       "5659                         False                   False   \n",
       "5660                         False                   False   \n",
       "5661                         False                   False   \n",
       "5662                         False                   False   \n",
       "5663                         False                    True   \n",
       "\n",
       "      transmission_Manual  \n",
       "0                    True  \n",
       "1                    True  \n",
       "2                    True  \n",
       "3                    True  \n",
       "4                    True  \n",
       "...                   ...  \n",
       "5659                 True  \n",
       "5660                 True  \n",
       "5661                 True  \n",
       "5662                 True  \n",
       "5663                False  \n",
       "\n",
       "[5664 rows x 12 columns]"
      ]
     },
     "execution_count": 28,
     "metadata": {},
     "output_type": "execute_result"
    }
   ],
   "source": [
    "df = pd.read_csv('CAR DETAILS FROM CAR DEKHO.csv') #Import raw data\n",
    "df = df.set_index('name') #Index each observation by the Car Model\n",
    "df['owner'] = df['owner'].apply(lambda x:0 if x == \"First Owner\" else 1).astype(int) # 0 means one previous owner (car is on the newer side)\n",
    "# 1 means two or more previous owner and car is on the older side. This definition seems clear and more simplified\n",
    "df['fuel'] = df['fuel'].apply(lambda x:'Petrol' if x == 'Petrol' else ('Diesel' if x == 'Diesel' else 'Other'))\n",
    "#Simplify fuel types into 3 categories. Any fuel type that isn't petrol/diesel make up <10% of the dataset and should be lumped as other instead\n",
    "df = pd.get_dummies(df, columns = ['fuel','seller_type','transmission']) #Make dummy variables for categorical variables so we can model with the data\n",
    "df['year'] = 2023 - df['year'] #Transform year column into a variable representing a car's age\n",
    "df.columns.values[0] = 'Age'\n",
    "owner = df.pop('owner') #Move owner column to front\n",
    "df.insert(0,'owner',owner)\n",
    "ros = RandomOverSampler(random_state = 42) #Balance the dataset\n",
    "X_os, y_os = ros.fit_resample(df.iloc[:,1:], df.iloc[:,0])\n",
    "X_os.insert(0,'owner',y_os)\n",
    "df = X_os\n",
    "for i in ['Age','selling_price','km_driven']: #Standardize and scale these columns so k-NN will perform better\n",
    "    print(i + \") mean: \" + str(df[i].mean()) + \", std: \" + str(df[i].std()))\n",
    "    df[i] = (df[i]-df[i].mean())/df[i].std()\n",
    "df"
   ]
  },
  {
   "attachments": {},
   "cell_type": "markdown",
   "id": "ee12de47",
   "metadata": {},
   "source": [
    "# k-NN (Best Classifcation Model)"
   ]
  },
  {
   "cell_type": "code",
   "execution_count": 29,
   "id": "63ff9a6d",
   "metadata": {},
   "outputs": [],
   "source": [
    "X_train, X_test, y_train, y_test = train_test_split(df.iloc[:,1:], df.iloc[:,0], test_size = .2, random_state = 0) #Split dataset"
   ]
  },
  {
   "cell_type": "code",
   "execution_count": 30,
   "id": "2bf5d184",
   "metadata": {},
   "outputs": [
    {
     "name": "stdout",
     "output_type": "stream",
     "text": [
      "Optimal Hyper-parameters :  {'n_neighbors': 1}\n",
      "Optimal Accuracy :  0.8214551525904724\n"
     ]
    }
   ],
   "source": [
    "knn = KNeighborsClassifier(n_neighbors=1) #k-NN model\n",
    "grid = GridSearchCV(knn, param_grid = {'n_neighbors':list(range(1,1000,2))}, n_jobs = -1) #Perform grid search to tune hyperparameter k\n",
    "grid.fit(X_train,y_train)\n",
    "print(\"Optimal Hyper-parameters : \", grid.best_params_)\n",
    "print(\"Optimal Accuracy : \", grid.best_score_)"
   ]
  },
  {
   "cell_type": "code",
   "execution_count": 31,
   "id": "dfa0c85c",
   "metadata": {},
   "outputs": [],
   "source": [
    "Accuracy = {}\n",
    "for i in range(1,1000,2): #Allow k to be odd to prevent ties #Compare accuracy among different k\n",
    "    knn = KNeighborsClassifier(n_neighbors=i) \n",
    "    knn.fit(X_train,y_train)\n",
    "    y_pred = knn.predict(X_test)\n",
    "    Accuracy[i] = accuracy_score(y_test,y_pred)"
   ]
  },
  {
   "cell_type": "code",
   "execution_count": 32,
   "id": "00b0e627",
   "metadata": {},
   "outputs": [],
   "source": [
    "k = np.array(list(Accuracy.keys())) #hyperparameter k\n",
    "Acc = np.array(list(Accuracy.values())) #Corresponding Accuracy Values"
   ]
  },
  {
   "cell_type": "code",
   "execution_count": 33,
   "id": "cf721a9f",
   "metadata": {},
   "outputs": [
    {
     "data": {
      "text/plain": [
       "[Text(0.5, 1.0, 'k-NN Accuracy Plot'),\n",
       " Text(0.5, 0, 'k'),\n",
       " Text(0, 0.5, 'Accuracy')]"
      ]
     },
     "execution_count": 33,
     "metadata": {},
     "output_type": "execute_result"
    },
    {
     "data": {
      "image/png": "[encoded data removed]",
      "text/plain": [
       "<Figure size 640x480 with 1 Axes>"
      ]
     },
     "metadata": {},
     "output_type": "display_data"
    }
   ],
   "source": [
    "ax = sns.lineplot(x = k, y = Acc) #Visualize the values of k and their corresponding accuracy\n",
    "ax.set(title = 'k-NN Accuracy Plot',xlabel = 'k',ylabel = 'Accuracy')"
   ]
  },
  {
   "cell_type": "code",
   "execution_count": 34,
   "id": "d9319cce",
   "metadata": {},
   "outputs": [
    {
     "name": "stdout",
     "output_type": "stream",
     "text": [
      "              precision    recall  f1-score   support\n",
      "\n",
      "           0       0.91      0.79      0.85       583\n",
      "           1       0.81      0.92      0.86       550\n",
      "\n",
      "    accuracy                           0.85      1133\n",
      "   macro avg       0.86      0.85      0.85      1133\n",
      "weighted avg       0.86      0.85      0.85      1133\n",
      "\n"
     ]
    }
   ],
   "source": [
    "knn = KNeighborsClassifier(n_neighbors=1) #Model works best when k = 1 now fit the model\n",
    "knn.fit(X_train,y_train)\n",
    "y_pred = knn.predict(X_test)\n",
    "print(classification_report(y_test,y_pred))"
   ]
  },
  {
   "cell_type": "code",
   "execution_count": 35,
   "id": "5483e1c7",
   "metadata": {},
   "outputs": [
    {
     "data": {
      "text/plain": [
       "<sklearn.metrics._plot.confusion_matrix.ConfusionMatrixDisplay at 0x283a2691ca0>"
      ]
     },
     "execution_count": 35,
     "metadata": {},
     "output_type": "execute_result"
    },
    {
     "data": {
      "image/png": "[encoded data removed]",
      "text/plain": [
       "<Figure size 640x480 with 2 Axes>"
      ]
     },
     "metadata": {},
     "output_type": "display_data"
    }
   ],
   "source": [
    "cm = ConfusionMatrixDisplay(confusion_matrix(y_test,y_pred))\n",
    "cm.plot()"
   ]
  },
  {
   "cell_type": "code",
   "execution_count": 36,
   "id": "a6002fbd",
   "metadata": {},
   "outputs": [
    {
     "name": "stdout",
     "output_type": "stream",
     "text": [
      "Accuracy\n",
      "[0.82010582 0.83950617 0.83950617 0.79365079 0.78798587 0.91519435\n",
      " 0.88162544 0.87632509 0.86219081 0.92226148]\n",
      "Average Accuracy =  0.8538351998304885\n"
     ]
    }
   ],
   "source": [
    "CV = cross_validate(knn,df.iloc[:,1:], df.iloc[:,0], cv=10, scoring=['accuracy']) #Ensure model generalizes well by checking 10-fold CV\n",
    "print('Accuracy')\n",
    "print(CV['test_accuracy'])\n",
    "print('Average Accuracy = ', sum(CV['test_accuracy']) / len(CV['test_accuracy']))"
   ]
  },
  {
   "cell_type": "code",
   "execution_count": 37,
   "id": "af7e4a56",
   "metadata": {},
   "outputs": [],
   "source": [
    "pickle.dump(knn, open(\"models/Classification_knn.pkl\", \"wb\"))"
   ]
  },
  {
   "cell_type": "code",
   "execution_count": 38,
   "id": "9caaebf4",
   "metadata": {},
   "outputs": [
    {
     "data": {
      "text/plain": [
       "owner                                   1\n",
       "Age                              4.688539\n",
       "selling_price                   15.759595\n",
       "km_driven                       15.751055\n",
       "fuel_Diesel                          True\n",
       "fuel_Other                           True\n",
       "fuel_Petrol                          True\n",
       "seller_type_Dealer                   True\n",
       "seller_type_Individual               True\n",
       "seller_type_Trustmark Dealer         True\n",
       "transmission_Automatic               True\n",
       "transmission_Manual                  True\n",
       "dtype: object"
      ]
     },
     "execution_count": 38,
     "metadata": {},
     "output_type": "execute_result"
    }
   ],
   "source": [
    "df.max(axis = 0)"
   ]
  },
  {
   "cell_type": "code",
   "execution_count": 39,
   "id": "85bc6788",
   "metadata": {},
   "outputs": [
    {
     "data": {
      "text/plain": [
       "owner                                  0\n",
       "Age                            -1.723824\n",
       "selling_price                  -0.827837\n",
       "km_driven                      -1.511211\n",
       "fuel_Diesel                        False\n",
       "fuel_Other                         False\n",
       "fuel_Petrol                        False\n",
       "seller_type_Dealer                 False\n",
       "seller_type_Individual             False\n",
       "seller_type_Trustmark Dealer       False\n",
       "transmission_Automatic             False\n",
       "transmission_Manual                False\n",
       "dtype: object"
      ]
     },
     "execution_count": 39,
     "metadata": {},
     "output_type": "execute_result"
    }
   ],
   "source": [
    "df.min(axis = 0)"
   ]
  },
  {
   "attachments": {},
   "cell_type": "markdown",
   "id": "87aba9c2",
   "metadata": {},
   "source": [
    "# Logistic Regression"
   ]
  },
  {
   "cell_type": "code",
   "execution_count": 40,
   "id": "4bf0b92f",
   "metadata": {},
   "outputs": [
    {
     "name": "stdout",
     "output_type": "stream",
     "text": [
      "Age) mean: 10.527189265536723, std: 4.366565310455436\n",
      "selling_price) mean: 463178.29996468924, std: 535345.0704025673\n",
      "km_driven) mean: 70613.98181497175, std: 46726.0783381431\n",
      "      owner       Age  selling_price  km_driven  fuel_Diesel  fuel_Other   \n",
      "0         0  1.253345      -0.753119  -0.013140        False       False  \\\n",
      "1         0  1.253345      -0.613022  -0.441167        False       False   \n",
      "2         0  0.108280       0.255577   0.628900         True       False   \n",
      "3         0 -1.036785      -0.398207  -0.526772        False       False   \n",
      "4         1 -0.349746      -0.024616   1.506354         True       False   \n",
      "...     ...       ...            ...        ...          ...         ...   \n",
      "5659      1  1.024332       0.068781   1.784571         True       False   \n",
      "5660      1  0.795319      -0.622362   0.628900         True       False   \n",
      "5661      1  0.108280      -0.482267  -0.227153        False       False   \n",
      "5662      1  1.711370      -0.304810  -0.013140        False       False   \n",
      "5663      1 -0.120733       0.815963  -0.462568         True       False   \n",
      "\n",
      "      fuel_Petrol  seller_type_Dealer  seller_type_Individual   \n",
      "0            True               False                    True  \\\n",
      "1            True               False                    True   \n",
      "2           False               False                    True   \n",
      "3            True               False                    True   \n",
      "4           False               False                    True   \n",
      "...           ...                 ...                     ...   \n",
      "5659        False               False                    True   \n",
      "5660        False               False                    True   \n",
      "5661         True                True                   False   \n",
      "5662         True               False                    True   \n",
      "5663        False                True                   False   \n",
      "\n",
      "      seller_type_Trustmark Dealer  transmission_Automatic   \n",
      "0                            False                   False  \\\n",
      "1                            False                   False   \n",
      "2                            False                   False   \n",
      "3                            False                   False   \n",
      "4                            False                   False   \n",
      "...                            ...                     ...   \n",
      "5659                         False                   False   \n",
      "5660                         False                   False   \n",
      "5661                         False                   False   \n",
      "5662                         False                   False   \n",
      "5663                         False                    True   \n",
      "\n",
      "      transmission_Manual  \n",
      "0                    True  \n",
      "1                    True  \n",
      "2                    True  \n",
      "3                    True  \n",
      "4                    True  \n",
      "...                   ...  \n",
      "5659                 True  \n",
      "5660                 True  \n",
      "5661                 True  \n",
      "5662                 True  \n",
      "5663                False  \n",
      "\n",
      "[5664 rows x 12 columns]\n"
     ]
    }
   ],
   "source": [
    "df = pd.read_csv('CAR DETAILS FROM CAR DEKHO.csv') #Import raw data\n",
    "df = df.set_index('name') #Index each observation by the Car Model\n",
    "df['owner'] = df['owner'].apply(lambda x:0 if x == \"First Owner\" else 1).astype(int) # 0 means one previous owner (car is on the newer side)\n",
    "# 1 means two or more previous owner and car is on the older side. This definition seems clear and more simplified\n",
    "df['fuel'] = df['fuel'].apply(lambda x:'Petrol' if x == 'Petrol' else ('Diesel' if x == 'Diesel' else 'Other'))\n",
    "#Simplify fuel types into 3 categories. Any fuel type that isn't petrol/diesel make up <10% of the dataset and should be lumped as other instead\n",
    "df = pd.get_dummies(df, columns = ['fuel','seller_type','transmission']) #Make dummy variables for categorical variables so we can model with the data\n",
    "df['year'] = 2023 - df['year'] #Transform year column into a variable representing a car's age\n",
    "df.columns.values[0] = 'Age'\n",
    "owner = df.pop('owner') #Move owner column to front\n",
    "df.insert(0,'owner',owner)\n",
    "ros = RandomOverSampler(random_state = 42) #Balance the dataset\n",
    "X_os, y_os = ros.fit_resample(df.iloc[:,1:], df.iloc[:,0])\n",
    "X_os.insert(0,'owner',y_os)\n",
    "df = X_os\n",
    "for i in ['Age','selling_price','km_driven']: #Standardize and scale these columns so k-NN will perform better\n",
    "    print(i + \") mean: \" + str(df[i].mean()) + \", std: \" + str(df[i].std()))\n",
    "    df[i] = (df[i]-df[i].mean())/df[i].std()\n",
    "print(df)\n",
    "df = df.drop(columns = ['transmission_Automatic','seller_type_Dealer','fuel_Other']) #Drop some dummy variables so we\n",
    "#have k - 1 variables for k levels and to prevent Singularity Issues"
   ]
  },
  {
   "cell_type": "code",
   "execution_count": 41,
   "id": "1b9e91a5",
   "metadata": {},
   "outputs": [
    {
     "data": {
      "text/html": [
       "<div>\n",
       "<style scoped>\n",
       "    .dataframe tbody tr th:only-of-type {\n",
       "        vertical-align: middle;\n",
       "    }\n",
       "\n",
       "    .dataframe tbody tr th {\n",
       "        vertical-align: top;\n",
       "    }\n",
       "\n",
       "    .dataframe thead th {\n",
       "        text-align: right;\n",
       "    }\n",
       "</style>\n",
       "<table border=\"1\" class=\"dataframe\">\n",
       "  <thead>\n",
       "    <tr style=\"text-align: right;\">\n",
       "      <th></th>\n",
       "      <th>owner</th>\n",
       "      <th>Age</th>\n",
       "      <th>selling_price</th>\n",
       "      <th>km_driven</th>\n",
       "      <th>fuel_Diesel</th>\n",
       "      <th>fuel_Petrol</th>\n",
       "      <th>seller_type_Individual</th>\n",
       "      <th>seller_type_Trustmark Dealer</th>\n",
       "      <th>transmission_Manual</th>\n",
       "    </tr>\n",
       "  </thead>\n",
       "  <tbody>\n",
       "    <tr>\n",
       "      <th>0</th>\n",
       "      <td>0</td>\n",
       "      <td>1.253345</td>\n",
       "      <td>-0.753119</td>\n",
       "      <td>-0.013140</td>\n",
       "      <td>False</td>\n",
       "      <td>True</td>\n",
       "      <td>True</td>\n",
       "      <td>False</td>\n",
       "      <td>True</td>\n",
       "    </tr>\n",
       "    <tr>\n",
       "      <th>1</th>\n",
       "      <td>0</td>\n",
       "      <td>1.253345</td>\n",
       "      <td>-0.613022</td>\n",
       "      <td>-0.441167</td>\n",
       "      <td>False</td>\n",
       "      <td>True</td>\n",
       "      <td>True</td>\n",
       "      <td>False</td>\n",
       "      <td>True</td>\n",
       "    </tr>\n",
       "    <tr>\n",
       "      <th>2</th>\n",
       "      <td>0</td>\n",
       "      <td>0.108280</td>\n",
       "      <td>0.255577</td>\n",
       "      <td>0.628900</td>\n",
       "      <td>True</td>\n",
       "      <td>False</td>\n",
       "      <td>True</td>\n",
       "      <td>False</td>\n",
       "      <td>True</td>\n",
       "    </tr>\n",
       "    <tr>\n",
       "      <th>3</th>\n",
       "      <td>0</td>\n",
       "      <td>-1.036785</td>\n",
       "      <td>-0.398207</td>\n",
       "      <td>-0.526772</td>\n",
       "      <td>False</td>\n",
       "      <td>True</td>\n",
       "      <td>True</td>\n",
       "      <td>False</td>\n",
       "      <td>True</td>\n",
       "    </tr>\n",
       "    <tr>\n",
       "      <th>4</th>\n",
       "      <td>1</td>\n",
       "      <td>-0.349746</td>\n",
       "      <td>-0.024616</td>\n",
       "      <td>1.506354</td>\n",
       "      <td>True</td>\n",
       "      <td>False</td>\n",
       "      <td>True</td>\n",
       "      <td>False</td>\n",
       "      <td>True</td>\n",
       "    </tr>\n",
       "    <tr>\n",
       "      <th>...</th>\n",
       "      <td>...</td>\n",
       "      <td>...</td>\n",
       "      <td>...</td>\n",
       "      <td>...</td>\n",
       "      <td>...</td>\n",
       "      <td>...</td>\n",
       "      <td>...</td>\n",
       "      <td>...</td>\n",
       "      <td>...</td>\n",
       "    </tr>\n",
       "    <tr>\n",
       "      <th>5659</th>\n",
       "      <td>1</td>\n",
       "      <td>1.024332</td>\n",
       "      <td>0.068781</td>\n",
       "      <td>1.784571</td>\n",
       "      <td>True</td>\n",
       "      <td>False</td>\n",
       "      <td>True</td>\n",
       "      <td>False</td>\n",
       "      <td>True</td>\n",
       "    </tr>\n",
       "    <tr>\n",
       "      <th>5660</th>\n",
       "      <td>1</td>\n",
       "      <td>0.795319</td>\n",
       "      <td>-0.622362</td>\n",
       "      <td>0.628900</td>\n",
       "      <td>True</td>\n",
       "      <td>False</td>\n",
       "      <td>True</td>\n",
       "      <td>False</td>\n",
       "      <td>True</td>\n",
       "    </tr>\n",
       "    <tr>\n",
       "      <th>5661</th>\n",
       "      <td>1</td>\n",
       "      <td>0.108280</td>\n",
       "      <td>-0.482267</td>\n",
       "      <td>-0.227153</td>\n",
       "      <td>False</td>\n",
       "      <td>True</td>\n",
       "      <td>False</td>\n",
       "      <td>False</td>\n",
       "      <td>True</td>\n",
       "    </tr>\n",
       "    <tr>\n",
       "      <th>5662</th>\n",
       "      <td>1</td>\n",
       "      <td>1.711370</td>\n",
       "      <td>-0.304810</td>\n",
       "      <td>-0.013140</td>\n",
       "      <td>False</td>\n",
       "      <td>True</td>\n",
       "      <td>True</td>\n",
       "      <td>False</td>\n",
       "      <td>True</td>\n",
       "    </tr>\n",
       "    <tr>\n",
       "      <th>5663</th>\n",
       "      <td>1</td>\n",
       "      <td>-0.120733</td>\n",
       "      <td>0.815963</td>\n",
       "      <td>-0.462568</td>\n",
       "      <td>True</td>\n",
       "      <td>False</td>\n",
       "      <td>False</td>\n",
       "      <td>False</td>\n",
       "      <td>False</td>\n",
       "    </tr>\n",
       "  </tbody>\n",
       "</table>\n",
       "<p>5664 rows × 9 columns</p>\n",
       "</div>"
      ],
      "text/plain": [
       "      owner       Age  selling_price  km_driven  fuel_Diesel  fuel_Petrol   \n",
       "0         0  1.253345      -0.753119  -0.013140        False         True  \\\n",
       "1         0  1.253345      -0.613022  -0.441167        False         True   \n",
       "2         0  0.108280       0.255577   0.628900         True        False   \n",
       "3         0 -1.036785      -0.398207  -0.526772        False         True   \n",
       "4         1 -0.349746      -0.024616   1.506354         True        False   \n",
       "...     ...       ...            ...        ...          ...          ...   \n",
       "5659      1  1.024332       0.068781   1.784571         True        False   \n",
       "5660      1  0.795319      -0.622362   0.628900         True        False   \n",
       "5661      1  0.108280      -0.482267  -0.227153        False         True   \n",
       "5662      1  1.711370      -0.304810  -0.013140        False         True   \n",
       "5663      1 -0.120733       0.815963  -0.462568         True        False   \n",
       "\n",
       "      seller_type_Individual  seller_type_Trustmark Dealer   \n",
       "0                       True                         False  \\\n",
       "1                       True                         False   \n",
       "2                       True                         False   \n",
       "3                       True                         False   \n",
       "4                       True                         False   \n",
       "...                      ...                           ...   \n",
       "5659                    True                         False   \n",
       "5660                    True                         False   \n",
       "5661                   False                         False   \n",
       "5662                    True                         False   \n",
       "5663                   False                         False   \n",
       "\n",
       "      transmission_Manual  \n",
       "0                    True  \n",
       "1                    True  \n",
       "2                    True  \n",
       "3                    True  \n",
       "4                    True  \n",
       "...                   ...  \n",
       "5659                 True  \n",
       "5660                 True  \n",
       "5661                 True  \n",
       "5662                 True  \n",
       "5663                False  \n",
       "\n",
       "[5664 rows x 9 columns]"
      ]
     },
     "execution_count": 41,
     "metadata": {},
     "output_type": "execute_result"
    }
   ],
   "source": [
    "df"
   ]
  },
  {
   "cell_type": "code",
   "execution_count": 42,
   "id": "96850166",
   "metadata": {},
   "outputs": [],
   "source": [
    "X_train, X_test, y_train, y_test = train_test_split(df.iloc[:,1:], df.iloc[:,0], test_size = .2, random_state = 0) #Split dataset"
   ]
  },
  {
   "cell_type": "code",
   "execution_count": 43,
   "id": "dd635617",
   "metadata": {},
   "outputs": [
    {
     "name": "stdout",
     "output_type": "stream",
     "text": [
      "              precision    recall  f1-score   support\n",
      "\n",
      "           0       0.75      0.72      0.73       583\n",
      "           1       0.71      0.74      0.73       550\n",
      "\n",
      "    accuracy                           0.73      1133\n",
      "   macro avg       0.73      0.73      0.73      1133\n",
      "weighted avg       0.73      0.73      0.73      1133\n",
      "\n"
     ]
    },
    {
     "data": {
      "text/plain": [
       "<sklearn.metrics._plot.confusion_matrix.ConfusionMatrixDisplay at 0x283a2953af0>"
      ]
     },
     "execution_count": 43,
     "metadata": {},
     "output_type": "execute_result"
    },
    {
     "data": {
      "image/png": "[encoded data removed]",
      "text/plain": [
       "<Figure size 640x480 with 2 Axes>"
      ]
     },
     "metadata": {},
     "output_type": "display_data"
    }
   ],
   "source": [
    "logreg = LogisticRegression() #Fit a logistic regression with default threshold\n",
    "logreg.fit(X_train,y_train)\n",
    "y_pred = logreg.predict(X_test)\n",
    "print(classification_report(y_test,y_pred))\n",
    "cm = ConfusionMatrixDisplay(confusion_matrix(y_test,y_pred)) #Make Confusion Matrix\n",
    "cm.plot()"
   ]
  },
  {
   "cell_type": "code",
   "execution_count": 44,
   "id": "f2c87d3d",
   "metadata": {},
   "outputs": [
    {
     "data": {
      "text/plain": [
       "0.7830765632309372"
      ]
     },
     "execution_count": 44,
     "metadata": {},
     "output_type": "execute_result"
    }
   ],
   "source": [
    "y_pred = logreg.predict_proba(X_test) \n",
    "y_pred = y_pred[::,1]#Extract sigmoid probabilities\n",
    "fpr, tpr, _ = roc_curve(y_test,  y_pred) #Calculate fpr and tpr for each threshold to make roc curve\n",
    "auc = roc_auc_score(y_test, y_pred) #Get AUC to evaulate model\n",
    "auc #AUC of roughly .8 Model performs fairly well"
   ]
  },
  {
   "cell_type": "code",
   "execution_count": 45,
   "id": "9a443bca",
   "metadata": {},
   "outputs": [
    {
     "data": {
      "image/png": "[encoded data removed]",
      "text/plain": [
       "<Figure size 640x480 with 1 Axes>"
      ]
     },
     "metadata": {},
     "output_type": "display_data"
    }
   ],
   "source": [
    "plt.plot(fpr,tpr,label=\"AUC=\"+str(auc)) #Plot ROC curve\n",
    "plt.ylabel('True Positive Rate')\n",
    "plt.xlabel('False Positive Rate')\n",
    "plt.legend(loc=4)\n",
    "plt.show()"
   ]
  },
  {
   "cell_type": "code",
   "execution_count": 46,
   "id": "3d8c833b",
   "metadata": {},
   "outputs": [
    {
     "data": {
      "text/plain": [
       "0.4632854322437184"
      ]
     },
     "execution_count": 46,
     "metadata": {},
     "output_type": "execute_result"
    }
   ],
   "source": [
    "optimal_idx = np.argmax(tpr - fpr) #Find the optimal threshold\n",
    "optimal_threshold = _[optimal_idx]\n",
    "optimal_threshold"
   ]
  },
  {
   "cell_type": "code",
   "execution_count": 47,
   "id": "6e0308b4",
   "metadata": {},
   "outputs": [],
   "source": [
    "y_pred = (y_pred > optimal_threshold).astype(int) #Compare probabilites to optimal threshold for classification"
   ]
  },
  {
   "cell_type": "code",
   "execution_count": 48,
   "id": "a2715081",
   "metadata": {},
   "outputs": [
    {
     "name": "stdout",
     "output_type": "stream",
     "text": [
      "              precision    recall  f1-score   support\n",
      "\n",
      "           0       0.78      0.69      0.73       583\n",
      "           1       0.70      0.79      0.75       550\n",
      "\n",
      "    accuracy                           0.74      1133\n",
      "   macro avg       0.74      0.74      0.74      1133\n",
      "weighted avg       0.74      0.74      0.74      1133\n",
      "\n"
     ]
    }
   ],
   "source": [
    "print(classification_report(y_test,y_pred))"
   ]
  },
  {
   "cell_type": "code",
   "execution_count": 49,
   "id": "62494cd1",
   "metadata": {},
   "outputs": [
    {
     "data": {
      "text/plain": [
       "<sklearn.metrics._plot.confusion_matrix.ConfusionMatrixDisplay at 0x283a5ccbac0>"
      ]
     },
     "execution_count": 49,
     "metadata": {},
     "output_type": "execute_result"
    },
    {
     "data": {
      "image/png": "[encoded data removed]",
      "text/plain": [
       "<Figure size 640x480 with 2 Axes>"
      ]
     },
     "metadata": {},
     "output_type": "display_data"
    }
   ],
   "source": [
    "cm = ConfusionMatrixDisplay(confusion_matrix(y_test,y_pred)) #Make Confusion Matrix\n",
    "cm.plot()"
   ]
  },
  {
   "attachments": {},
   "cell_type": "markdown",
   "id": "7665a9db",
   "metadata": {},
   "source": [
    "The optimal threshold is close to .5 so for simplicity sake, let's implement the built in .5 threshold model."
   ]
  },
  {
   "cell_type": "code",
   "execution_count": 50,
   "id": "48a9ac10",
   "metadata": {},
   "outputs": [],
   "source": [
    "pickle.dump(logreg, open(\"models/Classification_LogReg.pkl\", \"wb\"))"
   ]
  },
  {
   "cell_type": "code",
   "execution_count": null,
   "id": "47d49a51",
   "metadata": {},
   "outputs": [],
   "source": []
  }
 ],
 "metadata": {
  "kernelspec": {
   "display_name": "Python 3 (ipykernel)",
   "language": "python",
   "name": "python3"
  },
  "language_info": {
   "codemirror_mode": {
    "name": "ipython",
    "version": 3
   },
   "file_extension": ".py",
   "mimetype": "text/x-python",
   "name": "python",
   "nbconvert_exporter": "python",
   "pygments_lexer": "ipython3",
   "version": "3.9.13"
  }
 },
 "nbformat": 4,
 "nbformat_minor": 5
}
