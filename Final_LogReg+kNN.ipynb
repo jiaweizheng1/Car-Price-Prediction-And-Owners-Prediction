{
 "cells": [
  {
   "cell_type": "code",
   "execution_count": 79,
   "id": "2ac49ad0",
   "metadata": {},
   "outputs": [],
   "source": [
    "import pandas as pd \n",
    "import numpy as np\n",
    "import seaborn as sns\n",
    "from sklearn.model_selection import train_test_split,cross_validate,GridSearchCV\n",
    "from sklearn.metrics import confusion_matrix, classification_report, roc_curve, roc_auc_score, accuracy_score, ConfusionMatrixDisplay\n",
    "from sklearn.linear_model import LogisticRegression\n",
    "from imblearn.over_sampling import RandomOverSampler\n",
    "from sklearn.neighbors import KNeighborsClassifier\n",
    "import matplotlib.pyplot as plt\n",
    "import pickle"
   ]
  },
  {
   "cell_type": "code",
   "execution_count": 80,
   "id": "bf3e8cd2",
   "metadata": {},
   "outputs": [
    {
     "data": {
      "text/html": [
       "<div>\n",
       "<style scoped>\n",
       "    .dataframe tbody tr th:only-of-type {\n",
       "        vertical-align: middle;\n",
       "    }\n",
       "\n",
       "    .dataframe tbody tr th {\n",
       "        vertical-align: top;\n",
       "    }\n",
       "\n",
       "    .dataframe thead th {\n",
       "        text-align: right;\n",
       "    }\n",
       "</style>\n",
       "<table border=\"1\" class=\"dataframe\">\n",
       "  <thead>\n",
       "    <tr style=\"text-align: right;\">\n",
       "      <th></th>\n",
       "      <th>Owners</th>\n",
       "      <th>Age</th>\n",
       "      <th>selling_price</th>\n",
       "      <th>km_driven</th>\n",
       "      <th>fuel_Diesel</th>\n",
       "      <th>fuel_Other</th>\n",
       "      <th>fuel_Petrol</th>\n",
       "      <th>seller_type_Dealer</th>\n",
       "      <th>seller_type_Individual</th>\n",
       "      <th>seller_type_Trustmark Dealer</th>\n",
       "      <th>transmission_Automatic</th>\n",
       "      <th>transmission_Manual</th>\n",
       "    </tr>\n",
       "  </thead>\n",
       "  <tbody>\n",
       "    <tr>\n",
       "      <th>0</th>\n",
       "      <td>0</td>\n",
       "      <td>1.444908</td>\n",
       "      <td>-0.767658</td>\n",
       "      <td>0.081130</td>\n",
       "      <td>0</td>\n",
       "      <td>0</td>\n",
       "      <td>1</td>\n",
       "      <td>0</td>\n",
       "      <td>1</td>\n",
       "      <td>0</td>\n",
       "      <td>0</td>\n",
       "      <td>1</td>\n",
       "    </tr>\n",
       "    <tr>\n",
       "      <th>1</th>\n",
       "      <td>0</td>\n",
       "      <td>1.444908</td>\n",
       "      <td>-0.638023</td>\n",
       "      <td>-0.347649</td>\n",
       "      <td>0</td>\n",
       "      <td>0</td>\n",
       "      <td>1</td>\n",
       "      <td>0</td>\n",
       "      <td>1</td>\n",
       "      <td>0</td>\n",
       "      <td>0</td>\n",
       "      <td>1</td>\n",
       "    </tr>\n",
       "    <tr>\n",
       "      <th>2</th>\n",
       "      <td>0</td>\n",
       "      <td>0.258765</td>\n",
       "      <td>0.165712</td>\n",
       "      <td>0.724298</td>\n",
       "      <td>1</td>\n",
       "      <td>0</td>\n",
       "      <td>0</td>\n",
       "      <td>0</td>\n",
       "      <td>1</td>\n",
       "      <td>0</td>\n",
       "      <td>0</td>\n",
       "      <td>1</td>\n",
       "    </tr>\n",
       "    <tr>\n",
       "      <th>3</th>\n",
       "      <td>0</td>\n",
       "      <td>-0.927378</td>\n",
       "      <td>-0.439250</td>\n",
       "      <td>-0.433405</td>\n",
       "      <td>0</td>\n",
       "      <td>0</td>\n",
       "      <td>1</td>\n",
       "      <td>0</td>\n",
       "      <td>1</td>\n",
       "      <td>0</td>\n",
       "      <td>0</td>\n",
       "      <td>1</td>\n",
       "    </tr>\n",
       "    <tr>\n",
       "      <th>4</th>\n",
       "      <td>1</td>\n",
       "      <td>-0.215692</td>\n",
       "      <td>-0.093557</td>\n",
       "      <td>1.603294</td>\n",
       "      <td>1</td>\n",
       "      <td>0</td>\n",
       "      <td>0</td>\n",
       "      <td>0</td>\n",
       "      <td>1</td>\n",
       "      <td>0</td>\n",
       "      <td>0</td>\n",
       "      <td>1</td>\n",
       "    </tr>\n",
       "    <tr>\n",
       "      <th>...</th>\n",
       "      <td>...</td>\n",
       "      <td>...</td>\n",
       "      <td>...</td>\n",
       "      <td>...</td>\n",
       "      <td>...</td>\n",
       "      <td>...</td>\n",
       "      <td>...</td>\n",
       "      <td>...</td>\n",
       "      <td>...</td>\n",
       "      <td>...</td>\n",
       "      <td>...</td>\n",
       "      <td>...</td>\n",
       "    </tr>\n",
       "    <tr>\n",
       "      <th>5659</th>\n",
       "      <td>1</td>\n",
       "      <td>2.156594</td>\n",
       "      <td>-0.326900</td>\n",
       "      <td>0.938687</td>\n",
       "      <td>1</td>\n",
       "      <td>0</td>\n",
       "      <td>0</td>\n",
       "      <td>0</td>\n",
       "      <td>1</td>\n",
       "      <td>0</td>\n",
       "      <td>0</td>\n",
       "      <td>1</td>\n",
       "    </tr>\n",
       "    <tr>\n",
       "      <th>5660</th>\n",
       "      <td>1</td>\n",
       "      <td>0.495994</td>\n",
       "      <td>-0.439250</td>\n",
       "      <td>-0.237667</td>\n",
       "      <td>1</td>\n",
       "      <td>0</td>\n",
       "      <td>0</td>\n",
       "      <td>1</td>\n",
       "      <td>0</td>\n",
       "      <td>0</td>\n",
       "      <td>0</td>\n",
       "      <td>1</td>\n",
       "    </tr>\n",
       "    <tr>\n",
       "      <th>5661</th>\n",
       "      <td>1</td>\n",
       "      <td>-0.927378</td>\n",
       "      <td>-0.266403</td>\n",
       "      <td>0.081130</td>\n",
       "      <td>0</td>\n",
       "      <td>0</td>\n",
       "      <td>1</td>\n",
       "      <td>0</td>\n",
       "      <td>1</td>\n",
       "      <td>0</td>\n",
       "      <td>0</td>\n",
       "      <td>1</td>\n",
       "    </tr>\n",
       "    <tr>\n",
       "      <th>5662</th>\n",
       "      <td>1</td>\n",
       "      <td>0.970451</td>\n",
       "      <td>-0.439250</td>\n",
       "      <td>-0.090382</td>\n",
       "      <td>0</td>\n",
       "      <td>0</td>\n",
       "      <td>1</td>\n",
       "      <td>1</td>\n",
       "      <td>0</td>\n",
       "      <td>0</td>\n",
       "      <td>0</td>\n",
       "      <td>1</td>\n",
       "    </tr>\n",
       "    <tr>\n",
       "      <th>5663</th>\n",
       "      <td>1</td>\n",
       "      <td>1.682136</td>\n",
       "      <td>-0.784942</td>\n",
       "      <td>1.153077</td>\n",
       "      <td>1</td>\n",
       "      <td>0</td>\n",
       "      <td>0</td>\n",
       "      <td>0</td>\n",
       "      <td>1</td>\n",
       "      <td>0</td>\n",
       "      <td>0</td>\n",
       "      <td>1</td>\n",
       "    </tr>\n",
       "  </tbody>\n",
       "</table>\n",
       "<p>5664 rows × 12 columns</p>\n",
       "</div>"
      ],
      "text/plain": [
       "      Owners       Age  selling_price  km_driven  fuel_Diesel  fuel_Other  \\\n",
       "0          0  1.444908      -0.767658   0.081130            0           0   \n",
       "1          0  1.444908      -0.638023  -0.347649            0           0   \n",
       "2          0  0.258765       0.165712   0.724298            1           0   \n",
       "3          0 -0.927378      -0.439250  -0.433405            0           0   \n",
       "4          1 -0.215692      -0.093557   1.603294            1           0   \n",
       "...      ...       ...            ...        ...          ...         ...   \n",
       "5659       1  2.156594      -0.326900   0.938687            1           0   \n",
       "5660       1  0.495994      -0.439250  -0.237667            1           0   \n",
       "5661       1 -0.927378      -0.266403   0.081130            0           0   \n",
       "5662       1  0.970451      -0.439250  -0.090382            0           0   \n",
       "5663       1  1.682136      -0.784942   1.153077            1           0   \n",
       "\n",
       "      fuel_Petrol  seller_type_Dealer  seller_type_Individual  \\\n",
       "0               1                   0                       1   \n",
       "1               1                   0                       1   \n",
       "2               0                   0                       1   \n",
       "3               1                   0                       1   \n",
       "4               0                   0                       1   \n",
       "...           ...                 ...                     ...   \n",
       "5659            0                   0                       1   \n",
       "5660            0                   1                       0   \n",
       "5661            1                   0                       1   \n",
       "5662            1                   1                       0   \n",
       "5663            0                   0                       1   \n",
       "\n",
       "      seller_type_Trustmark Dealer  transmission_Automatic  \\\n",
       "0                                0                       0   \n",
       "1                                0                       0   \n",
       "2                                0                       0   \n",
       "3                                0                       0   \n",
       "4                                0                       0   \n",
       "...                            ...                     ...   \n",
       "5659                             0                       0   \n",
       "5660                             0                       0   \n",
       "5661                             0                       0   \n",
       "5662                             0                       0   \n",
       "5663                             0                       0   \n",
       "\n",
       "      transmission_Manual  \n",
       "0                       1  \n",
       "1                       1  \n",
       "2                       1  \n",
       "3                       1  \n",
       "4                       1  \n",
       "...                   ...  \n",
       "5659                    1  \n",
       "5660                    1  \n",
       "5661                    1  \n",
       "5662                    1  \n",
       "5663                    1  \n",
       "\n",
       "[5664 rows x 12 columns]"
      ]
     },
     "execution_count": 80,
     "metadata": {},
     "output_type": "execute_result"
    }
   ],
   "source": [
    "df = pd.read_csv('CAR DETAILS FROM CAR DEKHO.csv') #Import raw data\n",
    "df = df.set_index('name') #Index each observation by the Car Model\n",
    "df['owner'] = df['owner'].apply(lambda x:0 if x == \"First Owner\" else 1).astype(int) # 0 means one previous owner (car is on the newer side)\n",
    "# 1 means two or more previous owner and car is on the older side. This definition seems clear and more simplified\n",
    "df['fuel'] = df['fuel'].apply(lambda x:'Petrol' if x == 'Petrol' else ('Diesel' if x == 'Diesel' else 'Other'))\n",
    "#Simplify fuel types into 3 categories. Any fuel type that isn't petrol/diesel make up <10% of the dataset and should be lumped as other instead\n",
    "df = pd.get_dummies(df, columns = ['fuel','seller_type','transmission']) #Make dummy variables for categorical variables so we can model with the data\n",
    "df['year'] = 2023 - df['year'] #Transform year column into a variable representing a car's age\n",
    "df.columns.values[0] = 'Age'\n",
    "owner = df.pop('owner') #Move owner column to front\n",
    "df.insert(0,'owner',owner)\n",
    "for i in ['Age','selling_price','km_driven']: #Standardize and scale these columns so k-NN will perform better\n",
    "    df[i] = (df[i]-df[i].mean())/df[i].std()\n",
    "ros = RandomOverSampler() #Balance the dataset\n",
    "X_os, y_os = ros.fit_resample(df.iloc[:,1:], df.iloc[:,0])\n",
    "X_os.insert(0,'Owners',y_os)\n",
    "df = X_os\n",
    "df"
   ]
  },
  {
   "cell_type": "markdown",
   "id": "ee12de47",
   "metadata": {},
   "source": [
    "# k-NN (Best Classifcation Model)"
   ]
  },
  {
   "cell_type": "code",
   "execution_count": 81,
   "id": "63ff9a6d",
   "metadata": {},
   "outputs": [],
   "source": [
    "X_train, X_test, y_train, y_test = train_test_split(df.iloc[:,1:], df.iloc[:,0], test_size = .2, random_state = 0) #Split dataset"
   ]
  },
  {
   "cell_type": "code",
   "execution_count": 23,
   "id": "2bf5d184",
   "metadata": {},
   "outputs": [
    {
     "name": "stdout",
     "output_type": "stream",
     "text": [
      "Optimal Hyper-parameters :  {'n_neighbors': 1}\n",
      "Optimal Accuracy :  0.8216754163715618\n"
     ]
    }
   ],
   "source": [
    "knn = KNeighborsClassifier(n_neighbors=1) #k-NN model\n",
    "grid = GridSearchCV(knn, param_grid = {'n_neighbors':list(range(1,1000,2))}, n_jobs = -1) #Perform grid search to tune hyperparameter k\n",
    "grid.fit(X_train,y_train)\n",
    "print(\"Optimal Hyper-parameters : \", grid.best_params_)\n",
    "print(\"Optimal Accuracy : \", grid.best_score_)"
   ]
  },
  {
   "cell_type": "code",
   "execution_count": 67,
   "id": "dfa0c85c",
   "metadata": {},
   "outputs": [],
   "source": [
    "Accuracy = {}\n",
    "for i in range(1,1000,2): #Allow k to be odd to prevent ties #Compare accuracy among different k\n",
    "    knn = KNeighborsClassifier(n_neighbors=i) \n",
    "    knn.fit(X_train,y_train)\n",
    "    y_pred = knn.predict(X_test)\n",
    "    Accuracy[i] = accuracy_score(y_test,y_pred)"
   ]
  },
  {
   "cell_type": "code",
   "execution_count": 72,
   "id": "00b0e627",
   "metadata": {},
   "outputs": [],
   "source": [
    "k = np.array(list(Accuracy.keys())) #hyperparameter k\n",
    "Acc = np.array(list(Accuracy.values())) #Corresponding Accuracy Values"
   ]
  },
  {
   "cell_type": "code",
   "execution_count": 77,
   "id": "cf721a9f",
   "metadata": {},
   "outputs": [
    {
     "data": {
      "text/plain": [
       "[Text(0.5, 1.0, 'k-NN Accuracy Plot'),\n",
       " Text(0.5, 0, 'k'),\n",
       " Text(0, 0.5, 'Accuracy')]"
      ]
     },
     "execution_count": 77,
     "metadata": {},
     "output_type": "execute_result"
    },
    {
     "data": {
      "image/png": "[encoded data removed]",
      "text/plain": [
       "<Figure size 432x288 with 1 Axes>"
      ]
     },
     "metadata": {
      "needs_background": "light"
     },
     "output_type": "display_data"
    }
   ],
   "source": [
    "ax = sns.lineplot(x = k, y = Acc) #Visualize the values of k and their corresponding accuracy\n",
    "ax.set(title = 'k-NN Accuracy Plot',xlabel = 'k',ylabel = 'Accuracy')"
   ]
  },
  {
   "cell_type": "code",
   "execution_count": 82,
   "id": "d9319cce",
   "metadata": {},
   "outputs": [
    {
     "name": "stdout",
     "output_type": "stream",
     "text": [
      "              precision    recall  f1-score   support\n",
      "\n",
      "           0       0.91      0.78      0.84       583\n",
      "           1       0.80      0.92      0.86       550\n",
      "\n",
      "    accuracy                           0.85      1133\n",
      "   macro avg       0.86      0.85      0.85      1133\n",
      "weighted avg       0.86      0.85      0.85      1133\n",
      "\n"
     ]
    }
   ],
   "source": [
    "knn = KNeighborsClassifier(n_neighbors=1) #Model works best when k = 1 now fit the model\n",
    "knn.fit(X_train,y_train)\n",
    "y_pred = knn.predict(X_test)\n",
    "print(classification_report(y_test,y_pred))"
   ]
  },
  {
   "cell_type": "code",
   "execution_count": 31,
   "id": "5483e1c7",
   "metadata": {},
   "outputs": [
    {
     "data": {
      "text/plain": [
       "<sklearn.metrics._plot.confusion_matrix.ConfusionMatrixDisplay at 0x7f79427b7e20>"
      ]
     },
     "execution_count": 31,
     "metadata": {},
     "output_type": "execute_result"
    },
    {
     "data": {
      "image/png": "[encoded data removed]",
      "text/plain": [
       "<Figure size 432x288 with 2 Axes>"
      ]
     },
     "metadata": {
      "needs_background": "light"
     },
     "output_type": "display_data"
    }
   ],
   "source": [
    "cm = ConfusionMatrixDisplay(confusion_matrix(y_test,y_pred))\n",
    "cm.plot()"
   ]
  },
  {
   "cell_type": "code",
   "execution_count": 32,
   "id": "a6002fbd",
   "metadata": {},
   "outputs": [
    {
     "name": "stdout",
     "output_type": "stream",
     "text": [
      "Accuracy\n",
      "[0.80246914 0.8377425  0.84303351 0.80599647 0.77915194 0.90459364\n",
      " 0.88339223 0.87809187 0.87102473 0.91696113]\n",
      "Average Accuracy =  0.8522457170278136\n"
     ]
    }
   ],
   "source": [
    "CV = cross_validate(knn,df.iloc[:,1:], df.iloc[:,0], cv=10, scoring=['accuracy']) #Ensure model generalizes well by checking 10-fold CV\n",
    "print('Accuracy')\n",
    "print(CV['test_accuracy'])\n",
    "print('Average Accuracy = ', sum(CV['test_accuracy']) / len(CV['test_accuracy']))"
   ]
  },
  {
   "cell_type": "code",
   "execution_count": 83,
   "id": "af7e4a56",
   "metadata": {},
   "outputs": [],
   "source": [
    "pickle.dump(knn, open(\"knn.pkl\", \"wb\"))"
   ]
  },
  {
   "cell_type": "code",
   "execution_count": 84,
   "id": "9caaebf4",
   "metadata": {},
   "outputs": [
    {
     "data": {
      "text/plain": [
       "Owners                           1.000000\n",
       "Age                              5.003336\n",
       "selling_price                   14.511954\n",
       "km_driven                       15.873030\n",
       "fuel_Diesel                      1.000000\n",
       "fuel_Other                       1.000000\n",
       "fuel_Petrol                      1.000000\n",
       "seller_type_Dealer               1.000000\n",
       "seller_type_Individual           1.000000\n",
       "seller_type_Trustmark Dealer     1.000000\n",
       "transmission_Automatic           1.000000\n",
       "transmission_Manual              1.000000\n",
       "dtype: float64"
      ]
     },
     "execution_count": 84,
     "metadata": {},
     "output_type": "execute_result"
    }
   ],
   "source": [
    "df.max(axis = 0)"
   ]
  },
  {
   "cell_type": "code",
   "execution_count": 85,
   "id": "85bc6788",
   "metadata": {},
   "outputs": [
    {
     "data": {
      "text/plain": [
       "Owners                          0.000000\n",
       "Age                            -1.639064\n",
       "selling_price                  -0.836796\n",
       "km_driven                      -1.419574\n",
       "fuel_Diesel                     0.000000\n",
       "fuel_Other                      0.000000\n",
       "fuel_Petrol                     0.000000\n",
       "seller_type_Dealer              0.000000\n",
       "seller_type_Individual          0.000000\n",
       "seller_type_Trustmark Dealer    0.000000\n",
       "transmission_Automatic          0.000000\n",
       "transmission_Manual             0.000000\n",
       "dtype: float64"
      ]
     },
     "execution_count": 85,
     "metadata": {},
     "output_type": "execute_result"
    }
   ],
   "source": [
    "df.min(axis = 0)"
   ]
  },
  {
   "cell_type": "markdown",
   "id": "87aba9c2",
   "metadata": {},
   "source": [
    "# Logistic Regression"
   ]
  },
  {
   "cell_type": "code",
   "execution_count": 113,
   "id": "4bf0b92f",
   "metadata": {},
   "outputs": [],
   "source": [
    "df = pd.read_csv('CAR DETAILS FROM CAR DEKHO.csv') #Import raw data\n",
    "df = df.set_index('name') #Index each observation by the Car Model\n",
    "df['owner'] = df['owner'].apply(lambda x:0 if x == \"First Owner\" else 1).astype(int) # 0 means one previous owner (car is on the newer side)\n",
    "# 1 means two or more previous owner and car is on the older side. This definition seems clear and more simplified\n",
    "df['fuel'] = df['fuel'].apply(lambda x:'Petrol' if x == 'Petrol' else ('Diesel' if x == 'Diesel' else 'Other'))\n",
    "#Simplify fuel types into 3 categories. Any fuel type that isn't petrol/diesel make up <10% of the dataset and should be lumped as other instead\n",
    "df = pd.get_dummies(df, columns = ['fuel','seller_type','transmission']) #Make dummy variables for categorical variables so we can model with the data\n",
    "df['year'] = 2023 - df['year'] #Transform year column into a variable representing a car's age\n",
    "df.columns.values[0] = 'Age'\n",
    "owner = df.pop('owner') #Move owner column to front\n",
    "df.insert(0,'owner',owner)\n",
    "ros = RandomOverSampler() #Balance the dataset\n",
    "X_os, y_os = ros.fit_resample(df.iloc[:,1:], df.iloc[:,0])\n",
    "X_os.insert(0,'Owners',y_os)\n",
    "df = X_os\n",
    "for i in ['Age','selling_price','km_driven']: #Standardize and scale these columns so k-NN will perform better\n",
    "    df[i] = (df[i]-df[i].mean())/df[i].std()\n",
    "df = df.drop(columns = ['transmission_Automatic','seller_type_Dealer','fuel_Other']) #Drop some dummy variables so we\n",
    "#have k - 1 variables for k levels and to prevent Singularity Issues"
   ]
  },
  {
   "cell_type": "code",
   "execution_count": 114,
   "id": "1b9e91a5",
   "metadata": {},
   "outputs": [
    {
     "data": {
      "text/html": [
       "<div>\n",
       "<style scoped>\n",
       "    .dataframe tbody tr th:only-of-type {\n",
       "        vertical-align: middle;\n",
       "    }\n",
       "\n",
       "    .dataframe tbody tr th {\n",
       "        vertical-align: top;\n",
       "    }\n",
       "\n",
       "    .dataframe thead th {\n",
       "        text-align: right;\n",
       "    }\n",
       "</style>\n",
       "<table border=\"1\" class=\"dataframe\">\n",
       "  <thead>\n",
       "    <tr style=\"text-align: right;\">\n",
       "      <th></th>\n",
       "      <th>Owners</th>\n",
       "      <th>Age</th>\n",
       "      <th>selling_price</th>\n",
       "      <th>km_driven</th>\n",
       "      <th>fuel_Diesel</th>\n",
       "      <th>fuel_Petrol</th>\n",
       "      <th>seller_type_Individual</th>\n",
       "      <th>seller_type_Trustmark Dealer</th>\n",
       "      <th>transmission_Manual</th>\n",
       "    </tr>\n",
       "  </thead>\n",
       "  <tbody>\n",
       "    <tr>\n",
       "      <th>0</th>\n",
       "      <td>0</td>\n",
       "      <td>1.293836</td>\n",
       "      <td>-0.763019</td>\n",
       "      <td>-0.006599</td>\n",
       "      <td>0</td>\n",
       "      <td>1</td>\n",
       "      <td>1</td>\n",
       "      <td>0</td>\n",
       "      <td>1</td>\n",
       "    </tr>\n",
       "    <tr>\n",
       "      <th>1</th>\n",
       "      <td>0</td>\n",
       "      <td>1.293836</td>\n",
       "      <td>-0.621461</td>\n",
       "      <td>-0.432569</td>\n",
       "      <td>0</td>\n",
       "      <td>1</td>\n",
       "      <td>1</td>\n",
       "      <td>0</td>\n",
       "      <td>1</td>\n",
       "    </tr>\n",
       "    <tr>\n",
       "      <th>2</th>\n",
       "      <td>0</td>\n",
       "      <td>0.129100</td>\n",
       "      <td>0.256195</td>\n",
       "      <td>0.632355</td>\n",
       "      <td>1</td>\n",
       "      <td>0</td>\n",
       "      <td>1</td>\n",
       "      <td>0</td>\n",
       "      <td>1</td>\n",
       "    </tr>\n",
       "    <tr>\n",
       "      <th>3</th>\n",
       "      <td>0</td>\n",
       "      <td>-1.035636</td>\n",
       "      <td>-0.404406</td>\n",
       "      <td>-0.517762</td>\n",
       "      <td>0</td>\n",
       "      <td>1</td>\n",
       "      <td>1</td>\n",
       "      <td>0</td>\n",
       "      <td>1</td>\n",
       "    </tr>\n",
       "    <tr>\n",
       "      <th>4</th>\n",
       "      <td>1</td>\n",
       "      <td>-0.336795</td>\n",
       "      <td>-0.026920</td>\n",
       "      <td>1.505592</td>\n",
       "      <td>1</td>\n",
       "      <td>0</td>\n",
       "      <td>1</td>\n",
       "      <td>0</td>\n",
       "      <td>1</td>\n",
       "    </tr>\n",
       "    <tr>\n",
       "      <th>...</th>\n",
       "      <td>...</td>\n",
       "      <td>...</td>\n",
       "      <td>...</td>\n",
       "      <td>...</td>\n",
       "      <td>...</td>\n",
       "      <td>...</td>\n",
       "      <td>...</td>\n",
       "      <td>...</td>\n",
       "      <td>...</td>\n",
       "    </tr>\n",
       "    <tr>\n",
       "      <th>5659</th>\n",
       "      <td>1</td>\n",
       "      <td>0.362047</td>\n",
       "      <td>-0.555401</td>\n",
       "      <td>-0.645553</td>\n",
       "      <td>0</td>\n",
       "      <td>1</td>\n",
       "      <td>1</td>\n",
       "      <td>0</td>\n",
       "      <td>1</td>\n",
       "    </tr>\n",
       "    <tr>\n",
       "      <th>5660</th>\n",
       "      <td>1</td>\n",
       "      <td>0.827942</td>\n",
       "      <td>-0.725270</td>\n",
       "      <td>0.419370</td>\n",
       "      <td>0</td>\n",
       "      <td>0</td>\n",
       "      <td>1</td>\n",
       "      <td>0</td>\n",
       "      <td>1</td>\n",
       "    </tr>\n",
       "    <tr>\n",
       "      <th>5661</th>\n",
       "      <td>1</td>\n",
       "      <td>1.526783</td>\n",
       "      <td>-0.696958</td>\n",
       "      <td>0.845339</td>\n",
       "      <td>0</td>\n",
       "      <td>1</td>\n",
       "      <td>1</td>\n",
       "      <td>0</td>\n",
       "      <td>1</td>\n",
       "    </tr>\n",
       "    <tr>\n",
       "      <th>5662</th>\n",
       "      <td>1</td>\n",
       "      <td>0.129100</td>\n",
       "      <td>-0.461029</td>\n",
       "      <td>-0.006599</td>\n",
       "      <td>1</td>\n",
       "      <td>0</td>\n",
       "      <td>1</td>\n",
       "      <td>0</td>\n",
       "      <td>1</td>\n",
       "    </tr>\n",
       "    <tr>\n",
       "      <th>5663</th>\n",
       "      <td>1</td>\n",
       "      <td>2.691520</td>\n",
       "      <td>-0.102419</td>\n",
       "      <td>-0.446221</td>\n",
       "      <td>0</td>\n",
       "      <td>1</td>\n",
       "      <td>1</td>\n",
       "      <td>0</td>\n",
       "      <td>1</td>\n",
       "    </tr>\n",
       "  </tbody>\n",
       "</table>\n",
       "<p>5664 rows × 9 columns</p>\n",
       "</div>"
      ],
      "text/plain": [
       "      Owners       Age  selling_price  km_driven  fuel_Diesel  fuel_Petrol  \\\n",
       "0          0  1.293836      -0.763019  -0.006599            0            1   \n",
       "1          0  1.293836      -0.621461  -0.432569            0            1   \n",
       "2          0  0.129100       0.256195   0.632355            1            0   \n",
       "3          0 -1.035636      -0.404406  -0.517762            0            1   \n",
       "4          1 -0.336795      -0.026920   1.505592            1            0   \n",
       "...      ...       ...            ...        ...          ...          ...   \n",
       "5659       1  0.362047      -0.555401  -0.645553            0            1   \n",
       "5660       1  0.827942      -0.725270   0.419370            0            0   \n",
       "5661       1  1.526783      -0.696958   0.845339            0            1   \n",
       "5662       1  0.129100      -0.461029  -0.006599            1            0   \n",
       "5663       1  2.691520      -0.102419  -0.446221            0            1   \n",
       "\n",
       "      seller_type_Individual  seller_type_Trustmark Dealer  \\\n",
       "0                          1                             0   \n",
       "1                          1                             0   \n",
       "2                          1                             0   \n",
       "3                          1                             0   \n",
       "4                          1                             0   \n",
       "...                      ...                           ...   \n",
       "5659                       1                             0   \n",
       "5660                       1                             0   \n",
       "5661                       1                             0   \n",
       "5662                       1                             0   \n",
       "5663                       1                             0   \n",
       "\n",
       "      transmission_Manual  \n",
       "0                       1  \n",
       "1                       1  \n",
       "2                       1  \n",
       "3                       1  \n",
       "4                       1  \n",
       "...                   ...  \n",
       "5659                    1  \n",
       "5660                    1  \n",
       "5661                    1  \n",
       "5662                    1  \n",
       "5663                    1  \n",
       "\n",
       "[5664 rows x 9 columns]"
      ]
     },
     "execution_count": 114,
     "metadata": {},
     "output_type": "execute_result"
    }
   ],
   "source": [
    "df"
   ]
  },
  {
   "cell_type": "code",
   "execution_count": 115,
   "id": "96850166",
   "metadata": {},
   "outputs": [],
   "source": [
    "X_train, X_test, y_train, y_test = train_test_split(df.iloc[:,1:], df.iloc[:,0], test_size = .2, random_state = 0) #Split dataset"
   ]
  },
  {
   "cell_type": "code",
   "execution_count": 116,
   "id": "dd635617",
   "metadata": {},
   "outputs": [
    {
     "name": "stdout",
     "output_type": "stream",
     "text": [
      "              precision    recall  f1-score   support\n",
      "\n",
      "           0       0.76      0.71      0.73       583\n",
      "           1       0.71      0.76      0.74       550\n",
      "\n",
      "    accuracy                           0.73      1133\n",
      "   macro avg       0.74      0.74      0.73      1133\n",
      "weighted avg       0.74      0.73      0.73      1133\n",
      "\n"
     ]
    },
    {
     "data": {
      "text/plain": [
       "<sklearn.metrics._plot.confusion_matrix.ConfusionMatrixDisplay at 0x7f795392cfa0>"
      ]
     },
     "execution_count": 116,
     "metadata": {},
     "output_type": "execute_result"
    },
    {
     "data": {
      "image/png": "[encoded data removed]",
      "text/plain": [
       "<Figure size 432x288 with 2 Axes>"
      ]
     },
     "metadata": {
      "needs_background": "light"
     },
     "output_type": "display_data"
    }
   ],
   "source": [
    "logreg = LogisticRegression() #Fit a logistic regression with default threshold\n",
    "logreg.fit(X_train,y_train)\n",
    "y_pred = logreg.predict(X_test)\n",
    "print(classification_report(y_test,y_pred))\n",
    "cm = ConfusionMatrixDisplay(confusion_matrix(y_test,y_pred)) #Make Confusion Matrix\n",
    "cm.plot()"
   ]
  },
  {
   "cell_type": "code",
   "execution_count": 117,
   "id": "f2c87d3d",
   "metadata": {},
   "outputs": [
    {
     "data": {
      "text/plain": [
       "0.7923545922345236"
      ]
     },
     "execution_count": 117,
     "metadata": {},
     "output_type": "execute_result"
    }
   ],
   "source": [
    "y_pred = logreg.predict_proba(X_test) \n",
    "y_pred = y_pred[::,1]#Extract sigmoid probabilities\n",
    "fpr, tpr, _ = roc_curve(y_test,  y_pred) #Calculate fpr and tpr for each threshold to make roc curve\n",
    "auc = roc_auc_score(y_test, y_pred) #Get AUC to evaulate model\n",
    "auc #AUC of roughly .8 Model performs fairly well"
   ]
  },
  {
   "cell_type": "code",
   "execution_count": 118,
   "id": "9a443bca",
   "metadata": {},
   "outputs": [
    {
     "data": {
      "image/png": "[encoded data removed]",
      "text/plain": [
       "<Figure size 432x288 with 1 Axes>"
      ]
     },
     "metadata": {
      "needs_background": "light"
     },
     "output_type": "display_data"
    }
   ],
   "source": [
    "plt.plot(fpr,tpr,label=\"AUC=\"+str(auc)) #Plot ROC curve\n",
    "plt.ylabel('True Positive Rate')\n",
    "plt.xlabel('False Positive Rate')\n",
    "plt.legend(loc=4)\n",
    "plt.show()"
   ]
  },
  {
   "cell_type": "code",
   "execution_count": 119,
   "id": "3d8c833b",
   "metadata": {},
   "outputs": [
    {
     "data": {
      "text/plain": [
       "0.4739625135794001"
      ]
     },
     "execution_count": 119,
     "metadata": {},
     "output_type": "execute_result"
    }
   ],
   "source": [
    "optimal_idx = np.argmax(tpr - fpr) #Find the optimal threshold\n",
    "optimal_threshold = _[optimal_idx]\n",
    "optimal_threshold"
   ]
  },
  {
   "cell_type": "code",
   "execution_count": 120,
   "id": "6e0308b4",
   "metadata": {},
   "outputs": [],
   "source": [
    "y_pred = (y_pred > optimal_threshold).astype(int) #Compare probabilites to optimal threshold for classification"
   ]
  },
  {
   "cell_type": "code",
   "execution_count": 121,
   "id": "a2715081",
   "metadata": {},
   "outputs": [
    {
     "name": "stdout",
     "output_type": "stream",
     "text": [
      "              precision    recall  f1-score   support\n",
      "\n",
      "           0       0.78      0.69      0.73       583\n",
      "           1       0.71      0.80      0.75       550\n",
      "\n",
      "    accuracy                           0.74      1133\n",
      "   macro avg       0.75      0.74      0.74      1133\n",
      "weighted avg       0.75      0.74      0.74      1133\n",
      "\n"
     ]
    }
   ],
   "source": [
    "print(classification_report(y_test,y_pred))"
   ]
  },
  {
   "cell_type": "code",
   "execution_count": 122,
   "id": "62494cd1",
   "metadata": {},
   "outputs": [
    {
     "data": {
      "text/plain": [
       "<sklearn.metrics._plot.confusion_matrix.ConfusionMatrixDisplay at 0x7f78f1a900a0>"
      ]
     },
     "execution_count": 122,
     "metadata": {},
     "output_type": "execute_result"
    },
    {
     "data": {
      "image/png": "[encoded data removed]",
      "text/plain": [
       "<Figure size 432x288 with 2 Axes>"
      ]
     },
     "metadata": {
      "needs_background": "light"
     },
     "output_type": "display_data"
    }
   ],
   "source": [
    "cm = ConfusionMatrixDisplay(confusion_matrix(y_test,y_pred)) #Make Confusion Matrix\n",
    "cm.plot()"
   ]
  },
  {
   "cell_type": "markdown",
   "id": "7665a9db",
   "metadata": {},
   "source": [
    "The optimal threshold is close to .5 so for simplicity sake, let's implement the built in .5 threshold model."
   ]
  },
  {
   "cell_type": "code",
   "execution_count": 123,
   "id": "48a9ac10",
   "metadata": {},
   "outputs": [],
   "source": [
    "pickle.dump(logreg, open(\"logreg.pkl\", \"wb\"))"
   ]
  },
  {
   "cell_type": "code",
   "execution_count": 124,
   "id": "94261513",
   "metadata": {},
   "outputs": [
    {
     "data": {
      "text/plain": [
       "Owners                           1.000000\n",
       "Age                              4.788045\n",
       "selling_price                   15.921888\n",
       "km_driven                       15.681830\n",
       "fuel_Diesel                      1.000000\n",
       "fuel_Petrol                      1.000000\n",
       "seller_type_Individual           1.000000\n",
       "seller_type_Trustmark Dealer     1.000000\n",
       "transmission_Manual              1.000000\n",
       "dtype: float64"
      ]
     },
     "execution_count": 124,
     "metadata": {},
     "output_type": "execute_result"
    }
   ],
   "source": [
    "df.max(axis = 0)"
   ]
  },
  {
   "cell_type": "code",
   "execution_count": 125,
   "id": "c7b7c4ac",
   "metadata": {},
   "outputs": [
    {
     "data": {
      "text/plain": [
       "Owners                          0.000000\n",
       "Age                            -1.734478\n",
       "selling_price                  -0.838516\n",
       "km_driven                      -1.497471\n",
       "fuel_Diesel                     0.000000\n",
       "fuel_Petrol                     0.000000\n",
       "seller_type_Individual          0.000000\n",
       "seller_type_Trustmark Dealer    0.000000\n",
       "transmission_Manual             0.000000\n",
       "dtype: float64"
      ]
     },
     "execution_count": 125,
     "metadata": {},
     "output_type": "execute_result"
    }
   ],
   "source": [
    "df.min(axis = 0)"
   ]
  },
  {
   "cell_type": "code",
   "execution_count": null,
   "id": "47d49a51",
   "metadata": {},
   "outputs": [],
   "source": []
  }
 ],
 "metadata": {
  "kernelspec": {
   "display_name": "Python 3 (ipykernel)",
   "language": "python",
   "name": "python3"
  },
  "language_info": {
   "codemirror_mode": {
    "name": "ipython",
    "version": 3
   },
   "file_extension": ".py",
   "mimetype": "text/x-python",
   "name": "python",
   "nbconvert_exporter": "python",
   "pygments_lexer": "ipython3",
   "version": "3.9.12"
  }
 },
 "nbformat": 4,
 "nbformat_minor": 5
}
