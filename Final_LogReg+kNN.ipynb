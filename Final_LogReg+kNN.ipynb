{
 "cells": [
  {
   "cell_type": "code",
   "execution_count": 85,
   "id": "2ac49ad0",
   "metadata": {},
   "outputs": [],
   "source": [
    "import pandas as pd \n",
    "import numpy as np\n",
    "import seaborn as sns\n",
    "from sklearn.model_selection import train_test_split,cross_validate,GridSearchCV\n",
    "from sklearn.metrics import confusion_matrix, classification_report, roc_curve, roc_auc_score, accuracy_score, ConfusionMatrixDisplay\n",
    "from sklearn.linear_model import LogisticRegression\n",
    "from imblearn.over_sampling import RandomOverSampler\n",
    "from sklearn.neighbors import KNeighborsClassifier\n",
    "import matplotlib.pyplot as plt\n",
    "import pickle"
   ]
  },
  {
   "cell_type": "code",
   "execution_count": 115,
   "id": "bf3e8cd2",
   "metadata": {},
   "outputs": [
    {
     "data": {
      "text/html": [
       "<div>\n",
       "<style scoped>\n",
       "    .dataframe tbody tr th:only-of-type {\n",
       "        vertical-align: middle;\n",
       "    }\n",
       "\n",
       "    .dataframe tbody tr th {\n",
       "        vertical-align: top;\n",
       "    }\n",
       "\n",
       "    .dataframe thead th {\n",
       "        text-align: right;\n",
       "    }\n",
       "</style>\n",
       "<table border=\"1\" class=\"dataframe\">\n",
       "  <thead>\n",
       "    <tr style=\"text-align: right;\">\n",
       "      <th></th>\n",
       "      <th>owner</th>\n",
       "      <th>Age</th>\n",
       "      <th>selling_price</th>\n",
       "      <th>km_driven</th>\n",
       "      <th>fuel_Diesel</th>\n",
       "      <th>fuel_Other</th>\n",
       "      <th>fuel_Petrol</th>\n",
       "      <th>seller_type_Dealer</th>\n",
       "      <th>seller_type_Individual</th>\n",
       "      <th>seller_type_Trustmark Dealer</th>\n",
       "      <th>transmission_Automatic</th>\n",
       "      <th>transmission_Manual</th>\n",
       "    </tr>\n",
       "    <tr>\n",
       "      <th>name</th>\n",
       "      <th></th>\n",
       "      <th></th>\n",
       "      <th></th>\n",
       "      <th></th>\n",
       "      <th></th>\n",
       "      <th></th>\n",
       "      <th></th>\n",
       "      <th></th>\n",
       "      <th></th>\n",
       "      <th></th>\n",
       "      <th></th>\n",
       "      <th></th>\n",
       "    </tr>\n",
       "  </thead>\n",
       "  <tbody>\n",
       "    <tr>\n",
       "      <th>Maruti 800 AC</th>\n",
       "      <td>0</td>\n",
       "      <td>1.444908</td>\n",
       "      <td>-0.767658</td>\n",
       "      <td>0.081130</td>\n",
       "      <td>0</td>\n",
       "      <td>0</td>\n",
       "      <td>1</td>\n",
       "      <td>0</td>\n",
       "      <td>1</td>\n",
       "      <td>0</td>\n",
       "      <td>0</td>\n",
       "      <td>1</td>\n",
       "    </tr>\n",
       "    <tr>\n",
       "      <th>Maruti Wagon R LXI Minor</th>\n",
       "      <td>0</td>\n",
       "      <td>1.444908</td>\n",
       "      <td>-0.638023</td>\n",
       "      <td>-0.347649</td>\n",
       "      <td>0</td>\n",
       "      <td>0</td>\n",
       "      <td>1</td>\n",
       "      <td>0</td>\n",
       "      <td>1</td>\n",
       "      <td>0</td>\n",
       "      <td>0</td>\n",
       "      <td>1</td>\n",
       "    </tr>\n",
       "    <tr>\n",
       "      <th>Hyundai Verna 1.6 SX</th>\n",
       "      <td>0</td>\n",
       "      <td>0.258765</td>\n",
       "      <td>0.165712</td>\n",
       "      <td>0.724298</td>\n",
       "      <td>1</td>\n",
       "      <td>0</td>\n",
       "      <td>0</td>\n",
       "      <td>0</td>\n",
       "      <td>1</td>\n",
       "      <td>0</td>\n",
       "      <td>0</td>\n",
       "      <td>1</td>\n",
       "    </tr>\n",
       "    <tr>\n",
       "      <th>Datsun RediGO T Option</th>\n",
       "      <td>0</td>\n",
       "      <td>-0.927378</td>\n",
       "      <td>-0.439250</td>\n",
       "      <td>-0.433405</td>\n",
       "      <td>0</td>\n",
       "      <td>0</td>\n",
       "      <td>1</td>\n",
       "      <td>0</td>\n",
       "      <td>1</td>\n",
       "      <td>0</td>\n",
       "      <td>0</td>\n",
       "      <td>1</td>\n",
       "    </tr>\n",
       "    <tr>\n",
       "      <th>Honda Amaze VX i-DTEC</th>\n",
       "      <td>1</td>\n",
       "      <td>-0.215692</td>\n",
       "      <td>-0.093557</td>\n",
       "      <td>1.603294</td>\n",
       "      <td>1</td>\n",
       "      <td>0</td>\n",
       "      <td>0</td>\n",
       "      <td>0</td>\n",
       "      <td>1</td>\n",
       "      <td>0</td>\n",
       "      <td>0</td>\n",
       "      <td>1</td>\n",
       "    </tr>\n",
       "    <tr>\n",
       "      <th>...</th>\n",
       "      <td>...</td>\n",
       "      <td>...</td>\n",
       "      <td>...</td>\n",
       "      <td>...</td>\n",
       "      <td>...</td>\n",
       "      <td>...</td>\n",
       "      <td>...</td>\n",
       "      <td>...</td>\n",
       "      <td>...</td>\n",
       "      <td>...</td>\n",
       "      <td>...</td>\n",
       "      <td>...</td>\n",
       "    </tr>\n",
       "    <tr>\n",
       "      <th>Hyundai i20 Magna 1.4 CRDi (Diesel)</th>\n",
       "      <td>1</td>\n",
       "      <td>-0.215692</td>\n",
       "      <td>-0.162697</td>\n",
       "      <td>0.295519</td>\n",
       "      <td>1</td>\n",
       "      <td>0</td>\n",
       "      <td>0</td>\n",
       "      <td>0</td>\n",
       "      <td>1</td>\n",
       "      <td>0</td>\n",
       "      <td>0</td>\n",
       "      <td>1</td>\n",
       "    </tr>\n",
       "    <tr>\n",
       "      <th>Hyundai i20 Magna 1.4 CRDi</th>\n",
       "      <td>1</td>\n",
       "      <td>-0.215692</td>\n",
       "      <td>-0.162697</td>\n",
       "      <td>0.295519</td>\n",
       "      <td>1</td>\n",
       "      <td>0</td>\n",
       "      <td>0</td>\n",
       "      <td>0</td>\n",
       "      <td>1</td>\n",
       "      <td>0</td>\n",
       "      <td>0</td>\n",
       "      <td>1</td>\n",
       "    </tr>\n",
       "    <tr>\n",
       "      <th>Maruti 800 AC BSIII</th>\n",
       "      <td>1</td>\n",
       "      <td>0.970451</td>\n",
       "      <td>-0.681234</td>\n",
       "      <td>0.359836</td>\n",
       "      <td>0</td>\n",
       "      <td>0</td>\n",
       "      <td>1</td>\n",
       "      <td>0</td>\n",
       "      <td>1</td>\n",
       "      <td>0</td>\n",
       "      <td>0</td>\n",
       "      <td>1</td>\n",
       "    </tr>\n",
       "    <tr>\n",
       "      <th>Hyundai Creta 1.6 CRDi SX Option</th>\n",
       "      <td>0</td>\n",
       "      <td>-0.690149</td>\n",
       "      <td>0.623755</td>\n",
       "      <td>0.509908</td>\n",
       "      <td>1</td>\n",
       "      <td>0</td>\n",
       "      <td>0</td>\n",
       "      <td>0</td>\n",
       "      <td>1</td>\n",
       "      <td>0</td>\n",
       "      <td>0</td>\n",
       "      <td>1</td>\n",
       "    </tr>\n",
       "    <tr>\n",
       "      <th>Renault KWID RXT</th>\n",
       "      <td>0</td>\n",
       "      <td>-0.690149</td>\n",
       "      <td>-0.482461</td>\n",
       "      <td>-0.562038</td>\n",
       "      <td>0</td>\n",
       "      <td>0</td>\n",
       "      <td>1</td>\n",
       "      <td>0</td>\n",
       "      <td>1</td>\n",
       "      <td>0</td>\n",
       "      <td>0</td>\n",
       "      <td>1</td>\n",
       "    </tr>\n",
       "  </tbody>\n",
       "</table>\n",
       "<p>4340 rows × 12 columns</p>\n",
       "</div>"
      ],
      "text/plain": [
       "                                     owner       Age  selling_price  \\\n",
       "name                                                                  \n",
       "Maruti 800 AC                            0  1.444908      -0.767658   \n",
       "Maruti Wagon R LXI Minor                 0  1.444908      -0.638023   \n",
       "Hyundai Verna 1.6 SX                     0  0.258765       0.165712   \n",
       "Datsun RediGO T Option                   0 -0.927378      -0.439250   \n",
       "Honda Amaze VX i-DTEC                    1 -0.215692      -0.093557   \n",
       "...                                    ...       ...            ...   \n",
       "Hyundai i20 Magna 1.4 CRDi (Diesel)      1 -0.215692      -0.162697   \n",
       "Hyundai i20 Magna 1.4 CRDi               1 -0.215692      -0.162697   \n",
       "Maruti 800 AC BSIII                      1  0.970451      -0.681234   \n",
       "Hyundai Creta 1.6 CRDi SX Option         0 -0.690149       0.623755   \n",
       "Renault KWID RXT                         0 -0.690149      -0.482461   \n",
       "\n",
       "                                     km_driven  fuel_Diesel  fuel_Other  \\\n",
       "name                                                                      \n",
       "Maruti 800 AC                         0.081130            0           0   \n",
       "Maruti Wagon R LXI Minor             -0.347649            0           0   \n",
       "Hyundai Verna 1.6 SX                  0.724298            1           0   \n",
       "Datsun RediGO T Option               -0.433405            0           0   \n",
       "Honda Amaze VX i-DTEC                 1.603294            1           0   \n",
       "...                                        ...          ...         ...   \n",
       "Hyundai i20 Magna 1.4 CRDi (Diesel)   0.295519            1           0   \n",
       "Hyundai i20 Magna 1.4 CRDi            0.295519            1           0   \n",
       "Maruti 800 AC BSIII                   0.359836            0           0   \n",
       "Hyundai Creta 1.6 CRDi SX Option      0.509908            1           0   \n",
       "Renault KWID RXT                     -0.562038            0           0   \n",
       "\n",
       "                                     fuel_Petrol  seller_type_Dealer  \\\n",
       "name                                                                   \n",
       "Maruti 800 AC                                  1                   0   \n",
       "Maruti Wagon R LXI Minor                       1                   0   \n",
       "Hyundai Verna 1.6 SX                           0                   0   \n",
       "Datsun RediGO T Option                         1                   0   \n",
       "Honda Amaze VX i-DTEC                          0                   0   \n",
       "...                                          ...                 ...   \n",
       "Hyundai i20 Magna 1.4 CRDi (Diesel)            0                   0   \n",
       "Hyundai i20 Magna 1.4 CRDi                     0                   0   \n",
       "Maruti 800 AC BSIII                            1                   0   \n",
       "Hyundai Creta 1.6 CRDi SX Option               0                   0   \n",
       "Renault KWID RXT                               1                   0   \n",
       "\n",
       "                                     seller_type_Individual  \\\n",
       "name                                                          \n",
       "Maruti 800 AC                                             1   \n",
       "Maruti Wagon R LXI Minor                                  1   \n",
       "Hyundai Verna 1.6 SX                                      1   \n",
       "Datsun RediGO T Option                                    1   \n",
       "Honda Amaze VX i-DTEC                                     1   \n",
       "...                                                     ...   \n",
       "Hyundai i20 Magna 1.4 CRDi (Diesel)                       1   \n",
       "Hyundai i20 Magna 1.4 CRDi                                1   \n",
       "Maruti 800 AC BSIII                                       1   \n",
       "Hyundai Creta 1.6 CRDi SX Option                          1   \n",
       "Renault KWID RXT                                          1   \n",
       "\n",
       "                                     seller_type_Trustmark Dealer  \\\n",
       "name                                                                \n",
       "Maruti 800 AC                                                   0   \n",
       "Maruti Wagon R LXI Minor                                        0   \n",
       "Hyundai Verna 1.6 SX                                            0   \n",
       "Datsun RediGO T Option                                          0   \n",
       "Honda Amaze VX i-DTEC                                           0   \n",
       "...                                                           ...   \n",
       "Hyundai i20 Magna 1.4 CRDi (Diesel)                             0   \n",
       "Hyundai i20 Magna 1.4 CRDi                                      0   \n",
       "Maruti 800 AC BSIII                                             0   \n",
       "Hyundai Creta 1.6 CRDi SX Option                                0   \n",
       "Renault KWID RXT                                                0   \n",
       "\n",
       "                                     transmission_Automatic  \\\n",
       "name                                                          \n",
       "Maruti 800 AC                                             0   \n",
       "Maruti Wagon R LXI Minor                                  0   \n",
       "Hyundai Verna 1.6 SX                                      0   \n",
       "Datsun RediGO T Option                                    0   \n",
       "Honda Amaze VX i-DTEC                                     0   \n",
       "...                                                     ...   \n",
       "Hyundai i20 Magna 1.4 CRDi (Diesel)                       0   \n",
       "Hyundai i20 Magna 1.4 CRDi                                0   \n",
       "Maruti 800 AC BSIII                                       0   \n",
       "Hyundai Creta 1.6 CRDi SX Option                          0   \n",
       "Renault KWID RXT                                          0   \n",
       "\n",
       "                                     transmission_Manual  \n",
       "name                                                      \n",
       "Maruti 800 AC                                          1  \n",
       "Maruti Wagon R LXI Minor                               1  \n",
       "Hyundai Verna 1.6 SX                                   1  \n",
       "Datsun RediGO T Option                                 1  \n",
       "Honda Amaze VX i-DTEC                                  1  \n",
       "...                                                  ...  \n",
       "Hyundai i20 Magna 1.4 CRDi (Diesel)                    1  \n",
       "Hyundai i20 Magna 1.4 CRDi                             1  \n",
       "Maruti 800 AC BSIII                                    1  \n",
       "Hyundai Creta 1.6 CRDi SX Option                       1  \n",
       "Renault KWID RXT                                       1  \n",
       "\n",
       "[4340 rows x 12 columns]"
      ]
     },
     "execution_count": 115,
     "metadata": {},
     "output_type": "execute_result"
    }
   ],
   "source": [
    "df = pd.read_csv('CAR DETAILS FROM CAR DEKHO.csv') #Import raw data\n",
    "df = df.set_index('name') #Index each observation by the Car Model\n",
    "df['selling_price'] =  df['selling_price']/82.41#Convert Rupees to USD\n",
    "df['owner'] = df['owner'].apply(lambda x:0 if x == \"First Owner\" else 1).astype(int) # 0 means one previous owner (car is on the newer side)\n",
    "# 1 means two or more previous owner and car is on the older side. This definition seems clear and more simplified\n",
    "df['fuel'] = df['fuel'].apply(lambda x:'Petrol' if x == 'Petrol' else ('Diesel' if x == 'Diesel' else 'Other'))\n",
    "#Simplify fuel types into 3 categories. Any fuel type that isn't petrol/diesel make up <10% of the dataset and should be lumped as other instead\n",
    "df = pd.get_dummies(df, columns = ['fuel','seller_type','transmission']) #Make dummy variables for categorical variables so we can model with the data\n",
    "df['year'] = 2023 - df['year'] #Transform year column into a variable representing a car's age\n",
    "df.columns.values[0] = 'Age'\n",
    "owner = df.pop('owner') #Move owner column to front\n",
    "df.insert(0,'owner',owner)\n",
    "for i in ['Age','selling_price','km_driven']: #Standardize and scale these columns so k-NN will perform better\n",
    "    df[i] = (df[i]-df[i].mean())/df[i].std()\n",
    "df"
   ]
  },
  {
   "cell_type": "code",
   "execution_count": 116,
   "id": "64e900ec",
   "metadata": {},
   "outputs": [],
   "source": [
    "ones = df[df['owner'] == 1]"
   ]
  },
  {
   "cell_type": "code",
   "execution_count": 117,
   "id": "34d6e65a",
   "metadata": {},
   "outputs": [],
   "source": [
    "zeros = df[df['owner'] == 0].sample(1508, replace = False, random_state = 0)"
   ]
  },
  {
   "cell_type": "code",
   "execution_count": 118,
   "id": "1ae6d6f7",
   "metadata": {},
   "outputs": [],
   "source": [
    "df = pd.concat([zeros,ones])"
   ]
  },
  {
   "cell_type": "markdown",
   "id": "ee12de47",
   "metadata": {},
   "source": [
    "# k-NN (Best Classifcation Model)"
   ]
  },
  {
   "cell_type": "code",
   "execution_count": 119,
   "id": "63ff9a6d",
   "metadata": {},
   "outputs": [],
   "source": [
    "X_train, X_test, y_train, y_test = train_test_split(df.iloc[:,1:], df.iloc[:,0], test_size = .2, random_state = 0) #Split dataset"
   ]
  },
  {
   "cell_type": "code",
   "execution_count": 120,
   "id": "dfa0c85c",
   "metadata": {},
   "outputs": [],
   "source": [
    "Accuracy = {}\n",
    "for i in range(1,1000,2): #Allow k to be odd to prevent ties #Compare accuracy among different k\n",
    "    knn = KNeighborsClassifier(n_neighbors=i) \n",
    "    knn.fit(X_train,y_train)\n",
    "    y_pred = knn.predict(X_test)\n",
    "    Accuracy[i] = accuracy_score(y_test,y_pred)"
   ]
  },
  {
   "cell_type": "code",
   "execution_count": 121,
   "id": "00b0e627",
   "metadata": {},
   "outputs": [],
   "source": [
    "k = np.array(list(Accuracy.keys())) #hyperparameter k\n",
    "Acc = np.array(list(Accuracy.values())) #Corresponding Accuracy Values"
   ]
  },
  {
   "cell_type": "code",
   "execution_count": 122,
   "id": "ecd56bc6",
   "metadata": {},
   "outputs": [
    {
     "data": {
      "text/plain": [
       "12"
      ]
     },
     "execution_count": 122,
     "metadata": {},
     "output_type": "execute_result"
    }
   ],
   "source": [
    "Acc.argmax()"
   ]
  },
  {
   "cell_type": "code",
   "execution_count": 123,
   "id": "1c87263b",
   "metadata": {},
   "outputs": [
    {
     "data": {
      "text/plain": [
       "25"
      ]
     },
     "execution_count": 123,
     "metadata": {},
     "output_type": "execute_result"
    }
   ],
   "source": [
    "k[12]"
   ]
  },
  {
   "cell_type": "code",
   "execution_count": 124,
   "id": "cf721a9f",
   "metadata": {},
   "outputs": [
    {
     "data": {
      "text/plain": [
       "[Text(0.5, 1.0, 'k-NN Accuracy Plot'),\n",
       " Text(0.5, 0, 'k'),\n",
       " Text(0, 0.5, 'Accuracy')]"
      ]
     },
     "execution_count": 124,
     "metadata": {},
     "output_type": "execute_result"
    },
    {
     "data": {
      "image/png": "[encoded data removed]",
      "text/plain": [
       "<Figure size 432x288 with 1 Axes>"
      ]
     },
     "metadata": {
      "needs_background": "light"
     },
     "output_type": "display_data"
    }
   ],
   "source": [
    "ax = sns.lineplot(x = k, y = Acc) #Visualize the values of k and their corresponding accuracy\n",
    "ax.set(title = 'k-NN Accuracy Plot',xlabel = 'k',ylabel = 'Accuracy')#k = 13 works the best"
   ]
  },
  {
   "cell_type": "code",
   "execution_count": 125,
   "id": "d9319cce",
   "metadata": {},
   "outputs": [
    {
     "name": "stdout",
     "output_type": "stream",
     "text": [
      "              precision    recall  f1-score   support\n",
      "\n",
      "           0       0.81      0.73      0.77       320\n",
      "           1       0.73      0.81      0.76       284\n",
      "\n",
      "    accuracy                           0.77       604\n",
      "   macro avg       0.77      0.77      0.77       604\n",
      "weighted avg       0.77      0.77      0.77       604\n",
      "\n"
     ]
    }
   ],
   "source": [
    "knn = KNeighborsClassifier(n_neighbors=25) #Model works best when k = 13 now fit the model\n",
    "knn.fit(X_train,y_train)\n",
    "y_pred = knn.predict(X_test)\n",
    "print(classification_report(y_test,y_pred))"
   ]
  },
  {
   "cell_type": "code",
   "execution_count": 126,
   "id": "5483e1c7",
   "metadata": {},
   "outputs": [
    {
     "data": {
      "text/plain": [
       "<sklearn.metrics._plot.confusion_matrix.ConfusionMatrixDisplay at 0x7fc553391e20>"
      ]
     },
     "execution_count": 126,
     "metadata": {},
     "output_type": "execute_result"
    },
    {
     "data": {
      "image/png": "[encoded data removed]",
      "text/plain": [
       "<Figure size 432x288 with 2 Axes>"
      ]
     },
     "metadata": {
      "needs_background": "light"
     },
     "output_type": "display_data"
    }
   ],
   "source": [
    "cm = ConfusionMatrixDisplay(confusion_matrix(y_test,y_pred))\n",
    "cm.plot()"
   ]
  },
  {
   "cell_type": "code",
   "execution_count": 127,
   "id": "a6002fbd",
   "metadata": {},
   "outputs": [
    {
     "name": "stdout",
     "output_type": "stream",
     "text": [
      "Accuracy\n",
      "[0.7615894  0.71192053 0.81456954 0.75827815 0.79801325 0.70198675\n",
      " 0.73089701 0.72093023 0.72757475 0.78405316]\n",
      "Average Accuracy =  0.75098127653957\n"
     ]
    }
   ],
   "source": [
    "CV = cross_validate(knn,df.iloc[:,1:], df.iloc[:,0], cv=10, scoring=['accuracy']) #Ensure model generalizes well by checking 10-fold CV\n",
    "print('Accuracy')\n",
    "print(CV['test_accuracy'])\n",
    "print('Average Accuracy = ', sum(CV['test_accuracy']) / len(CV['test_accuracy']))"
   ]
  },
  {
   "cell_type": "code",
   "execution_count": 128,
   "id": "af7e4a56",
   "metadata": {},
   "outputs": [],
   "source": [
    "pickle.dump(knn, open(\"knn.pkl\", \"wb\"))"
   ]
  },
  {
   "cell_type": "code",
   "execution_count": 129,
   "id": "9caaebf4",
   "metadata": {},
   "outputs": [
    {
     "data": {
      "text/plain": [
       "owner                            1.000000\n",
       "Age                              5.003336\n",
       "selling_price                   14.511954\n",
       "km_driven                       10.586209\n",
       "fuel_Diesel                      1.000000\n",
       "fuel_Other                       1.000000\n",
       "fuel_Petrol                      1.000000\n",
       "seller_type_Dealer               1.000000\n",
       "seller_type_Individual           1.000000\n",
       "seller_type_Trustmark Dealer     1.000000\n",
       "transmission_Automatic           1.000000\n",
       "transmission_Manual              1.000000\n",
       "dtype: float64"
      ]
     },
     "execution_count": 129,
     "metadata": {},
     "output_type": "execute_result"
    }
   ],
   "source": [
    "df.max(axis = 0)"
   ]
  },
  {
   "cell_type": "code",
   "execution_count": 130,
   "id": "85bc6788",
   "metadata": {},
   "outputs": [
    {
     "data": {
      "text/plain": [
       "owner                           0.000000\n",
       "Age                            -1.639064\n",
       "selling_price                  -0.836796\n",
       "km_driven                      -1.419574\n",
       "fuel_Diesel                     0.000000\n",
       "fuel_Other                      0.000000\n",
       "fuel_Petrol                     0.000000\n",
       "seller_type_Dealer              0.000000\n",
       "seller_type_Individual          0.000000\n",
       "seller_type_Trustmark Dealer    0.000000\n",
       "transmission_Automatic          0.000000\n",
       "transmission_Manual             0.000000\n",
       "dtype: float64"
      ]
     },
     "execution_count": 130,
     "metadata": {},
     "output_type": "execute_result"
    }
   ],
   "source": [
    "df.min(axis = 0)"
   ]
  },
  {
   "cell_type": "markdown",
   "id": "87aba9c2",
   "metadata": {},
   "source": [
    "# Logistic Regression"
   ]
  },
  {
   "cell_type": "code",
   "execution_count": 131,
   "id": "4bf0b92f",
   "metadata": {},
   "outputs": [],
   "source": [
    "df = pd.read_csv('CAR DETAILS FROM CAR DEKHO.csv') #Import raw data\n",
    "df = df.set_index('name') #Index each observation by the Car Model\n",
    "df['selling_price'] =  df['selling_price']/82.41#Convert Rupees to USD\n",
    "df['owner'] = df['owner'].apply(lambda x:0 if x == \"First Owner\" else 1).astype(int) # 0 means one previous owner (car is on the newer side)\n",
    "# 1 means two or more previous owner and car is on the older side. This definition seems clear and more simplified\n",
    "df['fuel'] = df['fuel'].apply(lambda x:'Petrol' if x == 'Petrol' else ('Diesel' if x == 'Diesel' else 'Other'))\n",
    "#Simplify fuel types into 3 categories. Any fuel type that isn't petrol/diesel make up <10% of the dataset and should be lumped as other instead\n",
    "df = pd.get_dummies(df, columns = ['fuel','seller_type','transmission']) #Make dummy variables for categorical variables so we can model with the data\n",
    "df['year'] = 2023 - df['year'] #Transform year column into a variable representing a car's age\n",
    "df.columns.values[0] = 'Age'\n",
    "owner = df.pop('owner') #Move owner column to front\n",
    "df.insert(0,'owner',owner)\n",
    "ros = RandomOverSampler() #Balance the dataset\n",
    "X_os, y_os = ros.fit_resample(df.iloc[:,1:], df.iloc[:,0])\n",
    "X_os.insert(0,'Owners',y_os)\n",
    "df = X_os\n",
    "for i in ['Age','selling_price','km_driven']: #Standardize and scale these columns so k-NN will perform better\n",
    "    df[i] = (df[i]-df[i].mean())/df[i].std()\n",
    "df = df.drop(columns = ['transmission_Automatic','seller_type_Trustmark Dealer','fuel_Other']) #Drop some dummy variables so we\n",
    "#have k - 1 variables for k levels and to prevent Singularity Issues"
   ]
  },
  {
   "cell_type": "code",
   "execution_count": 132,
   "id": "1b9e91a5",
   "metadata": {},
   "outputs": [
    {
     "data": {
      "text/html": [
       "<div>\n",
       "<style scoped>\n",
       "    .dataframe tbody tr th:only-of-type {\n",
       "        vertical-align: middle;\n",
       "    }\n",
       "\n",
       "    .dataframe tbody tr th {\n",
       "        vertical-align: top;\n",
       "    }\n",
       "\n",
       "    .dataframe thead th {\n",
       "        text-align: right;\n",
       "    }\n",
       "</style>\n",
       "<table border=\"1\" class=\"dataframe\">\n",
       "  <thead>\n",
       "    <tr style=\"text-align: right;\">\n",
       "      <th></th>\n",
       "      <th>Owners</th>\n",
       "      <th>Age</th>\n",
       "      <th>selling_price</th>\n",
       "      <th>km_driven</th>\n",
       "      <th>fuel_Diesel</th>\n",
       "      <th>fuel_Petrol</th>\n",
       "      <th>seller_type_Dealer</th>\n",
       "      <th>seller_type_Individual</th>\n",
       "      <th>transmission_Manual</th>\n",
       "    </tr>\n",
       "  </thead>\n",
       "  <tbody>\n",
       "    <tr>\n",
       "      <th>0</th>\n",
       "      <td>0</td>\n",
       "      <td>1.272305</td>\n",
       "      <td>-0.747826</td>\n",
       "      <td>-0.006690</td>\n",
       "      <td>0</td>\n",
       "      <td>1</td>\n",
       "      <td>0</td>\n",
       "      <td>1</td>\n",
       "      <td>1</td>\n",
       "    </tr>\n",
       "    <tr>\n",
       "      <th>1</th>\n",
       "      <td>0</td>\n",
       "      <td>1.272305</td>\n",
       "      <td>-0.610154</td>\n",
       "      <td>-0.437092</td>\n",
       "      <td>0</td>\n",
       "      <td>1</td>\n",
       "      <td>0</td>\n",
       "      <td>1</td>\n",
       "      <td>1</td>\n",
       "    </tr>\n",
       "    <tr>\n",
       "      <th>2</th>\n",
       "      <td>0</td>\n",
       "      <td>0.118331</td>\n",
       "      <td>0.243412</td>\n",
       "      <td>0.638913</td>\n",
       "      <td>1</td>\n",
       "      <td>0</td>\n",
       "      <td>0</td>\n",
       "      <td>1</td>\n",
       "      <td>1</td>\n",
       "    </tr>\n",
       "    <tr>\n",
       "      <th>3</th>\n",
       "      <td>0</td>\n",
       "      <td>-1.035642</td>\n",
       "      <td>-0.399057</td>\n",
       "      <td>-0.523172</td>\n",
       "      <td>0</td>\n",
       "      <td>1</td>\n",
       "      <td>0</td>\n",
       "      <td>1</td>\n",
       "      <td>1</td>\n",
       "    </tr>\n",
       "    <tr>\n",
       "      <th>4</th>\n",
       "      <td>1</td>\n",
       "      <td>-0.343258</td>\n",
       "      <td>-0.031932</td>\n",
       "      <td>1.521237</td>\n",
       "      <td>1</td>\n",
       "      <td>0</td>\n",
       "      <td>0</td>\n",
       "      <td>1</td>\n",
       "      <td>1</td>\n",
       "    </tr>\n",
       "    <tr>\n",
       "      <th>...</th>\n",
       "      <td>...</td>\n",
       "      <td>...</td>\n",
       "      <td>...</td>\n",
       "      <td>...</td>\n",
       "      <td>...</td>\n",
       "      <td>...</td>\n",
       "      <td>...</td>\n",
       "      <td>...</td>\n",
       "      <td>...</td>\n",
       "    </tr>\n",
       "    <tr>\n",
       "      <th>5659</th>\n",
       "      <td>1</td>\n",
       "      <td>3.118662</td>\n",
       "      <td>-0.701936</td>\n",
       "      <td>-0.006690</td>\n",
       "      <td>0</td>\n",
       "      <td>1</td>\n",
       "      <td>0</td>\n",
       "      <td>1</td>\n",
       "      <td>1</td>\n",
       "    </tr>\n",
       "    <tr>\n",
       "      <th>5660</th>\n",
       "      <td>1</td>\n",
       "      <td>-0.343258</td>\n",
       "      <td>0.426974</td>\n",
       "      <td>1.284516</td>\n",
       "      <td>1</td>\n",
       "      <td>0</td>\n",
       "      <td>0</td>\n",
       "      <td>1</td>\n",
       "      <td>1</td>\n",
       "    </tr>\n",
       "    <tr>\n",
       "      <th>5661</th>\n",
       "      <td>1</td>\n",
       "      <td>0.118331</td>\n",
       "      <td>-0.444948</td>\n",
       "      <td>0.854114</td>\n",
       "      <td>0</td>\n",
       "      <td>1</td>\n",
       "      <td>0</td>\n",
       "      <td>1</td>\n",
       "      <td>1</td>\n",
       "    </tr>\n",
       "    <tr>\n",
       "      <th>5662</th>\n",
       "      <td>1</td>\n",
       "      <td>-0.112464</td>\n",
       "      <td>-0.307276</td>\n",
       "      <td>-0.975094</td>\n",
       "      <td>1</td>\n",
       "      <td>0</td>\n",
       "      <td>0</td>\n",
       "      <td>1</td>\n",
       "      <td>1</td>\n",
       "    </tr>\n",
       "    <tr>\n",
       "      <th>5663</th>\n",
       "      <td>1</td>\n",
       "      <td>-0.804848</td>\n",
       "      <td>-0.031932</td>\n",
       "      <td>-0.664882</td>\n",
       "      <td>0</td>\n",
       "      <td>1</td>\n",
       "      <td>0</td>\n",
       "      <td>0</td>\n",
       "      <td>0</td>\n",
       "    </tr>\n",
       "  </tbody>\n",
       "</table>\n",
       "<p>5664 rows × 9 columns</p>\n",
       "</div>"
      ],
      "text/plain": [
       "      Owners       Age  selling_price  km_driven  fuel_Diesel  fuel_Petrol  \\\n",
       "0          0  1.272305      -0.747826  -0.006690            0            1   \n",
       "1          0  1.272305      -0.610154  -0.437092            0            1   \n",
       "2          0  0.118331       0.243412   0.638913            1            0   \n",
       "3          0 -1.035642      -0.399057  -0.523172            0            1   \n",
       "4          1 -0.343258      -0.031932   1.521237            1            0   \n",
       "...      ...       ...            ...        ...          ...          ...   \n",
       "5659       1  3.118662      -0.701936  -0.006690            0            1   \n",
       "5660       1 -0.343258       0.426974   1.284516            1            0   \n",
       "5661       1  0.118331      -0.444948   0.854114            0            1   \n",
       "5662       1 -0.112464      -0.307276  -0.975094            1            0   \n",
       "5663       1 -0.804848      -0.031932  -0.664882            0            1   \n",
       "\n",
       "      seller_type_Dealer  seller_type_Individual  transmission_Manual  \n",
       "0                      0                       1                    1  \n",
       "1                      0                       1                    1  \n",
       "2                      0                       1                    1  \n",
       "3                      0                       1                    1  \n",
       "4                      0                       1                    1  \n",
       "...                  ...                     ...                  ...  \n",
       "5659                   0                       1                    1  \n",
       "5660                   0                       1                    1  \n",
       "5661                   0                       1                    1  \n",
       "5662                   0                       1                    1  \n",
       "5663                   0                       0                    0  \n",
       "\n",
       "[5664 rows x 9 columns]"
      ]
     },
     "execution_count": 132,
     "metadata": {},
     "output_type": "execute_result"
    }
   ],
   "source": [
    "df"
   ]
  },
  {
   "cell_type": "code",
   "execution_count": 133,
   "id": "96850166",
   "metadata": {},
   "outputs": [],
   "source": [
    "X_train, X_test, y_train, y_test = train_test_split(df.iloc[:,1:], df.iloc[:,0], test_size = .2, random_state = 0) #Split dataset"
   ]
  },
  {
   "cell_type": "code",
   "execution_count": 134,
   "id": "dd635617",
   "metadata": {},
   "outputs": [
    {
     "name": "stdout",
     "output_type": "stream",
     "text": [
      "              precision    recall  f1-score   support\n",
      "\n",
      "           0       0.75      0.72      0.73       583\n",
      "           1       0.72      0.74      0.73       550\n",
      "\n",
      "    accuracy                           0.73      1133\n",
      "   macro avg       0.73      0.73      0.73      1133\n",
      "weighted avg       0.73      0.73      0.73      1133\n",
      "\n"
     ]
    },
    {
     "data": {
      "text/plain": [
       "<sklearn.metrics._plot.confusion_matrix.ConfusionMatrixDisplay at 0x7fc520037580>"
      ]
     },
     "execution_count": 134,
     "metadata": {},
     "output_type": "execute_result"
    },
    {
     "data": {
      "image/png": "[encoded data removed]",
      "text/plain": [
       "<Figure size 432x288 with 2 Axes>"
      ]
     },
     "metadata": {
      "needs_background": "light"
     },
     "output_type": "display_data"
    }
   ],
   "source": [
    "logreg = LogisticRegression() #Fit a logistic regression with default threshold\n",
    "logreg.fit(X_train,y_train)\n",
    "y_pred = logreg.predict(X_test)\n",
    "print(classification_report(y_test,y_pred))\n",
    "cm = ConfusionMatrixDisplay(confusion_matrix(y_test,y_pred)) #Make Confusion Matrix\n",
    "cm.plot()"
   ]
  },
  {
   "cell_type": "code",
   "execution_count": 135,
   "id": "f2c87d3d",
   "metadata": {},
   "outputs": [
    {
     "data": {
      "text/plain": [
       "0.780474037112116"
      ]
     },
     "execution_count": 135,
     "metadata": {},
     "output_type": "execute_result"
    }
   ],
   "source": [
    "y_pred = logreg.predict_proba(X_test) \n",
    "y_pred = y_pred[::,1]#Extract sigmoid probabilities\n",
    "fpr, tpr, _ = roc_curve(y_test,  y_pred) #Calculate fpr and tpr for each threshold to make roc curve\n",
    "auc = roc_auc_score(y_test, y_pred) #Get AUC to evaulate model\n",
    "auc #AUC of roughly .8 Model performs fairly well"
   ]
  },
  {
   "cell_type": "code",
   "execution_count": 136,
   "id": "9a443bca",
   "metadata": {},
   "outputs": [
    {
     "data": {
      "image/png": "[encoded data removed]",
      "text/plain": [
       "<Figure size 432x288 with 1 Axes>"
      ]
     },
     "metadata": {
      "needs_background": "light"
     },
     "output_type": "display_data"
    }
   ],
   "source": [
    "plt.plot(fpr,tpr,label=\"AUC=\"+str(auc)) #Plot ROC curve\n",
    "plt.ylabel('True Positive Rate')\n",
    "plt.xlabel('False Positive Rate')\n",
    "plt.legend(loc=4)\n",
    "plt.show()"
   ]
  },
  {
   "cell_type": "code",
   "execution_count": 137,
   "id": "3d8c833b",
   "metadata": {},
   "outputs": [
    {
     "data": {
      "text/plain": [
       "0.4703909878494021"
      ]
     },
     "execution_count": 137,
     "metadata": {},
     "output_type": "execute_result"
    }
   ],
   "source": [
    "optimal_idx = np.argmax(tpr - fpr) #Find the optimal threshold\n",
    "optimal_threshold = _[optimal_idx]\n",
    "optimal_threshold"
   ]
  },
  {
   "cell_type": "code",
   "execution_count": 138,
   "id": "6e0308b4",
   "metadata": {},
   "outputs": [],
   "source": [
    "y_pred = (y_pred > optimal_threshold).astype(int) #Compare probabilites to optimal threshold for classification"
   ]
  },
  {
   "cell_type": "code",
   "execution_count": 139,
   "id": "a2715081",
   "metadata": {},
   "outputs": [
    {
     "name": "stdout",
     "output_type": "stream",
     "text": [
      "              precision    recall  f1-score   support\n",
      "\n",
      "           0       0.77      0.69      0.73       583\n",
      "           1       0.70      0.78      0.74       550\n",
      "\n",
      "    accuracy                           0.73      1133\n",
      "   macro avg       0.74      0.73      0.73      1133\n",
      "weighted avg       0.74      0.73      0.73      1133\n",
      "\n"
     ]
    }
   ],
   "source": [
    "print(classification_report(y_test,y_pred))"
   ]
  },
  {
   "cell_type": "code",
   "execution_count": 140,
   "id": "62494cd1",
   "metadata": {},
   "outputs": [
    {
     "data": {
      "text/plain": [
       "<sklearn.metrics._plot.confusion_matrix.ConfusionMatrixDisplay at 0x7fc553397490>"
      ]
     },
     "execution_count": 140,
     "metadata": {},
     "output_type": "execute_result"
    },
    {
     "data": {
      "image/png": "[encoded data removed]",
      "text/plain": [
       "<Figure size 432x288 with 2 Axes>"
      ]
     },
     "metadata": {
      "needs_background": "light"
     },
     "output_type": "display_data"
    }
   ],
   "source": [
    "cm = ConfusionMatrixDisplay(confusion_matrix(y_test,y_pred)) #Make Confusion Matrix\n",
    "cm.plot()"
   ]
  },
  {
   "cell_type": "markdown",
   "id": "7665a9db",
   "metadata": {},
   "source": [
    "The optimal threshold is close to .5 so for simplicity sake, let's implement the built in .5 threshold model."
   ]
  },
  {
   "cell_type": "code",
   "execution_count": 15,
   "id": "48a9ac10",
   "metadata": {},
   "outputs": [],
   "source": [
    "pickle.dump(logreg, open(\"logreg.pkl\", \"wb\"))"
   ]
  },
  {
   "cell_type": "code",
   "execution_count": 56,
   "id": "94261513",
   "metadata": {},
   "outputs": [
    {
     "data": {
      "text/plain": [
       "Owners                     1.000000\n",
       "Age                        4.673688\n",
       "selling_price             15.786370\n",
       "km_driven                 15.584494\n",
       "fuel_Diesel                1.000000\n",
       "fuel_Petrol                1.000000\n",
       "seller_type_Dealer         1.000000\n",
       "seller_type_Individual     1.000000\n",
       "transmission_Manual        1.000000\n",
       "dtype: float64"
      ]
     },
     "execution_count": 56,
     "metadata": {},
     "output_type": "execute_result"
    }
   ],
   "source": [
    "df.max(axis = 0)"
   ]
  },
  {
   "cell_type": "code",
   "execution_count": 57,
   "id": "c7b7c4ac",
   "metadata": {},
   "outputs": [
    {
     "data": {
      "text/plain": [
       "Owners                    0.000000\n",
       "Age                      -1.718584\n",
       "selling_price            -0.828437\n",
       "km_driven                -1.498339\n",
       "fuel_Diesel               0.000000\n",
       "fuel_Petrol               0.000000\n",
       "seller_type_Dealer        0.000000\n",
       "seller_type_Individual    0.000000\n",
       "transmission_Manual       0.000000\n",
       "dtype: float64"
      ]
     },
     "execution_count": 57,
     "metadata": {},
     "output_type": "execute_result"
    }
   ],
   "source": [
    "df.min(axis = 0)"
   ]
  },
  {
   "cell_type": "code",
   "execution_count": null,
   "id": "47d49a51",
   "metadata": {},
   "outputs": [],
   "source": []
  }
 ],
 "metadata": {
  "kernelspec": {
   "display_name": "Python 3 (ipykernel)",
   "language": "python",
   "name": "python3"
  },
  "language_info": {
   "codemirror_mode": {
    "name": "ipython",
    "version": 3
   },
   "file_extension": ".py",
   "mimetype": "text/x-python",
   "name": "python",
   "nbconvert_exporter": "python",
   "pygments_lexer": "ipython3",
   "version": "3.9.12"
  }
 },
 "nbformat": 4,
 "nbformat_minor": 5
}
