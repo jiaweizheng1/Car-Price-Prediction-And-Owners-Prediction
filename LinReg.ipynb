import pandas as pd

from sklearn.model_selection import train_test_split
from sklearn.linear_model import LinearRegression
%matplotlib inline
import matplotlib.pylab as plt

df = pd.read_csv('Cars.csv)

train, test = train_test_split(df, test_size=0.2, random_state=22)
X_train, y_train = train.drop(columns=['selling_price']), train['selling_price']
X_test, y_test = test.drop(columns=['selling_price']), test['selling_price']

lr_model = LinearRegression()
lr_model.fit(X_train, y_train)

print(f'\nmodel scores: ', lr_model.score(X_test, y_test))
print(f'\nmodel weights: ', lr_model.coef_)
print(f'\nmodel intercept: ', lr_model.intercept_)
#print(f'\npredicting unknown data: ', lr_model.predict(X_test))

y_pred = lr_model.predict(X_test)

plt.plot(y_test, y_pred, '.')

#x = np.linspace(0, 100000000 , 100000000 )
x = np.linspace(0, 2005000, 5000)
y = x
plt.plot(x, y)

plt.show()
